{
  "nbformat": 4,
  "nbformat_minor": 0,
  "metadata": {
    "kernelspec": {
      "display_name": "Python 3",
      "language": "python",
      "name": "python3"
    },
    "language_info": {
      "codemirror_mode": {
        "name": "ipython",
        "version": 3
      },
      "file_extension": ".py",
      "mimetype": "text/x-python",
      "name": "python",
      "nbconvert_exporter": "python",
      "pygments_lexer": "ipython3",
      "version": "3.8.2"
    },
    "colab": {
      "name": "aceleradev_semana2.ipynb",
      "provenance": [],
      "collapsed_sections": []
    }
  },
  "cells": [
    {
      "cell_type": "markdown",
      "metadata": {
        "id": "E2Pi4mwve6wl",
        "colab_type": "text"
      },
      "source": [
        "# AceleraDev Codenation - Semana 2\n",
        "\n",
        "### Túlio Vieira de Souza | Data Scientist"
      ]
    },
    {
      "cell_type": "markdown",
      "metadata": {
        "id": "8zJJ1_aoe6wt",
        "colab_type": "text"
      },
      "source": [
        "## Manipulando dados"
      ]
    },
    {
      "cell_type": "code",
      "metadata": {
        "id": "mSKKuQx9e6w7",
        "colab_type": "code",
        "colab": {}
      },
      "source": [
        "#Importando os pacotes\n",
        "import pandas as pd\n",
        "import numpy as np"
      ],
      "execution_count": null,
      "outputs": []
    },
    {
      "cell_type": "code",
      "metadata": {
        "id": "8jjdTe8Le6xE",
        "colab_type": "code",
        "colab": {}
      },
      "source": [
        "#acessando o help dos pacotes\n",
        "pd?"
      ],
      "execution_count": null,
      "outputs": []
    },
    {
      "cell_type": "markdown",
      "metadata": {
        "id": "W1Sb-nOpe6xR",
        "colab_type": "text"
      },
      "source": [
        "### Dicionarios"
      ]
    },
    {
      "cell_type": "code",
      "metadata": {
        "id": "ZGQK7RNWe6xS",
        "colab_type": "code",
        "colab": {}
      },
      "source": [
        "#Criando um dicionário com os dados\n",
        "dados = {'canal_venda' : ['facebook', 'twitter', 'instagram', 'linkedin', 'facebook'],\n",
        "        'acessos': [100, 200, 300 ,400, 500],\n",
        "        'site': ['site1', 'site1', 'site2', 'site2', 'site3'],\n",
        "        'vendas': [1000.52, 1052.34, 2002, 5000, 300 ]}"
      ],
      "execution_count": null,
      "outputs": []
    },
    {
      "cell_type": "code",
      "metadata": {
        "id": "zpxdCbOQe6xd",
        "colab_type": "code",
        "colab": {
          "base_uri": "https://localhost:8080/",
          "height": 85
        },
        "outputId": "3e693074-2e56-464a-b15f-8d769901a4df"
      },
      "source": [
        "#para printar o dicionáario\n",
        "dados"
      ],
      "execution_count": null,
      "outputs": [
        {
          "output_type": "execute_result",
          "data": {
            "text/plain": [
              "{'acessos': [100, 200, 300, 400, 500],\n",
              " 'canal_venda': ['facebook', 'twitter', 'instagram', 'linkedin', 'facebook'],\n",
              " 'site': ['site1', 'site1', 'site2', 'site2', 'site3'],\n",
              " 'vendas': [1000.52, 1052.34, 2002, 5000, 300]}"
            ]
          },
          "metadata": {
            "tags": []
          },
          "execution_count": 4
        }
      ]
    },
    {
      "cell_type": "code",
      "metadata": {
        "id": "YLL_o4yNe6xp",
        "colab_type": "code",
        "colab": {
          "base_uri": "https://localhost:8080/",
          "height": 34
        },
        "outputId": "b89f4fca-68ba-4fc6-ae98-6ddf5eceeab2"
      },
      "source": [
        "#verificando o tipo do dicionario\n",
        "type(dados)"
      ],
      "execution_count": null,
      "outputs": [
        {
          "output_type": "execute_result",
          "data": {
            "text/plain": [
              "dict"
            ]
          },
          "metadata": {
            "tags": []
          },
          "execution_count": 5
        }
      ]
    },
    {
      "cell_type": "code",
      "metadata": {
        "id": "KQlgU9UWe6x2",
        "colab_type": "code",
        "colab": {
          "base_uri": "https://localhost:8080/",
          "height": 34
        },
        "outputId": "a829fb61-f280-4714-f30c-768eb40a4678"
      },
      "source": [
        "#Acessando as chaves do meu dicionario\n",
        "dados.keys()"
      ],
      "execution_count": null,
      "outputs": [
        {
          "output_type": "execute_result",
          "data": {
            "text/plain": [
              "dict_keys(['canal_venda', 'acessos', 'site', 'vendas'])"
            ]
          },
          "metadata": {
            "tags": []
          },
          "execution_count": 6
        }
      ]
    },
    {
      "cell_type": "code",
      "metadata": {
        "id": "zN5ZPWMH1F-Y",
        "colab_type": "code",
        "colab": {
          "base_uri": "https://localhost:8080/",
          "height": 54
        },
        "outputId": "4d747519-3fb7-48d5-9a1e-652d375b98cc"
      },
      "source": [
        "dados.values()"
      ],
      "execution_count": null,
      "outputs": [
        {
          "output_type": "execute_result",
          "data": {
            "text/plain": [
              "dict_values([['facebook', 'twitter', 'instagram', 'linkedin', 'facebook'], [100, 200, 300, 400, 500], ['site1', 'site1', 'site2', 'site2', 'site3'], [1000.52, 1052.34, 2002, 5000, 300]])"
            ]
          },
          "metadata": {
            "tags": []
          },
          "execution_count": 7
        }
      ]
    },
    {
      "cell_type": "code",
      "metadata": {
        "id": "1l1W1sxbe6yB",
        "colab_type": "code",
        "colab": {
          "base_uri": "https://localhost:8080/",
          "height": 34
        },
        "outputId": "7f032597-ad95-4931-d578-79fc0dade405"
      },
      "source": [
        "#Acessando uma chave especifica\n",
        "dados['site']"
      ],
      "execution_count": null,
      "outputs": [
        {
          "output_type": "execute_result",
          "data": {
            "text/plain": [
              "['site1', 'site1', 'site2', 'site2', 'site3']"
            ]
          },
          "metadata": {
            "tags": []
          },
          "execution_count": 8
        }
      ]
    },
    {
      "cell_type": "code",
      "metadata": {
        "id": "aO3RLX6Fe6yU",
        "colab_type": "code",
        "colab": {
          "base_uri": "https://localhost:8080/",
          "height": 34
        },
        "outputId": "f9f30fcb-a324-4f50-f9c1-0240644a31e4"
      },
      "source": [
        "#Acessando uma posicao especifica de um dicionario\n",
        "dados['acessos'][2]"
      ],
      "execution_count": null,
      "outputs": [
        {
          "output_type": "execute_result",
          "data": {
            "text/plain": [
              "300"
            ]
          },
          "metadata": {
            "tags": []
          },
          "execution_count": 9
        }
      ]
    },
    {
      "cell_type": "code",
      "metadata": {
        "id": "mH0N9FWze6yo",
        "colab_type": "code",
        "colab": {
          "base_uri": "https://localhost:8080/",
          "height": 34
        },
        "outputId": "662fd1a3-a63a-4a2c-82b2-9df697a4c5be"
      },
      "source": [
        "#Acessando uma posicao especifica de um dicionario\n",
        "dados['canal_venda'][2]"
      ],
      "execution_count": null,
      "outputs": [
        {
          "output_type": "execute_result",
          "data": {
            "text/plain": [
              "'instagram'"
            ]
          },
          "metadata": {
            "tags": []
          },
          "execution_count": 10
        }
      ]
    },
    {
      "cell_type": "code",
      "metadata": {
        "id": "bCB4CqQne6y0",
        "colab_type": "code",
        "colab": {
          "base_uri": "https://localhost:8080/",
          "height": 34
        },
        "outputId": "50576e39-8103-49f0-c186-71fdab5d0f1e"
      },
      "source": [
        "#Acessando uma posicao especifica de um dicionario\n",
        "dados['canal_venda'][:3]"
      ],
      "execution_count": null,
      "outputs": [
        {
          "output_type": "execute_result",
          "data": {
            "text/plain": [
              "['facebook', 'twitter', 'instagram']"
            ]
          },
          "metadata": {
            "tags": []
          },
          "execution_count": 11
        }
      ]
    },
    {
      "cell_type": "markdown",
      "metadata": {
        "id": "tz89KwZFe6y9",
        "colab_type": "text"
      },
      "source": [
        "### Listas"
      ]
    },
    {
      "cell_type": "code",
      "metadata": {
        "id": "-xGeaBF4e6zE",
        "colab_type": "code",
        "colab": {
          "base_uri": "https://localhost:8080/",
          "height": 34
        },
        "outputId": "5f0aa9c2-c25f-4543-ea0d-5617477e6881"
      },
      "source": [
        "type([1,2,3])"
      ],
      "execution_count": null,
      "outputs": [
        {
          "output_type": "execute_result",
          "data": {
            "text/plain": [
              "list"
            ]
          },
          "metadata": {
            "tags": []
          },
          "execution_count": 12
        }
      ]
    },
    {
      "cell_type": "code",
      "metadata": {
        "id": "j7hO-tbne6zM",
        "colab_type": "code",
        "colab": {}
      },
      "source": [
        "#Criando uma lista\n",
        "lista = [200, 250 , 300 ,800, 200]"
      ],
      "execution_count": null,
      "outputs": []
    },
    {
      "cell_type": "code",
      "metadata": {
        "id": "9f1lnRgqe6zV",
        "colab_type": "code",
        "colab": {
          "base_uri": "https://localhost:8080/",
          "height": 34
        },
        "outputId": "753836a6-b472-4dbc-f6ee-ec9dd63d89c2"
      },
      "source": [
        "#printando a lista\n",
        "lista"
      ],
      "execution_count": null,
      "outputs": [
        {
          "output_type": "execute_result",
          "data": {
            "text/plain": [
              "[200, 250, 300, 800, 200]"
            ]
          },
          "metadata": {
            "tags": []
          },
          "execution_count": 14
        }
      ]
    },
    {
      "cell_type": "code",
      "metadata": {
        "id": "ZbErwovme6zc",
        "colab_type": "code",
        "colab": {
          "base_uri": "https://localhost:8080/",
          "height": 34
        },
        "outputId": "f2ac5ba9-e4b6-40a6-f47f-eb69b29a73c8"
      },
      "source": [
        "#Vendo valores especificos\n",
        "lista[1]"
      ],
      "execution_count": null,
      "outputs": [
        {
          "output_type": "execute_result",
          "data": {
            "text/plain": [
              "250"
            ]
          },
          "metadata": {
            "tags": []
          },
          "execution_count": 15
        }
      ]
    },
    {
      "cell_type": "code",
      "metadata": {
        "id": "Mjn5s9Bxe6zm",
        "colab_type": "code",
        "colab": {
          "base_uri": "https://localhost:8080/",
          "height": 34
        },
        "outputId": "195a871a-ce2f-4f83-af8d-4efd5ff139dd"
      },
      "source": [
        "#fatia da lista\n",
        "lista[:3]"
      ],
      "execution_count": null,
      "outputs": [
        {
          "output_type": "execute_result",
          "data": {
            "text/plain": [
              "[200, 250, 300]"
            ]
          },
          "metadata": {
            "tags": []
          },
          "execution_count": 16
        }
      ]
    },
    {
      "cell_type": "code",
      "metadata": {
        "id": "iN4RPzBPe6zr",
        "colab_type": "code",
        "colab": {}
      },
      "source": [
        "# Adicionando a lista ao dicionario \n",
        "dados['lista'] = lista"
      ],
      "execution_count": null,
      "outputs": []
    },
    {
      "cell_type": "code",
      "metadata": {
        "id": "Af4RIRE0e6zz",
        "colab_type": "code",
        "colab": {
          "base_uri": "https://localhost:8080/",
          "height": 102
        },
        "outputId": "e2408dfd-4db7-4b4a-a39c-ff87e9d52756"
      },
      "source": [
        "dados"
      ],
      "execution_count": null,
      "outputs": [
        {
          "output_type": "execute_result",
          "data": {
            "text/plain": [
              "{'acessos': [100, 200, 300, 400, 500],\n",
              " 'canal_venda': ['facebook', 'twitter', 'instagram', 'linkedin', 'facebook'],\n",
              " 'lista': [200, 250, 300, 800, 200],\n",
              " 'site': ['site1', 'site1', 'site2', 'site2', 'site3'],\n",
              " 'vendas': [1000.52, 1052.34, 2002, 5000, 300]}"
            ]
          },
          "metadata": {
            "tags": []
          },
          "execution_count": 18
        }
      ]
    },
    {
      "cell_type": "markdown",
      "metadata": {
        "id": "lwkm3CKae6z5",
        "colab_type": "text"
      },
      "source": [
        "### DataFrames"
      ]
    },
    {
      "cell_type": "code",
      "metadata": {
        "id": "itz0DElEe6z6",
        "colab_type": "code",
        "colab": {
          "base_uri": "https://localhost:8080/",
          "height": 102
        },
        "outputId": "61098d6b-a8a2-4bef-cfcb-bd7f318fd62c"
      },
      "source": [
        "dados"
      ],
      "execution_count": null,
      "outputs": [
        {
          "output_type": "execute_result",
          "data": {
            "text/plain": [
              "{'acessos': [100, 200, 300, 400, 500],\n",
              " 'canal_venda': ['facebook', 'twitter', 'instagram', 'linkedin', 'facebook'],\n",
              " 'lista': [200, 250, 300, 800, 200],\n",
              " 'site': ['site1', 'site1', 'site2', 'site2', 'site3'],\n",
              " 'vendas': [1000.52, 1052.34, 2002, 5000, 300]}"
            ]
          },
          "metadata": {
            "tags": []
          },
          "execution_count": 19
        }
      ]
    },
    {
      "cell_type": "code",
      "metadata": {
        "id": "QLuFhUdpe6z_",
        "colab_type": "code",
        "colab": {}
      },
      "source": [
        "#Criar um data frame a partir de um dict\n",
        "dataframe = pd.DataFrame(dados)"
      ],
      "execution_count": null,
      "outputs": []
    },
    {
      "cell_type": "code",
      "metadata": {
        "id": "znawk7C7e60J",
        "colab_type": "code",
        "colab": {
          "base_uri": "https://localhost:8080/",
          "height": 204
        },
        "outputId": "30b182b0-52b7-421a-b524-29e5e8ba0d2d"
      },
      "source": [
        "#acessando o dataframe\n",
        "dataframe"
      ],
      "execution_count": null,
      "outputs": [
        {
          "output_type": "execute_result",
          "data": {
            "text/html": [
              "<div>\n",
              "<style scoped>\n",
              "    .dataframe tbody tr th:only-of-type {\n",
              "        vertical-align: middle;\n",
              "    }\n",
              "\n",
              "    .dataframe tbody tr th {\n",
              "        vertical-align: top;\n",
              "    }\n",
              "\n",
              "    .dataframe thead th {\n",
              "        text-align: right;\n",
              "    }\n",
              "</style>\n",
              "<table border=\"1\" class=\"dataframe\">\n",
              "  <thead>\n",
              "    <tr style=\"text-align: right;\">\n",
              "      <th></th>\n",
              "      <th>canal_venda</th>\n",
              "      <th>acessos</th>\n",
              "      <th>site</th>\n",
              "      <th>vendas</th>\n",
              "      <th>lista</th>\n",
              "    </tr>\n",
              "  </thead>\n",
              "  <tbody>\n",
              "    <tr>\n",
              "      <th>0</th>\n",
              "      <td>facebook</td>\n",
              "      <td>100</td>\n",
              "      <td>site1</td>\n",
              "      <td>1000.52</td>\n",
              "      <td>200</td>\n",
              "    </tr>\n",
              "    <tr>\n",
              "      <th>1</th>\n",
              "      <td>twitter</td>\n",
              "      <td>200</td>\n",
              "      <td>site1</td>\n",
              "      <td>1052.34</td>\n",
              "      <td>250</td>\n",
              "    </tr>\n",
              "    <tr>\n",
              "      <th>2</th>\n",
              "      <td>instagram</td>\n",
              "      <td>300</td>\n",
              "      <td>site2</td>\n",
              "      <td>2002.00</td>\n",
              "      <td>300</td>\n",
              "    </tr>\n",
              "    <tr>\n",
              "      <th>3</th>\n",
              "      <td>linkedin</td>\n",
              "      <td>400</td>\n",
              "      <td>site2</td>\n",
              "      <td>5000.00</td>\n",
              "      <td>800</td>\n",
              "    </tr>\n",
              "    <tr>\n",
              "      <th>4</th>\n",
              "      <td>facebook</td>\n",
              "      <td>500</td>\n",
              "      <td>site3</td>\n",
              "      <td>300.00</td>\n",
              "      <td>200</td>\n",
              "    </tr>\n",
              "  </tbody>\n",
              "</table>\n",
              "</div>"
            ],
            "text/plain": [
              "  canal_venda  acessos   site   vendas  lista\n",
              "0    facebook      100  site1  1000.52    200\n",
              "1     twitter      200  site1  1052.34    250\n",
              "2   instagram      300  site2  2002.00    300\n",
              "3    linkedin      400  site2  5000.00    800\n",
              "4    facebook      500  site3   300.00    200"
            ]
          },
          "metadata": {
            "tags": []
          },
          "execution_count": 21
        }
      ]
    },
    {
      "cell_type": "code",
      "metadata": {
        "id": "g_yG8vs2e60O",
        "colab_type": "code",
        "colab": {
          "base_uri": "https://localhost:8080/",
          "height": 111
        },
        "outputId": "acabf049-7025-46f9-9789-72bd06c29e5a"
      },
      "source": [
        "#printando os primeiros casos do dataframe\n",
        "dataframe.head(2)"
      ],
      "execution_count": null,
      "outputs": [
        {
          "output_type": "execute_result",
          "data": {
            "text/html": [
              "<div>\n",
              "<style scoped>\n",
              "    .dataframe tbody tr th:only-of-type {\n",
              "        vertical-align: middle;\n",
              "    }\n",
              "\n",
              "    .dataframe tbody tr th {\n",
              "        vertical-align: top;\n",
              "    }\n",
              "\n",
              "    .dataframe thead th {\n",
              "        text-align: right;\n",
              "    }\n",
              "</style>\n",
              "<table border=\"1\" class=\"dataframe\">\n",
              "  <thead>\n",
              "    <tr style=\"text-align: right;\">\n",
              "      <th></th>\n",
              "      <th>canal_venda</th>\n",
              "      <th>acessos</th>\n",
              "      <th>site</th>\n",
              "      <th>vendas</th>\n",
              "      <th>lista</th>\n",
              "    </tr>\n",
              "  </thead>\n",
              "  <tbody>\n",
              "    <tr>\n",
              "      <th>0</th>\n",
              "      <td>facebook</td>\n",
              "      <td>100</td>\n",
              "      <td>site1</td>\n",
              "      <td>1000.52</td>\n",
              "      <td>200</td>\n",
              "    </tr>\n",
              "    <tr>\n",
              "      <th>1</th>\n",
              "      <td>twitter</td>\n",
              "      <td>200</td>\n",
              "      <td>site1</td>\n",
              "      <td>1052.34</td>\n",
              "      <td>250</td>\n",
              "    </tr>\n",
              "  </tbody>\n",
              "</table>\n",
              "</div>"
            ],
            "text/plain": [
              "  canal_venda  acessos   site   vendas  lista\n",
              "0    facebook      100  site1  1000.52    200\n",
              "1     twitter      200  site1  1052.34    250"
            ]
          },
          "metadata": {
            "tags": []
          },
          "execution_count": 22
        }
      ]
    },
    {
      "cell_type": "code",
      "metadata": {
        "id": "vkCZRmu8e60W",
        "colab_type": "code",
        "colab": {
          "base_uri": "https://localhost:8080/",
          "height": 34
        },
        "outputId": "18f6dfb8-866a-4aa7-a27e-a61b79dd3233"
      },
      "source": [
        "#Verificando o formato do dataframe\n",
        "dataframe.shape"
      ],
      "execution_count": null,
      "outputs": [
        {
          "output_type": "execute_result",
          "data": {
            "text/plain": [
              "(5, 5)"
            ]
          },
          "metadata": {
            "tags": []
          },
          "execution_count": 23
        }
      ]
    },
    {
      "cell_type": "code",
      "metadata": {
        "id": "aEvagHD4e60c",
        "colab_type": "code",
        "colab": {}
      },
      "source": [
        "QQRNOME = dataframe"
      ],
      "execution_count": null,
      "outputs": []
    },
    {
      "cell_type": "code",
      "metadata": {
        "id": "ct-YusRYe60m",
        "colab_type": "code",
        "colab": {
          "base_uri": "https://localhost:8080/",
          "height": 34
        },
        "outputId": "d233ba08-b18d-463a-9738-90b6b8a9f49d"
      },
      "source": [
        "QQRNOME.shape"
      ],
      "execution_count": null,
      "outputs": [
        {
          "output_type": "execute_result",
          "data": {
            "text/plain": [
              "(5, 5)"
            ]
          },
          "metadata": {
            "tags": []
          },
          "execution_count": 25
        }
      ]
    },
    {
      "cell_type": "code",
      "metadata": {
        "id": "JW-vID8ie60s",
        "colab_type": "code",
        "colab": {
          "base_uri": "https://localhost:8080/",
          "height": 34
        },
        "outputId": "6fc752f2-e6c0-4685-9c5d-831c0e303971"
      },
      "source": [
        "type(QQRNOME)"
      ],
      "execution_count": null,
      "outputs": [
        {
          "output_type": "execute_result",
          "data": {
            "text/plain": [
              "pandas.core.frame.DataFrame"
            ]
          },
          "metadata": {
            "tags": []
          },
          "execution_count": 26
        }
      ]
    },
    {
      "cell_type": "code",
      "metadata": {
        "id": "0NaFgpIre602",
        "colab_type": "code",
        "colab": {
          "base_uri": "https://localhost:8080/",
          "height": 34
        },
        "outputId": "18bb245c-af1c-48db-e1ac-3c77393a61b5"
      },
      "source": [
        "#Verificando o indice do dataframe\n",
        "dataframe.index"
      ],
      "execution_count": null,
      "outputs": [
        {
          "output_type": "execute_result",
          "data": {
            "text/plain": [
              "RangeIndex(start=0, stop=5, step=1)"
            ]
          },
          "metadata": {
            "tags": []
          },
          "execution_count": 27
        }
      ]
    },
    {
      "cell_type": "code",
      "metadata": {
        "id": "2LYc7Ttwe609",
        "colab_type": "code",
        "colab": {
          "base_uri": "https://localhost:8080/",
          "height": 119
        },
        "outputId": "a58861f3-af74-48d9-bc40-b6de29dcf423"
      },
      "source": [
        "#Verificando os tipos dos dados do dataframe\n",
        "dataframe.dtypes"
      ],
      "execution_count": null,
      "outputs": [
        {
          "output_type": "execute_result",
          "data": {
            "text/plain": [
              "canal_venda     object\n",
              "acessos          int64\n",
              "site            object\n",
              "vendas         float64\n",
              "lista            int64\n",
              "dtype: object"
            ]
          },
          "metadata": {
            "tags": []
          },
          "execution_count": 28
        }
      ]
    },
    {
      "cell_type": "code",
      "metadata": {
        "id": "KNmQuuJn29NQ",
        "colab_type": "code",
        "colab": {
          "base_uri": "https://localhost:8080/",
          "height": 85
        },
        "outputId": "ac29b351-88bb-4a5e-a532-105fa66d5924"
      },
      "source": [
        "dataframe.dtypes.value_counts()"
      ],
      "execution_count": null,
      "outputs": [
        {
          "output_type": "execute_result",
          "data": {
            "text/plain": [
              "int64      2\n",
              "object     2\n",
              "float64    1\n",
              "dtype: int64"
            ]
          },
          "metadata": {
            "tags": []
          },
          "execution_count": 29
        }
      ]
    },
    {
      "cell_type": "code",
      "metadata": {
        "id": "SpRTpTx2e61C",
        "colab_type": "code",
        "colab": {
          "base_uri": "https://localhost:8080/",
          "height": 204
        },
        "outputId": "95162af1-76aa-4394-e5fc-1d87888e7bb8"
      },
      "source": [
        "#Verificando se existem valores faltantes\n",
        "dataframe.isna()"
      ],
      "execution_count": null,
      "outputs": [
        {
          "output_type": "execute_result",
          "data": {
            "text/html": [
              "<div>\n",
              "<style scoped>\n",
              "    .dataframe tbody tr th:only-of-type {\n",
              "        vertical-align: middle;\n",
              "    }\n",
              "\n",
              "    .dataframe tbody tr th {\n",
              "        vertical-align: top;\n",
              "    }\n",
              "\n",
              "    .dataframe thead th {\n",
              "        text-align: right;\n",
              "    }\n",
              "</style>\n",
              "<table border=\"1\" class=\"dataframe\">\n",
              "  <thead>\n",
              "    <tr style=\"text-align: right;\">\n",
              "      <th></th>\n",
              "      <th>canal_venda</th>\n",
              "      <th>acessos</th>\n",
              "      <th>site</th>\n",
              "      <th>vendas</th>\n",
              "      <th>lista</th>\n",
              "    </tr>\n",
              "  </thead>\n",
              "  <tbody>\n",
              "    <tr>\n",
              "      <th>0</th>\n",
              "      <td>False</td>\n",
              "      <td>False</td>\n",
              "      <td>False</td>\n",
              "      <td>False</td>\n",
              "      <td>False</td>\n",
              "    </tr>\n",
              "    <tr>\n",
              "      <th>1</th>\n",
              "      <td>False</td>\n",
              "      <td>False</td>\n",
              "      <td>False</td>\n",
              "      <td>False</td>\n",
              "      <td>False</td>\n",
              "    </tr>\n",
              "    <tr>\n",
              "      <th>2</th>\n",
              "      <td>False</td>\n",
              "      <td>False</td>\n",
              "      <td>False</td>\n",
              "      <td>False</td>\n",
              "      <td>False</td>\n",
              "    </tr>\n",
              "    <tr>\n",
              "      <th>3</th>\n",
              "      <td>False</td>\n",
              "      <td>False</td>\n",
              "      <td>False</td>\n",
              "      <td>False</td>\n",
              "      <td>False</td>\n",
              "    </tr>\n",
              "    <tr>\n",
              "      <th>4</th>\n",
              "      <td>False</td>\n",
              "      <td>False</td>\n",
              "      <td>False</td>\n",
              "      <td>False</td>\n",
              "      <td>False</td>\n",
              "    </tr>\n",
              "  </tbody>\n",
              "</table>\n",
              "</div>"
            ],
            "text/plain": [
              "   canal_venda  acessos   site  vendas  lista\n",
              "0        False    False  False   False  False\n",
              "1        False    False  False   False  False\n",
              "2        False    False  False   False  False\n",
              "3        False    False  False   False  False\n",
              "4        False    False  False   False  False"
            ]
          },
          "metadata": {
            "tags": []
          },
          "execution_count": 30
        }
      ]
    },
    {
      "cell_type": "code",
      "metadata": {
        "id": "DvbxDbWR3Ipu",
        "colab_type": "code",
        "colab": {
          "base_uri": "https://localhost:8080/",
          "height": 204
        },
        "outputId": "01657752-8e12-484c-8b87-598389e7396b"
      },
      "source": [
        "dataframe.isnull()"
      ],
      "execution_count": null,
      "outputs": [
        {
          "output_type": "execute_result",
          "data": {
            "text/html": [
              "<div>\n",
              "<style scoped>\n",
              "    .dataframe tbody tr th:only-of-type {\n",
              "        vertical-align: middle;\n",
              "    }\n",
              "\n",
              "    .dataframe tbody tr th {\n",
              "        vertical-align: top;\n",
              "    }\n",
              "\n",
              "    .dataframe thead th {\n",
              "        text-align: right;\n",
              "    }\n",
              "</style>\n",
              "<table border=\"1\" class=\"dataframe\">\n",
              "  <thead>\n",
              "    <tr style=\"text-align: right;\">\n",
              "      <th></th>\n",
              "      <th>canal_venda</th>\n",
              "      <th>acessos</th>\n",
              "      <th>site</th>\n",
              "      <th>vendas</th>\n",
              "      <th>lista</th>\n",
              "    </tr>\n",
              "  </thead>\n",
              "  <tbody>\n",
              "    <tr>\n",
              "      <th>0</th>\n",
              "      <td>False</td>\n",
              "      <td>False</td>\n",
              "      <td>False</td>\n",
              "      <td>False</td>\n",
              "      <td>False</td>\n",
              "    </tr>\n",
              "    <tr>\n",
              "      <th>1</th>\n",
              "      <td>False</td>\n",
              "      <td>False</td>\n",
              "      <td>False</td>\n",
              "      <td>False</td>\n",
              "      <td>False</td>\n",
              "    </tr>\n",
              "    <tr>\n",
              "      <th>2</th>\n",
              "      <td>False</td>\n",
              "      <td>False</td>\n",
              "      <td>False</td>\n",
              "      <td>False</td>\n",
              "      <td>False</td>\n",
              "    </tr>\n",
              "    <tr>\n",
              "      <th>3</th>\n",
              "      <td>False</td>\n",
              "      <td>False</td>\n",
              "      <td>False</td>\n",
              "      <td>False</td>\n",
              "      <td>False</td>\n",
              "    </tr>\n",
              "    <tr>\n",
              "      <th>4</th>\n",
              "      <td>False</td>\n",
              "      <td>False</td>\n",
              "      <td>False</td>\n",
              "      <td>False</td>\n",
              "      <td>False</td>\n",
              "    </tr>\n",
              "  </tbody>\n",
              "</table>\n",
              "</div>"
            ],
            "text/plain": [
              "   canal_venda  acessos   site  vendas  lista\n",
              "0        False    False  False   False  False\n",
              "1        False    False  False   False  False\n",
              "2        False    False  False   False  False\n",
              "3        False    False  False   False  False\n",
              "4        False    False  False   False  False"
            ]
          },
          "metadata": {
            "tags": []
          },
          "execution_count": 31
        }
      ]
    },
    {
      "cell_type": "code",
      "metadata": {
        "id": "kxeSduxie61P",
        "colab_type": "code",
        "colab": {
          "base_uri": "https://localhost:8080/",
          "height": 34
        },
        "outputId": "78fb99f6-f1fc-454c-937e-c0e469a8aa1e"
      },
      "source": [
        "#printando os nomes das colunas\n",
        "dataframe.columns"
      ],
      "execution_count": null,
      "outputs": [
        {
          "output_type": "execute_result",
          "data": {
            "text/plain": [
              "Index(['canal_venda', 'acessos', 'site', 'vendas', 'lista'], dtype='object')"
            ]
          },
          "metadata": {
            "tags": []
          },
          "execution_count": 32
        }
      ]
    },
    {
      "cell_type": "code",
      "metadata": {
        "id": "_ZOcThBse61Y",
        "colab_type": "code",
        "colab": {
          "base_uri": "https://localhost:8080/",
          "height": 119
        },
        "outputId": "d7ccf268-7251-470e-f02a-d0a57e9ac1ba"
      },
      "source": [
        "#Acessando uma coluna especifica\n",
        "dataframe['canal_venda']"
      ],
      "execution_count": null,
      "outputs": [
        {
          "output_type": "execute_result",
          "data": {
            "text/plain": [
              "0     facebook\n",
              "1      twitter\n",
              "2    instagram\n",
              "3     linkedin\n",
              "4     facebook\n",
              "Name: canal_venda, dtype: object"
            ]
          },
          "metadata": {
            "tags": []
          },
          "execution_count": 33
        }
      ]
    },
    {
      "cell_type": "code",
      "metadata": {
        "id": "BmjwXTshe61g",
        "colab_type": "code",
        "colab": {}
      },
      "source": [
        "# Criando uma nova coluna\n",
        "dataframe['nova_coluna'] = [1, 2, 3, 4, 5]"
      ],
      "execution_count": null,
      "outputs": []
    },
    {
      "cell_type": "code",
      "metadata": {
        "id": "yY_OwSCve61s",
        "colab_type": "code",
        "colab": {
          "base_uri": "https://localhost:8080/",
          "height": 204
        },
        "outputId": "757f09be-49fa-4ed9-b0bc-547e4c53a7d0"
      },
      "source": [
        "dataframe"
      ],
      "execution_count": null,
      "outputs": [
        {
          "output_type": "execute_result",
          "data": {
            "text/html": [
              "<div>\n",
              "<style scoped>\n",
              "    .dataframe tbody tr th:only-of-type {\n",
              "        vertical-align: middle;\n",
              "    }\n",
              "\n",
              "    .dataframe tbody tr th {\n",
              "        vertical-align: top;\n",
              "    }\n",
              "\n",
              "    .dataframe thead th {\n",
              "        text-align: right;\n",
              "    }\n",
              "</style>\n",
              "<table border=\"1\" class=\"dataframe\">\n",
              "  <thead>\n",
              "    <tr style=\"text-align: right;\">\n",
              "      <th></th>\n",
              "      <th>canal_venda</th>\n",
              "      <th>acessos</th>\n",
              "      <th>site</th>\n",
              "      <th>vendas</th>\n",
              "      <th>lista</th>\n",
              "      <th>nova_coluna</th>\n",
              "    </tr>\n",
              "  </thead>\n",
              "  <tbody>\n",
              "    <tr>\n",
              "      <th>0</th>\n",
              "      <td>facebook</td>\n",
              "      <td>100</td>\n",
              "      <td>site1</td>\n",
              "      <td>1000.52</td>\n",
              "      <td>200</td>\n",
              "      <td>1</td>\n",
              "    </tr>\n",
              "    <tr>\n",
              "      <th>1</th>\n",
              "      <td>twitter</td>\n",
              "      <td>200</td>\n",
              "      <td>site1</td>\n",
              "      <td>1052.34</td>\n",
              "      <td>250</td>\n",
              "      <td>2</td>\n",
              "    </tr>\n",
              "    <tr>\n",
              "      <th>2</th>\n",
              "      <td>instagram</td>\n",
              "      <td>300</td>\n",
              "      <td>site2</td>\n",
              "      <td>2002.00</td>\n",
              "      <td>300</td>\n",
              "      <td>3</td>\n",
              "    </tr>\n",
              "    <tr>\n",
              "      <th>3</th>\n",
              "      <td>linkedin</td>\n",
              "      <td>400</td>\n",
              "      <td>site2</td>\n",
              "      <td>5000.00</td>\n",
              "      <td>800</td>\n",
              "      <td>4</td>\n",
              "    </tr>\n",
              "    <tr>\n",
              "      <th>4</th>\n",
              "      <td>facebook</td>\n",
              "      <td>500</td>\n",
              "      <td>site3</td>\n",
              "      <td>300.00</td>\n",
              "      <td>200</td>\n",
              "      <td>5</td>\n",
              "    </tr>\n",
              "  </tbody>\n",
              "</table>\n",
              "</div>"
            ],
            "text/plain": [
              "  canal_venda  acessos   site   vendas  lista  nova_coluna\n",
              "0    facebook      100  site1  1000.52    200            1\n",
              "1     twitter      200  site1  1052.34    250            2\n",
              "2   instagram      300  site2  2002.00    300            3\n",
              "3    linkedin      400  site2  5000.00    800            4\n",
              "4    facebook      500  site3   300.00    200            5"
            ]
          },
          "metadata": {
            "tags": []
          },
          "execution_count": 35
        }
      ]
    },
    {
      "cell_type": "code",
      "metadata": {
        "id": "5SjWB3Hhe62D",
        "colab_type": "code",
        "colab": {
          "base_uri": "https://localhost:8080/",
          "height": 34
        },
        "outputId": "e8948bfe-7347-4af5-a9e3-a5cc1781b25c"
      },
      "source": [
        "dataframe.columns"
      ],
      "execution_count": null,
      "outputs": [
        {
          "output_type": "execute_result",
          "data": {
            "text/plain": [
              "Index(['canal_venda', 'acessos', 'site', 'vendas', 'lista', 'nova_coluna'], dtype='object')"
            ]
          },
          "metadata": {
            "tags": []
          },
          "execution_count": 36
        }
      ]
    },
    {
      "cell_type": "code",
      "metadata": {
        "id": "_1V5MWpfe62N",
        "colab_type": "code",
        "colab": {
          "base_uri": "https://localhost:8080/",
          "height": 204
        },
        "outputId": "b15fea6e-b5aa-4cf5-e6a5-35e63ba1439c"
      },
      "source": [
        "# Removendo colunas\n",
        "dataframe.drop(columns = ['acessos','site', 'canal_venda'])"
      ],
      "execution_count": null,
      "outputs": [
        {
          "output_type": "execute_result",
          "data": {
            "text/html": [
              "<div>\n",
              "<style scoped>\n",
              "    .dataframe tbody tr th:only-of-type {\n",
              "        vertical-align: middle;\n",
              "    }\n",
              "\n",
              "    .dataframe tbody tr th {\n",
              "        vertical-align: top;\n",
              "    }\n",
              "\n",
              "    .dataframe thead th {\n",
              "        text-align: right;\n",
              "    }\n",
              "</style>\n",
              "<table border=\"1\" class=\"dataframe\">\n",
              "  <thead>\n",
              "    <tr style=\"text-align: right;\">\n",
              "      <th></th>\n",
              "      <th>vendas</th>\n",
              "      <th>lista</th>\n",
              "      <th>nova_coluna</th>\n",
              "    </tr>\n",
              "  </thead>\n",
              "  <tbody>\n",
              "    <tr>\n",
              "      <th>0</th>\n",
              "      <td>1000.52</td>\n",
              "      <td>200</td>\n",
              "      <td>1</td>\n",
              "    </tr>\n",
              "    <tr>\n",
              "      <th>1</th>\n",
              "      <td>1052.34</td>\n",
              "      <td>250</td>\n",
              "      <td>2</td>\n",
              "    </tr>\n",
              "    <tr>\n",
              "      <th>2</th>\n",
              "      <td>2002.00</td>\n",
              "      <td>300</td>\n",
              "      <td>3</td>\n",
              "    </tr>\n",
              "    <tr>\n",
              "      <th>3</th>\n",
              "      <td>5000.00</td>\n",
              "      <td>800</td>\n",
              "      <td>4</td>\n",
              "    </tr>\n",
              "    <tr>\n",
              "      <th>4</th>\n",
              "      <td>300.00</td>\n",
              "      <td>200</td>\n",
              "      <td>5</td>\n",
              "    </tr>\n",
              "  </tbody>\n",
              "</table>\n",
              "</div>"
            ],
            "text/plain": [
              "    vendas  lista  nova_coluna\n",
              "0  1000.52    200            1\n",
              "1  1052.34    250            2\n",
              "2  2002.00    300            3\n",
              "3  5000.00    800            4\n",
              "4   300.00    200            5"
            ]
          },
          "metadata": {
            "tags": []
          },
          "execution_count": 37
        }
      ]
    },
    {
      "cell_type": "code",
      "metadata": {
        "id": "cLqWcQ9Te62T",
        "colab_type": "code",
        "colab": {
          "base_uri": "https://localhost:8080/",
          "height": 204
        },
        "outputId": "c6fe21a4-b161-424f-cbb7-f92be737b1f6"
      },
      "source": [
        "dataframe"
      ],
      "execution_count": null,
      "outputs": [
        {
          "output_type": "execute_result",
          "data": {
            "text/html": [
              "<div>\n",
              "<style scoped>\n",
              "    .dataframe tbody tr th:only-of-type {\n",
              "        vertical-align: middle;\n",
              "    }\n",
              "\n",
              "    .dataframe tbody tr th {\n",
              "        vertical-align: top;\n",
              "    }\n",
              "\n",
              "    .dataframe thead th {\n",
              "        text-align: right;\n",
              "    }\n",
              "</style>\n",
              "<table border=\"1\" class=\"dataframe\">\n",
              "  <thead>\n",
              "    <tr style=\"text-align: right;\">\n",
              "      <th></th>\n",
              "      <th>canal_venda</th>\n",
              "      <th>acessos</th>\n",
              "      <th>site</th>\n",
              "      <th>vendas</th>\n",
              "      <th>lista</th>\n",
              "      <th>nova_coluna</th>\n",
              "    </tr>\n",
              "  </thead>\n",
              "  <tbody>\n",
              "    <tr>\n",
              "      <th>0</th>\n",
              "      <td>facebook</td>\n",
              "      <td>100</td>\n",
              "      <td>site1</td>\n",
              "      <td>1000.52</td>\n",
              "      <td>200</td>\n",
              "      <td>1</td>\n",
              "    </tr>\n",
              "    <tr>\n",
              "      <th>1</th>\n",
              "      <td>twitter</td>\n",
              "      <td>200</td>\n",
              "      <td>site1</td>\n",
              "      <td>1052.34</td>\n",
              "      <td>250</td>\n",
              "      <td>2</td>\n",
              "    </tr>\n",
              "    <tr>\n",
              "      <th>2</th>\n",
              "      <td>instagram</td>\n",
              "      <td>300</td>\n",
              "      <td>site2</td>\n",
              "      <td>2002.00</td>\n",
              "      <td>300</td>\n",
              "      <td>3</td>\n",
              "    </tr>\n",
              "    <tr>\n",
              "      <th>3</th>\n",
              "      <td>linkedin</td>\n",
              "      <td>400</td>\n",
              "      <td>site2</td>\n",
              "      <td>5000.00</td>\n",
              "      <td>800</td>\n",
              "      <td>4</td>\n",
              "    </tr>\n",
              "    <tr>\n",
              "      <th>4</th>\n",
              "      <td>facebook</td>\n",
              "      <td>500</td>\n",
              "      <td>site3</td>\n",
              "      <td>300.00</td>\n",
              "      <td>200</td>\n",
              "      <td>5</td>\n",
              "    </tr>\n",
              "  </tbody>\n",
              "</table>\n",
              "</div>"
            ],
            "text/plain": [
              "  canal_venda  acessos   site   vendas  lista  nova_coluna\n",
              "0    facebook      100  site1  1000.52    200            1\n",
              "1     twitter      200  site1  1052.34    250            2\n",
              "2   instagram      300  site2  2002.00    300            3\n",
              "3    linkedin      400  site2  5000.00    800            4\n",
              "4    facebook      500  site3   300.00    200            5"
            ]
          },
          "metadata": {
            "tags": []
          },
          "execution_count": 38
        }
      ]
    },
    {
      "cell_type": "code",
      "metadata": {
        "id": "3iQMr1Joe62b",
        "colab_type": "code",
        "colab": {
          "base_uri": "https://localhost:8080/",
          "height": 34
        },
        "outputId": "704a1f14-10a6-45e9-e24f-e6106ebab85d"
      },
      "source": [
        "#Mostrando as colunas\n",
        "dataframe.columns"
      ],
      "execution_count": null,
      "outputs": [
        {
          "output_type": "execute_result",
          "data": {
            "text/plain": [
              "Index(['canal_venda', 'acessos', 'site', 'vendas', 'lista', 'nova_coluna'], dtype='object')"
            ]
          },
          "metadata": {
            "tags": []
          },
          "execution_count": 39
        }
      ]
    },
    {
      "cell_type": "code",
      "metadata": {
        "id": "ogkxP4vle62j",
        "colab_type": "code",
        "colab": {
          "base_uri": "https://localhost:8080/",
          "height": 34
        },
        "outputId": "4140aa54-3fee-4912-dc17-b611f59dcbfd"
      },
      "source": [
        "#Acessando valores especificos\n",
        "dataframe['acessos'][1]"
      ],
      "execution_count": null,
      "outputs": [
        {
          "output_type": "execute_result",
          "data": {
            "text/plain": [
              "200"
            ]
          },
          "metadata": {
            "tags": []
          },
          "execution_count": 40
        }
      ]
    },
    {
      "cell_type": "code",
      "metadata": {
        "id": "s9u3yeQVe620",
        "colab_type": "code",
        "colab": {
          "base_uri": "https://localhost:8080/",
          "height": 68
        },
        "outputId": "b4200d48-88c3-42c8-a7d4-25f810d6a83e"
      },
      "source": [
        "#Acessando fatia de coluna especifica\n",
        "dataframe['canal_venda'][:2]"
      ],
      "execution_count": null,
      "outputs": [
        {
          "output_type": "execute_result",
          "data": {
            "text/plain": [
              "0    facebook\n",
              "1     twitter\n",
              "Name: canal_venda, dtype: object"
            ]
          },
          "metadata": {
            "tags": []
          },
          "execution_count": 41
        }
      ]
    },
    {
      "cell_type": "code",
      "metadata": {
        "id": "601PpIIye629",
        "colab_type": "code",
        "colab": {
          "base_uri": "https://localhost:8080/",
          "height": 204
        },
        "outputId": "82ae069e-dc62-408a-aa9a-324e6491bc23"
      },
      "source": [
        "dataframe"
      ],
      "execution_count": null,
      "outputs": [
        {
          "output_type": "execute_result",
          "data": {
            "text/html": [
              "<div>\n",
              "<style scoped>\n",
              "    .dataframe tbody tr th:only-of-type {\n",
              "        vertical-align: middle;\n",
              "    }\n",
              "\n",
              "    .dataframe tbody tr th {\n",
              "        vertical-align: top;\n",
              "    }\n",
              "\n",
              "    .dataframe thead th {\n",
              "        text-align: right;\n",
              "    }\n",
              "</style>\n",
              "<table border=\"1\" class=\"dataframe\">\n",
              "  <thead>\n",
              "    <tr style=\"text-align: right;\">\n",
              "      <th></th>\n",
              "      <th>canal_venda</th>\n",
              "      <th>acessos</th>\n",
              "      <th>site</th>\n",
              "      <th>vendas</th>\n",
              "      <th>lista</th>\n",
              "      <th>nova_coluna</th>\n",
              "    </tr>\n",
              "  </thead>\n",
              "  <tbody>\n",
              "    <tr>\n",
              "      <th>0</th>\n",
              "      <td>facebook</td>\n",
              "      <td>100</td>\n",
              "      <td>site1</td>\n",
              "      <td>1000.52</td>\n",
              "      <td>200</td>\n",
              "      <td>1</td>\n",
              "    </tr>\n",
              "    <tr>\n",
              "      <th>1</th>\n",
              "      <td>twitter</td>\n",
              "      <td>200</td>\n",
              "      <td>site1</td>\n",
              "      <td>1052.34</td>\n",
              "      <td>250</td>\n",
              "      <td>2</td>\n",
              "    </tr>\n",
              "    <tr>\n",
              "      <th>2</th>\n",
              "      <td>instagram</td>\n",
              "      <td>300</td>\n",
              "      <td>site2</td>\n",
              "      <td>2002.00</td>\n",
              "      <td>300</td>\n",
              "      <td>3</td>\n",
              "    </tr>\n",
              "    <tr>\n",
              "      <th>3</th>\n",
              "      <td>linkedin</td>\n",
              "      <td>400</td>\n",
              "      <td>site2</td>\n",
              "      <td>5000.00</td>\n",
              "      <td>800</td>\n",
              "      <td>4</td>\n",
              "    </tr>\n",
              "    <tr>\n",
              "      <th>4</th>\n",
              "      <td>facebook</td>\n",
              "      <td>500</td>\n",
              "      <td>site3</td>\n",
              "      <td>300.00</td>\n",
              "      <td>200</td>\n",
              "      <td>5</td>\n",
              "    </tr>\n",
              "  </tbody>\n",
              "</table>\n",
              "</div>"
            ],
            "text/plain": [
              "  canal_venda  acessos   site   vendas  lista  nova_coluna\n",
              "0    facebook      100  site1  1000.52    200            1\n",
              "1     twitter      200  site1  1052.34    250            2\n",
              "2   instagram      300  site2  2002.00    300            3\n",
              "3    linkedin      400  site2  5000.00    800            4\n",
              "4    facebook      500  site3   300.00    200            5"
            ]
          },
          "metadata": {
            "tags": []
          },
          "execution_count": 42
        }
      ]
    },
    {
      "cell_type": "code",
      "metadata": {
        "id": "tYQcTuzie63B",
        "colab_type": "code",
        "colab": {
          "base_uri": "https://localhost:8080/",
          "height": 111
        },
        "outputId": "47ab03db-55f7-4e04-f711-8d77d2d98bb0"
      },
      "source": [
        "### Fatiando os dados usando o iloc (linhas | colunas)\n",
        "dataframe.iloc[3:, 4:]"
      ],
      "execution_count": null,
      "outputs": [
        {
          "output_type": "execute_result",
          "data": {
            "text/html": [
              "<div>\n",
              "<style scoped>\n",
              "    .dataframe tbody tr th:only-of-type {\n",
              "        vertical-align: middle;\n",
              "    }\n",
              "\n",
              "    .dataframe tbody tr th {\n",
              "        vertical-align: top;\n",
              "    }\n",
              "\n",
              "    .dataframe thead th {\n",
              "        text-align: right;\n",
              "    }\n",
              "</style>\n",
              "<table border=\"1\" class=\"dataframe\">\n",
              "  <thead>\n",
              "    <tr style=\"text-align: right;\">\n",
              "      <th></th>\n",
              "      <th>lista</th>\n",
              "      <th>nova_coluna</th>\n",
              "    </tr>\n",
              "  </thead>\n",
              "  <tbody>\n",
              "    <tr>\n",
              "      <th>3</th>\n",
              "      <td>800</td>\n",
              "      <td>4</td>\n",
              "    </tr>\n",
              "    <tr>\n",
              "      <th>4</th>\n",
              "      <td>200</td>\n",
              "      <td>5</td>\n",
              "    </tr>\n",
              "  </tbody>\n",
              "</table>\n",
              "</div>"
            ],
            "text/plain": [
              "   lista  nova_coluna\n",
              "3    800            4\n",
              "4    200            5"
            ]
          },
          "metadata": {
            "tags": []
          },
          "execution_count": 43
        }
      ]
    },
    {
      "cell_type": "code",
      "metadata": {
        "id": "WYrExMGye63M",
        "colab_type": "code",
        "colab": {
          "base_uri": "https://localhost:8080/",
          "height": 204
        },
        "outputId": "9c4aba67-e648-4763-9358-799ded58a493"
      },
      "source": [
        "dataframe"
      ],
      "execution_count": null,
      "outputs": [
        {
          "output_type": "execute_result",
          "data": {
            "text/html": [
              "<div>\n",
              "<style scoped>\n",
              "    .dataframe tbody tr th:only-of-type {\n",
              "        vertical-align: middle;\n",
              "    }\n",
              "\n",
              "    .dataframe tbody tr th {\n",
              "        vertical-align: top;\n",
              "    }\n",
              "\n",
              "    .dataframe thead th {\n",
              "        text-align: right;\n",
              "    }\n",
              "</style>\n",
              "<table border=\"1\" class=\"dataframe\">\n",
              "  <thead>\n",
              "    <tr style=\"text-align: right;\">\n",
              "      <th></th>\n",
              "      <th>canal_venda</th>\n",
              "      <th>acessos</th>\n",
              "      <th>site</th>\n",
              "      <th>vendas</th>\n",
              "      <th>lista</th>\n",
              "      <th>nova_coluna</th>\n",
              "    </tr>\n",
              "  </thead>\n",
              "  <tbody>\n",
              "    <tr>\n",
              "      <th>0</th>\n",
              "      <td>facebook</td>\n",
              "      <td>100</td>\n",
              "      <td>site1</td>\n",
              "      <td>1000.52</td>\n",
              "      <td>200</td>\n",
              "      <td>1</td>\n",
              "    </tr>\n",
              "    <tr>\n",
              "      <th>1</th>\n",
              "      <td>twitter</td>\n",
              "      <td>200</td>\n",
              "      <td>site1</td>\n",
              "      <td>1052.34</td>\n",
              "      <td>250</td>\n",
              "      <td>2</td>\n",
              "    </tr>\n",
              "    <tr>\n",
              "      <th>2</th>\n",
              "      <td>instagram</td>\n",
              "      <td>300</td>\n",
              "      <td>site2</td>\n",
              "      <td>2002.00</td>\n",
              "      <td>300</td>\n",
              "      <td>3</td>\n",
              "    </tr>\n",
              "    <tr>\n",
              "      <th>3</th>\n",
              "      <td>linkedin</td>\n",
              "      <td>400</td>\n",
              "      <td>site2</td>\n",
              "      <td>5000.00</td>\n",
              "      <td>800</td>\n",
              "      <td>4</td>\n",
              "    </tr>\n",
              "    <tr>\n",
              "      <th>4</th>\n",
              "      <td>facebook</td>\n",
              "      <td>500</td>\n",
              "      <td>site3</td>\n",
              "      <td>300.00</td>\n",
              "      <td>200</td>\n",
              "      <td>5</td>\n",
              "    </tr>\n",
              "  </tbody>\n",
              "</table>\n",
              "</div>"
            ],
            "text/plain": [
              "  canal_venda  acessos   site   vendas  lista  nova_coluna\n",
              "0    facebook      100  site1  1000.52    200            1\n",
              "1     twitter      200  site1  1052.34    250            2\n",
              "2   instagram      300  site2  2002.00    300            3\n",
              "3    linkedin      400  site2  5000.00    800            4\n",
              "4    facebook      500  site3   300.00    200            5"
            ]
          },
          "metadata": {
            "tags": []
          },
          "execution_count": 44
        }
      ]
    },
    {
      "cell_type": "code",
      "metadata": {
        "id": "qlnzwNAae63g",
        "colab_type": "code",
        "colab": {
          "base_uri": "https://localhost:8080/",
          "height": 173
        },
        "outputId": "7487e59f-a117-4c1b-d05c-de68484ec4fe"
      },
      "source": [
        "#Fatiar os dados usando o loc (indice)\n",
        "dataframe.loc[:3]"
      ],
      "execution_count": null,
      "outputs": [
        {
          "output_type": "execute_result",
          "data": {
            "text/html": [
              "<div>\n",
              "<style scoped>\n",
              "    .dataframe tbody tr th:only-of-type {\n",
              "        vertical-align: middle;\n",
              "    }\n",
              "\n",
              "    .dataframe tbody tr th {\n",
              "        vertical-align: top;\n",
              "    }\n",
              "\n",
              "    .dataframe thead th {\n",
              "        text-align: right;\n",
              "    }\n",
              "</style>\n",
              "<table border=\"1\" class=\"dataframe\">\n",
              "  <thead>\n",
              "    <tr style=\"text-align: right;\">\n",
              "      <th></th>\n",
              "      <th>canal_venda</th>\n",
              "      <th>acessos</th>\n",
              "      <th>site</th>\n",
              "      <th>vendas</th>\n",
              "      <th>lista</th>\n",
              "      <th>nova_coluna</th>\n",
              "    </tr>\n",
              "  </thead>\n",
              "  <tbody>\n",
              "    <tr>\n",
              "      <th>0</th>\n",
              "      <td>facebook</td>\n",
              "      <td>100</td>\n",
              "      <td>site1</td>\n",
              "      <td>1000.52</td>\n",
              "      <td>200</td>\n",
              "      <td>1</td>\n",
              "    </tr>\n",
              "    <tr>\n",
              "      <th>1</th>\n",
              "      <td>twitter</td>\n",
              "      <td>200</td>\n",
              "      <td>site1</td>\n",
              "      <td>1052.34</td>\n",
              "      <td>250</td>\n",
              "      <td>2</td>\n",
              "    </tr>\n",
              "    <tr>\n",
              "      <th>2</th>\n",
              "      <td>instagram</td>\n",
              "      <td>300</td>\n",
              "      <td>site2</td>\n",
              "      <td>2002.00</td>\n",
              "      <td>300</td>\n",
              "      <td>3</td>\n",
              "    </tr>\n",
              "    <tr>\n",
              "      <th>3</th>\n",
              "      <td>linkedin</td>\n",
              "      <td>400</td>\n",
              "      <td>site2</td>\n",
              "      <td>5000.00</td>\n",
              "      <td>800</td>\n",
              "      <td>4</td>\n",
              "    </tr>\n",
              "  </tbody>\n",
              "</table>\n",
              "</div>"
            ],
            "text/plain": [
              "  canal_venda  acessos   site   vendas  lista  nova_coluna\n",
              "0    facebook      100  site1  1000.52    200            1\n",
              "1     twitter      200  site1  1052.34    250            2\n",
              "2   instagram      300  site2  2002.00    300            3\n",
              "3    linkedin      400  site2  5000.00    800            4"
            ]
          },
          "metadata": {
            "tags": []
          },
          "execution_count": 45
        }
      ]
    },
    {
      "cell_type": "code",
      "metadata": {
        "id": "08PhBeCxe63n",
        "colab_type": "code",
        "colab": {
          "base_uri": "https://localhost:8080/",
          "height": 204
        },
        "outputId": "8de6af10-5089-4b3e-f4e6-c811582800d9"
      },
      "source": [
        "#Selecionando colunas especificas\n",
        "dataframe[['canal_venda', 'vendas']]"
      ],
      "execution_count": null,
      "outputs": [
        {
          "output_type": "execute_result",
          "data": {
            "text/html": [
              "<div>\n",
              "<style scoped>\n",
              "    .dataframe tbody tr th:only-of-type {\n",
              "        vertical-align: middle;\n",
              "    }\n",
              "\n",
              "    .dataframe tbody tr th {\n",
              "        vertical-align: top;\n",
              "    }\n",
              "\n",
              "    .dataframe thead th {\n",
              "        text-align: right;\n",
              "    }\n",
              "</style>\n",
              "<table border=\"1\" class=\"dataframe\">\n",
              "  <thead>\n",
              "    <tr style=\"text-align: right;\">\n",
              "      <th></th>\n",
              "      <th>canal_venda</th>\n",
              "      <th>vendas</th>\n",
              "    </tr>\n",
              "  </thead>\n",
              "  <tbody>\n",
              "    <tr>\n",
              "      <th>0</th>\n",
              "      <td>facebook</td>\n",
              "      <td>1000.52</td>\n",
              "    </tr>\n",
              "    <tr>\n",
              "      <th>1</th>\n",
              "      <td>twitter</td>\n",
              "      <td>1052.34</td>\n",
              "    </tr>\n",
              "    <tr>\n",
              "      <th>2</th>\n",
              "      <td>instagram</td>\n",
              "      <td>2002.00</td>\n",
              "    </tr>\n",
              "    <tr>\n",
              "      <th>3</th>\n",
              "      <td>linkedin</td>\n",
              "      <td>5000.00</td>\n",
              "    </tr>\n",
              "    <tr>\n",
              "      <th>4</th>\n",
              "      <td>facebook</td>\n",
              "      <td>300.00</td>\n",
              "    </tr>\n",
              "  </tbody>\n",
              "</table>\n",
              "</div>"
            ],
            "text/plain": [
              "  canal_venda   vendas\n",
              "0    facebook  1000.52\n",
              "1     twitter  1052.34\n",
              "2   instagram  2002.00\n",
              "3    linkedin  5000.00\n",
              "4    facebook   300.00"
            ]
          },
          "metadata": {
            "tags": []
          },
          "execution_count": 46
        }
      ]
    },
    {
      "cell_type": "code",
      "metadata": {
        "id": "fzJfSY6Ae63x",
        "colab_type": "code",
        "colab": {}
      },
      "source": [
        "#Passando os valores atraves de lista\n",
        "filtro = ['canal_venda', 'acessos']"
      ],
      "execution_count": null,
      "outputs": []
    },
    {
      "cell_type": "markdown",
      "metadata": {
        "id": "pDi7v16s-r3t",
        "colab_type": "text"
      },
      "source": [
        "Para determinar as colunas que iremos trabalhar "
      ]
    },
    {
      "cell_type": "code",
      "metadata": {
        "id": "homCZ2gme632",
        "colab_type": "code",
        "colab": {
          "base_uri": "https://localhost:8080/",
          "height": 204
        },
        "outputId": "1df5073a-d3aa-440f-8c91-454bd5388cda"
      },
      "source": [
        "dataframe[filtro]"
      ],
      "execution_count": null,
      "outputs": [
        {
          "output_type": "execute_result",
          "data": {
            "text/html": [
              "<div>\n",
              "<style scoped>\n",
              "    .dataframe tbody tr th:only-of-type {\n",
              "        vertical-align: middle;\n",
              "    }\n",
              "\n",
              "    .dataframe tbody tr th {\n",
              "        vertical-align: top;\n",
              "    }\n",
              "\n",
              "    .dataframe thead th {\n",
              "        text-align: right;\n",
              "    }\n",
              "</style>\n",
              "<table border=\"1\" class=\"dataframe\">\n",
              "  <thead>\n",
              "    <tr style=\"text-align: right;\">\n",
              "      <th></th>\n",
              "      <th>canal_venda</th>\n",
              "      <th>acessos</th>\n",
              "    </tr>\n",
              "  </thead>\n",
              "  <tbody>\n",
              "    <tr>\n",
              "      <th>0</th>\n",
              "      <td>facebook</td>\n",
              "      <td>100</td>\n",
              "    </tr>\n",
              "    <tr>\n",
              "      <th>1</th>\n",
              "      <td>twitter</td>\n",
              "      <td>200</td>\n",
              "    </tr>\n",
              "    <tr>\n",
              "      <th>2</th>\n",
              "      <td>instagram</td>\n",
              "      <td>300</td>\n",
              "    </tr>\n",
              "    <tr>\n",
              "      <th>3</th>\n",
              "      <td>linkedin</td>\n",
              "      <td>400</td>\n",
              "    </tr>\n",
              "    <tr>\n",
              "      <th>4</th>\n",
              "      <td>facebook</td>\n",
              "      <td>500</td>\n",
              "    </tr>\n",
              "  </tbody>\n",
              "</table>\n",
              "</div>"
            ],
            "text/plain": [
              "  canal_venda  acessos\n",
              "0    facebook      100\n",
              "1     twitter      200\n",
              "2   instagram      300\n",
              "3    linkedin      400\n",
              "4    facebook      500"
            ]
          },
          "metadata": {
            "tags": []
          },
          "execution_count": 48
        }
      ]
    },
    {
      "cell_type": "code",
      "metadata": {
        "id": "O2Qo9C0Ne64F",
        "colab_type": "code",
        "colab": {
          "base_uri": "https://localhost:8080/",
          "height": 238
        },
        "outputId": "a6d56858-abe8-4bca-acb2-9d573ed19454"
      },
      "source": [
        "# Usando o metodo info()\n",
        "dataframe.info()"
      ],
      "execution_count": null,
      "outputs": [
        {
          "output_type": "stream",
          "text": [
            "<class 'pandas.core.frame.DataFrame'>\n",
            "RangeIndex: 5 entries, 0 to 4\n",
            "Data columns (total 6 columns):\n",
            " #   Column       Non-Null Count  Dtype  \n",
            "---  ------       --------------  -----  \n",
            " 0   canal_venda  5 non-null      object \n",
            " 1   acessos      5 non-null      int64  \n",
            " 2   site         5 non-null      object \n",
            " 3   vendas       5 non-null      float64\n",
            " 4   lista        5 non-null      int64  \n",
            " 5   nova_coluna  5 non-null      int64  \n",
            "dtypes: float64(1), int64(3), object(2)\n",
            "memory usage: 368.0+ bytes\n"
          ],
          "name": "stdout"
        }
      ]
    },
    {
      "cell_type": "code",
      "metadata": {
        "id": "YfP1fsHue64O",
        "colab_type": "code",
        "colab": {
          "base_uri": "https://localhost:8080/",
          "height": 204
        },
        "outputId": "abd51c07-7864-4998-82f0-c54d8b69fea3"
      },
      "source": [
        "dataframe"
      ],
      "execution_count": null,
      "outputs": [
        {
          "output_type": "execute_result",
          "data": {
            "text/html": [
              "<div>\n",
              "<style scoped>\n",
              "    .dataframe tbody tr th:only-of-type {\n",
              "        vertical-align: middle;\n",
              "    }\n",
              "\n",
              "    .dataframe tbody tr th {\n",
              "        vertical-align: top;\n",
              "    }\n",
              "\n",
              "    .dataframe thead th {\n",
              "        text-align: right;\n",
              "    }\n",
              "</style>\n",
              "<table border=\"1\" class=\"dataframe\">\n",
              "  <thead>\n",
              "    <tr style=\"text-align: right;\">\n",
              "      <th></th>\n",
              "      <th>canal_venda</th>\n",
              "      <th>acessos</th>\n",
              "      <th>site</th>\n",
              "      <th>vendas</th>\n",
              "      <th>lista</th>\n",
              "      <th>nova_coluna</th>\n",
              "    </tr>\n",
              "  </thead>\n",
              "  <tbody>\n",
              "    <tr>\n",
              "      <th>0</th>\n",
              "      <td>facebook</td>\n",
              "      <td>100</td>\n",
              "      <td>site1</td>\n",
              "      <td>1000.52</td>\n",
              "      <td>200</td>\n",
              "      <td>1</td>\n",
              "    </tr>\n",
              "    <tr>\n",
              "      <th>1</th>\n",
              "      <td>twitter</td>\n",
              "      <td>200</td>\n",
              "      <td>site1</td>\n",
              "      <td>1052.34</td>\n",
              "      <td>250</td>\n",
              "      <td>2</td>\n",
              "    </tr>\n",
              "    <tr>\n",
              "      <th>2</th>\n",
              "      <td>instagram</td>\n",
              "      <td>300</td>\n",
              "      <td>site2</td>\n",
              "      <td>2002.00</td>\n",
              "      <td>300</td>\n",
              "      <td>3</td>\n",
              "    </tr>\n",
              "    <tr>\n",
              "      <th>3</th>\n",
              "      <td>linkedin</td>\n",
              "      <td>400</td>\n",
              "      <td>site2</td>\n",
              "      <td>5000.00</td>\n",
              "      <td>800</td>\n",
              "      <td>4</td>\n",
              "    </tr>\n",
              "    <tr>\n",
              "      <th>4</th>\n",
              "      <td>facebook</td>\n",
              "      <td>500</td>\n",
              "      <td>site3</td>\n",
              "      <td>300.00</td>\n",
              "      <td>200</td>\n",
              "      <td>5</td>\n",
              "    </tr>\n",
              "  </tbody>\n",
              "</table>\n",
              "</div>"
            ],
            "text/plain": [
              "  canal_venda  acessos   site   vendas  lista  nova_coluna\n",
              "0    facebook      100  site1  1000.52    200            1\n",
              "1     twitter      200  site1  1052.34    250            2\n",
              "2   instagram      300  site2  2002.00    300            3\n",
              "3    linkedin      400  site2  5000.00    800            4\n",
              "4    facebook      500  site3   300.00    200            5"
            ]
          },
          "metadata": {
            "tags": []
          },
          "execution_count": 50
        }
      ]
    },
    {
      "cell_type": "code",
      "metadata": {
        "id": "Nm8D1Wj8e64T",
        "colab_type": "code",
        "colab": {}
      },
      "source": [
        "#Pivotando os dados (coluna)\n",
        "aux = dataframe.pivot(index = 'canal_venda', columns='site', values='acessos')"
      ],
      "execution_count": null,
      "outputs": []
    },
    {
      "cell_type": "code",
      "metadata": {
        "id": "NMQVxUixe64Y",
        "colab_type": "code",
        "colab": {
          "base_uri": "https://localhost:8080/",
          "height": 187
        },
        "outputId": "83dc326e-8554-4712-919f-b3a7a588fcda"
      },
      "source": [
        "aux.info()"
      ],
      "execution_count": null,
      "outputs": [
        {
          "output_type": "stream",
          "text": [
            "<class 'pandas.core.frame.DataFrame'>\n",
            "Index: 4 entries, facebook to twitter\n",
            "Data columns (total 3 columns):\n",
            " #   Column  Non-Null Count  Dtype  \n",
            "---  ------  --------------  -----  \n",
            " 0   site1   2 non-null      float64\n",
            " 1   site2   2 non-null      float64\n",
            " 2   site3   1 non-null      float64\n",
            "dtypes: float64(3)\n",
            "memory usage: 128.0+ bytes\n"
          ],
          "name": "stdout"
        }
      ]
    },
    {
      "cell_type": "code",
      "metadata": {
        "id": "LeEUq8H8e64b",
        "colab_type": "code",
        "colab": {
          "base_uri": "https://localhost:8080/",
          "height": 204
        },
        "outputId": "2168c6fa-42b4-4429-84b1-e0b88d7dd9ce"
      },
      "source": [
        "#Completando os valores faltantes usando fillna\n",
        "#Pivotando os dados (coluna)\n",
        "aux= dataframe.pivot(index = 'canal_venda', columns='site', values='acessos').fillna(0)\n",
        "dataframe.pivot(index = 'canal_venda', columns='site', values='acessos').fillna(0)"
      ],
      "execution_count": null,
      "outputs": [
        {
          "output_type": "execute_result",
          "data": {
            "text/html": [
              "<div>\n",
              "<style scoped>\n",
              "    .dataframe tbody tr th:only-of-type {\n",
              "        vertical-align: middle;\n",
              "    }\n",
              "\n",
              "    .dataframe tbody tr th {\n",
              "        vertical-align: top;\n",
              "    }\n",
              "\n",
              "    .dataframe thead th {\n",
              "        text-align: right;\n",
              "    }\n",
              "</style>\n",
              "<table border=\"1\" class=\"dataframe\">\n",
              "  <thead>\n",
              "    <tr style=\"text-align: right;\">\n",
              "      <th>site</th>\n",
              "      <th>site1</th>\n",
              "      <th>site2</th>\n",
              "      <th>site3</th>\n",
              "    </tr>\n",
              "    <tr>\n",
              "      <th>canal_venda</th>\n",
              "      <th></th>\n",
              "      <th></th>\n",
              "      <th></th>\n",
              "    </tr>\n",
              "  </thead>\n",
              "  <tbody>\n",
              "    <tr>\n",
              "      <th>facebook</th>\n",
              "      <td>100.0</td>\n",
              "      <td>0.0</td>\n",
              "      <td>500.0</td>\n",
              "    </tr>\n",
              "    <tr>\n",
              "      <th>instagram</th>\n",
              "      <td>0.0</td>\n",
              "      <td>300.0</td>\n",
              "      <td>0.0</td>\n",
              "    </tr>\n",
              "    <tr>\n",
              "      <th>linkedin</th>\n",
              "      <td>0.0</td>\n",
              "      <td>400.0</td>\n",
              "      <td>0.0</td>\n",
              "    </tr>\n",
              "    <tr>\n",
              "      <th>twitter</th>\n",
              "      <td>200.0</td>\n",
              "      <td>0.0</td>\n",
              "      <td>0.0</td>\n",
              "    </tr>\n",
              "  </tbody>\n",
              "</table>\n",
              "</div>"
            ],
            "text/plain": [
              "site         site1  site2  site3\n",
              "canal_venda                     \n",
              "facebook     100.0    0.0  500.0\n",
              "instagram      0.0  300.0    0.0\n",
              "linkedin       0.0  400.0    0.0\n",
              "twitter      200.0    0.0    0.0"
            ]
          },
          "metadata": {
            "tags": []
          },
          "execution_count": 53
        }
      ]
    },
    {
      "cell_type": "code",
      "metadata": {
        "id": "5JCI9GjPe64p",
        "colab_type": "code",
        "colab": {
          "base_uri": "https://localhost:8080/",
          "height": 204
        },
        "outputId": "bfeaa9fa-0e61-495d-d9bc-4f1f5a7f1438"
      },
      "source": [
        "dataframe"
      ],
      "execution_count": null,
      "outputs": [
        {
          "output_type": "execute_result",
          "data": {
            "text/html": [
              "<div>\n",
              "<style scoped>\n",
              "    .dataframe tbody tr th:only-of-type {\n",
              "        vertical-align: middle;\n",
              "    }\n",
              "\n",
              "    .dataframe tbody tr th {\n",
              "        vertical-align: top;\n",
              "    }\n",
              "\n",
              "    .dataframe thead th {\n",
              "        text-align: right;\n",
              "    }\n",
              "</style>\n",
              "<table border=\"1\" class=\"dataframe\">\n",
              "  <thead>\n",
              "    <tr style=\"text-align: right;\">\n",
              "      <th></th>\n",
              "      <th>canal_venda</th>\n",
              "      <th>acessos</th>\n",
              "      <th>site</th>\n",
              "      <th>vendas</th>\n",
              "      <th>lista</th>\n",
              "      <th>nova_coluna</th>\n",
              "    </tr>\n",
              "  </thead>\n",
              "  <tbody>\n",
              "    <tr>\n",
              "      <th>0</th>\n",
              "      <td>facebook</td>\n",
              "      <td>100</td>\n",
              "      <td>site1</td>\n",
              "      <td>1000.52</td>\n",
              "      <td>200</td>\n",
              "      <td>1</td>\n",
              "    </tr>\n",
              "    <tr>\n",
              "      <th>1</th>\n",
              "      <td>twitter</td>\n",
              "      <td>200</td>\n",
              "      <td>site1</td>\n",
              "      <td>1052.34</td>\n",
              "      <td>250</td>\n",
              "      <td>2</td>\n",
              "    </tr>\n",
              "    <tr>\n",
              "      <th>2</th>\n",
              "      <td>instagram</td>\n",
              "      <td>300</td>\n",
              "      <td>site2</td>\n",
              "      <td>2002.00</td>\n",
              "      <td>300</td>\n",
              "      <td>3</td>\n",
              "    </tr>\n",
              "    <tr>\n",
              "      <th>3</th>\n",
              "      <td>linkedin</td>\n",
              "      <td>400</td>\n",
              "      <td>site2</td>\n",
              "      <td>5000.00</td>\n",
              "      <td>800</td>\n",
              "      <td>4</td>\n",
              "    </tr>\n",
              "    <tr>\n",
              "      <th>4</th>\n",
              "      <td>facebook</td>\n",
              "      <td>500</td>\n",
              "      <td>site3</td>\n",
              "      <td>300.00</td>\n",
              "      <td>200</td>\n",
              "      <td>5</td>\n",
              "    </tr>\n",
              "  </tbody>\n",
              "</table>\n",
              "</div>"
            ],
            "text/plain": [
              "  canal_venda  acessos   site   vendas  lista  nova_coluna\n",
              "0    facebook      100  site1  1000.52    200            1\n",
              "1     twitter      200  site1  1052.34    250            2\n",
              "2   instagram      300  site2  2002.00    300            3\n",
              "3    linkedin      400  site2  5000.00    800            4\n",
              "4    facebook      500  site3   300.00    200            5"
            ]
          },
          "metadata": {
            "tags": []
          },
          "execution_count": 54
        }
      ]
    },
    {
      "cell_type": "code",
      "metadata": {
        "id": "e9XkeWGVe642",
        "colab_type": "code",
        "colab": {
          "base_uri": "https://localhost:8080/",
          "height": 204
        },
        "outputId": "4f56e681-3be2-49f9-f55a-9df50123d087"
      },
      "source": [
        "# Mudando as colunas usando o comando melt\n",
        "dataframe.melt(id_vars='site', value_vars=['canal_venda'])"
      ],
      "execution_count": null,
      "outputs": [
        {
          "output_type": "execute_result",
          "data": {
            "text/html": [
              "<div>\n",
              "<style scoped>\n",
              "    .dataframe tbody tr th:only-of-type {\n",
              "        vertical-align: middle;\n",
              "    }\n",
              "\n",
              "    .dataframe tbody tr th {\n",
              "        vertical-align: top;\n",
              "    }\n",
              "\n",
              "    .dataframe thead th {\n",
              "        text-align: right;\n",
              "    }\n",
              "</style>\n",
              "<table border=\"1\" class=\"dataframe\">\n",
              "  <thead>\n",
              "    <tr style=\"text-align: right;\">\n",
              "      <th></th>\n",
              "      <th>site</th>\n",
              "      <th>variable</th>\n",
              "      <th>value</th>\n",
              "    </tr>\n",
              "  </thead>\n",
              "  <tbody>\n",
              "    <tr>\n",
              "      <th>0</th>\n",
              "      <td>site1</td>\n",
              "      <td>canal_venda</td>\n",
              "      <td>facebook</td>\n",
              "    </tr>\n",
              "    <tr>\n",
              "      <th>1</th>\n",
              "      <td>site1</td>\n",
              "      <td>canal_venda</td>\n",
              "      <td>twitter</td>\n",
              "    </tr>\n",
              "    <tr>\n",
              "      <th>2</th>\n",
              "      <td>site2</td>\n",
              "      <td>canal_venda</td>\n",
              "      <td>instagram</td>\n",
              "    </tr>\n",
              "    <tr>\n",
              "      <th>3</th>\n",
              "      <td>site2</td>\n",
              "      <td>canal_venda</td>\n",
              "      <td>linkedin</td>\n",
              "    </tr>\n",
              "    <tr>\n",
              "      <th>4</th>\n",
              "      <td>site3</td>\n",
              "      <td>canal_venda</td>\n",
              "      <td>facebook</td>\n",
              "    </tr>\n",
              "  </tbody>\n",
              "</table>\n",
              "</div>"
            ],
            "text/plain": [
              "    site     variable      value\n",
              "0  site1  canal_venda   facebook\n",
              "1  site1  canal_venda    twitter\n",
              "2  site2  canal_venda  instagram\n",
              "3  site2  canal_venda   linkedin\n",
              "4  site3  canal_venda   facebook"
            ]
          },
          "metadata": {
            "tags": []
          },
          "execution_count": 55
        }
      ]
    },
    {
      "cell_type": "markdown",
      "metadata": {
        "id": "ZQm8fHo3BNjf",
        "colab_type": "text"
      },
      "source": [
        "Quando eu tenho 3 valores e quero agrupar tudo em uma unica coluna"
      ]
    },
    {
      "cell_type": "code",
      "metadata": {
        "id": "gRqLg7Qoe65B",
        "colab_type": "code",
        "colab": {
          "base_uri": "https://localhost:8080/",
          "height": 85
        },
        "outputId": "1ac1341d-faf5-452e-e16e-99a43aabb655"
      },
      "source": [
        "#Resetando o indice do dataframe\n",
        "print(aux.columns)\n",
        "aux = dataframe.reset_index()\n",
        "print(aux.columns)"
      ],
      "execution_count": null,
      "outputs": [
        {
          "output_type": "stream",
          "text": [
            "Index(['site1', 'site2', 'site3'], dtype='object', name='site')\n",
            "Index(['index', 'canal_venda', 'acessos', 'site', 'vendas', 'lista',\n",
            "       'nova_coluna'],\n",
            "      dtype='object')\n"
          ],
          "name": "stdout"
        }
      ]
    },
    {
      "cell_type": "code",
      "metadata": {
        "id": "Skh7OhHre65J",
        "colab_type": "code",
        "colab": {
          "base_uri": "https://localhost:8080/",
          "height": 204
        },
        "outputId": "070d83f2-a445-446c-88a0-32d306cef0f4"
      },
      "source": [
        "dataframe"
      ],
      "execution_count": null,
      "outputs": [
        {
          "output_type": "execute_result",
          "data": {
            "text/html": [
              "<div>\n",
              "<style scoped>\n",
              "    .dataframe tbody tr th:only-of-type {\n",
              "        vertical-align: middle;\n",
              "    }\n",
              "\n",
              "    .dataframe tbody tr th {\n",
              "        vertical-align: top;\n",
              "    }\n",
              "\n",
              "    .dataframe thead th {\n",
              "        text-align: right;\n",
              "    }\n",
              "</style>\n",
              "<table border=\"1\" class=\"dataframe\">\n",
              "  <thead>\n",
              "    <tr style=\"text-align: right;\">\n",
              "      <th></th>\n",
              "      <th>canal_venda</th>\n",
              "      <th>acessos</th>\n",
              "      <th>site</th>\n",
              "      <th>vendas</th>\n",
              "      <th>lista</th>\n",
              "      <th>nova_coluna</th>\n",
              "    </tr>\n",
              "  </thead>\n",
              "  <tbody>\n",
              "    <tr>\n",
              "      <th>0</th>\n",
              "      <td>facebook</td>\n",
              "      <td>100</td>\n",
              "      <td>site1</td>\n",
              "      <td>1000.52</td>\n",
              "      <td>200</td>\n",
              "      <td>1</td>\n",
              "    </tr>\n",
              "    <tr>\n",
              "      <th>1</th>\n",
              "      <td>twitter</td>\n",
              "      <td>200</td>\n",
              "      <td>site1</td>\n",
              "      <td>1052.34</td>\n",
              "      <td>250</td>\n",
              "      <td>2</td>\n",
              "    </tr>\n",
              "    <tr>\n",
              "      <th>2</th>\n",
              "      <td>instagram</td>\n",
              "      <td>300</td>\n",
              "      <td>site2</td>\n",
              "      <td>2002.00</td>\n",
              "      <td>300</td>\n",
              "      <td>3</td>\n",
              "    </tr>\n",
              "    <tr>\n",
              "      <th>3</th>\n",
              "      <td>linkedin</td>\n",
              "      <td>400</td>\n",
              "      <td>site2</td>\n",
              "      <td>5000.00</td>\n",
              "      <td>800</td>\n",
              "      <td>4</td>\n",
              "    </tr>\n",
              "    <tr>\n",
              "      <th>4</th>\n",
              "      <td>facebook</td>\n",
              "      <td>500</td>\n",
              "      <td>site3</td>\n",
              "      <td>300.00</td>\n",
              "      <td>200</td>\n",
              "      <td>5</td>\n",
              "    </tr>\n",
              "  </tbody>\n",
              "</table>\n",
              "</div>"
            ],
            "text/plain": [
              "  canal_venda  acessos   site   vendas  lista  nova_coluna\n",
              "0    facebook      100  site1  1000.52    200            1\n",
              "1     twitter      200  site1  1052.34    250            2\n",
              "2   instagram      300  site2  2002.00    300            3\n",
              "3    linkedin      400  site2  5000.00    800            4\n",
              "4    facebook      500  site3   300.00    200            5"
            ]
          },
          "metadata": {
            "tags": []
          },
          "execution_count": 57
        }
      ]
    },
    {
      "cell_type": "code",
      "metadata": {
        "id": "croUXGkze65W",
        "colab_type": "code",
        "colab": {
          "base_uri": "https://localhost:8080/",
          "height": 204
        },
        "outputId": "0a624b14-4e0e-4524-ed1c-f1df8f37c17d"
      },
      "source": [
        "aux.reset_index()"
      ],
      "execution_count": null,
      "outputs": [
        {
          "output_type": "execute_result",
          "data": {
            "text/html": [
              "<div>\n",
              "<style scoped>\n",
              "    .dataframe tbody tr th:only-of-type {\n",
              "        vertical-align: middle;\n",
              "    }\n",
              "\n",
              "    .dataframe tbody tr th {\n",
              "        vertical-align: top;\n",
              "    }\n",
              "\n",
              "    .dataframe thead th {\n",
              "        text-align: right;\n",
              "    }\n",
              "</style>\n",
              "<table border=\"1\" class=\"dataframe\">\n",
              "  <thead>\n",
              "    <tr style=\"text-align: right;\">\n",
              "      <th></th>\n",
              "      <th>level_0</th>\n",
              "      <th>index</th>\n",
              "      <th>canal_venda</th>\n",
              "      <th>acessos</th>\n",
              "      <th>site</th>\n",
              "      <th>vendas</th>\n",
              "      <th>lista</th>\n",
              "      <th>nova_coluna</th>\n",
              "    </tr>\n",
              "  </thead>\n",
              "  <tbody>\n",
              "    <tr>\n",
              "      <th>0</th>\n",
              "      <td>0</td>\n",
              "      <td>0</td>\n",
              "      <td>facebook</td>\n",
              "      <td>100</td>\n",
              "      <td>site1</td>\n",
              "      <td>1000.52</td>\n",
              "      <td>200</td>\n",
              "      <td>1</td>\n",
              "    </tr>\n",
              "    <tr>\n",
              "      <th>1</th>\n",
              "      <td>1</td>\n",
              "      <td>1</td>\n",
              "      <td>twitter</td>\n",
              "      <td>200</td>\n",
              "      <td>site1</td>\n",
              "      <td>1052.34</td>\n",
              "      <td>250</td>\n",
              "      <td>2</td>\n",
              "    </tr>\n",
              "    <tr>\n",
              "      <th>2</th>\n",
              "      <td>2</td>\n",
              "      <td>2</td>\n",
              "      <td>instagram</td>\n",
              "      <td>300</td>\n",
              "      <td>site2</td>\n",
              "      <td>2002.00</td>\n",
              "      <td>300</td>\n",
              "      <td>3</td>\n",
              "    </tr>\n",
              "    <tr>\n",
              "      <th>3</th>\n",
              "      <td>3</td>\n",
              "      <td>3</td>\n",
              "      <td>linkedin</td>\n",
              "      <td>400</td>\n",
              "      <td>site2</td>\n",
              "      <td>5000.00</td>\n",
              "      <td>800</td>\n",
              "      <td>4</td>\n",
              "    </tr>\n",
              "    <tr>\n",
              "      <th>4</th>\n",
              "      <td>4</td>\n",
              "      <td>4</td>\n",
              "      <td>facebook</td>\n",
              "      <td>500</td>\n",
              "      <td>site3</td>\n",
              "      <td>300.00</td>\n",
              "      <td>200</td>\n",
              "      <td>5</td>\n",
              "    </tr>\n",
              "  </tbody>\n",
              "</table>\n",
              "</div>"
            ],
            "text/plain": [
              "   level_0  index canal_venda  acessos   site   vendas  lista  nova_coluna\n",
              "0        0      0    facebook      100  site1  1000.52    200            1\n",
              "1        1      1     twitter      200  site1  1052.34    250            2\n",
              "2        2      2   instagram      300  site2  2002.00    300            3\n",
              "3        3      3    linkedin      400  site2  5000.00    800            4\n",
              "4        4      4    facebook      500  site3   300.00    200            5"
            ]
          },
          "metadata": {
            "tags": []
          },
          "execution_count": 58
        }
      ]
    },
    {
      "cell_type": "code",
      "metadata": {
        "id": "t6hKNeRfe65b",
        "colab_type": "code",
        "colab": {
          "base_uri": "https://localhost:8080/",
          "height": 204
        },
        "outputId": "08b9f9fb-2e8f-4dda-d660-57e3f6a5757b"
      },
      "source": [
        "aux"
      ],
      "execution_count": null,
      "outputs": [
        {
          "output_type": "execute_result",
          "data": {
            "text/html": [
              "<div>\n",
              "<style scoped>\n",
              "    .dataframe tbody tr th:only-of-type {\n",
              "        vertical-align: middle;\n",
              "    }\n",
              "\n",
              "    .dataframe tbody tr th {\n",
              "        vertical-align: top;\n",
              "    }\n",
              "\n",
              "    .dataframe thead th {\n",
              "        text-align: right;\n",
              "    }\n",
              "</style>\n",
              "<table border=\"1\" class=\"dataframe\">\n",
              "  <thead>\n",
              "    <tr style=\"text-align: right;\">\n",
              "      <th></th>\n",
              "      <th>index</th>\n",
              "      <th>canal_venda</th>\n",
              "      <th>acessos</th>\n",
              "      <th>site</th>\n",
              "      <th>vendas</th>\n",
              "      <th>lista</th>\n",
              "      <th>nova_coluna</th>\n",
              "    </tr>\n",
              "  </thead>\n",
              "  <tbody>\n",
              "    <tr>\n",
              "      <th>0</th>\n",
              "      <td>0</td>\n",
              "      <td>facebook</td>\n",
              "      <td>100</td>\n",
              "      <td>site1</td>\n",
              "      <td>1000.52</td>\n",
              "      <td>200</td>\n",
              "      <td>1</td>\n",
              "    </tr>\n",
              "    <tr>\n",
              "      <th>1</th>\n",
              "      <td>1</td>\n",
              "      <td>twitter</td>\n",
              "      <td>200</td>\n",
              "      <td>site1</td>\n",
              "      <td>1052.34</td>\n",
              "      <td>250</td>\n",
              "      <td>2</td>\n",
              "    </tr>\n",
              "    <tr>\n",
              "      <th>2</th>\n",
              "      <td>2</td>\n",
              "      <td>instagram</td>\n",
              "      <td>300</td>\n",
              "      <td>site2</td>\n",
              "      <td>2002.00</td>\n",
              "      <td>300</td>\n",
              "      <td>3</td>\n",
              "    </tr>\n",
              "    <tr>\n",
              "      <th>3</th>\n",
              "      <td>3</td>\n",
              "      <td>linkedin</td>\n",
              "      <td>400</td>\n",
              "      <td>site2</td>\n",
              "      <td>5000.00</td>\n",
              "      <td>800</td>\n",
              "      <td>4</td>\n",
              "    </tr>\n",
              "    <tr>\n",
              "      <th>4</th>\n",
              "      <td>4</td>\n",
              "      <td>facebook</td>\n",
              "      <td>500</td>\n",
              "      <td>site3</td>\n",
              "      <td>300.00</td>\n",
              "      <td>200</td>\n",
              "      <td>5</td>\n",
              "    </tr>\n",
              "  </tbody>\n",
              "</table>\n",
              "</div>"
            ],
            "text/plain": [
              "   index canal_venda  acessos   site   vendas  lista  nova_coluna\n",
              "0      0    facebook      100  site1  1000.52    200            1\n",
              "1      1     twitter      200  site1  1052.34    250            2\n",
              "2      2   instagram      300  site2  2002.00    300            3\n",
              "3      3    linkedin      400  site2  5000.00    800            4\n",
              "4      4    facebook      500  site3   300.00    200            5"
            ]
          },
          "metadata": {
            "tags": []
          },
          "execution_count": 59
        }
      ]
    },
    {
      "cell_type": "code",
      "metadata": {
        "id": "1_ejTv8Pe65l",
        "colab_type": "code",
        "colab": {}
      },
      "source": [
        "#Exemplo do comando melt\n",
        "aux.melt(id_vars='canal_venda', value_vars =['site1', 'site2', 'site3'])"
      ],
      "execution_count": null,
      "outputs": []
    },
    {
      "cell_type": "code",
      "metadata": {
        "id": "xiK-4WOPe65s",
        "colab_type": "code",
        "colab": {
          "base_uri": "https://localhost:8080/",
          "height": 204
        },
        "outputId": "08ec5c51-a48d-4691-8b4d-2bd227101e19"
      },
      "source": [
        "dataframe"
      ],
      "execution_count": null,
      "outputs": [
        {
          "output_type": "execute_result",
          "data": {
            "text/html": [
              "<div>\n",
              "<style scoped>\n",
              "    .dataframe tbody tr th:only-of-type {\n",
              "        vertical-align: middle;\n",
              "    }\n",
              "\n",
              "    .dataframe tbody tr th {\n",
              "        vertical-align: top;\n",
              "    }\n",
              "\n",
              "    .dataframe thead th {\n",
              "        text-align: right;\n",
              "    }\n",
              "</style>\n",
              "<table border=\"1\" class=\"dataframe\">\n",
              "  <thead>\n",
              "    <tr style=\"text-align: right;\">\n",
              "      <th></th>\n",
              "      <th>canal_venda</th>\n",
              "      <th>acessos</th>\n",
              "      <th>site</th>\n",
              "      <th>vendas</th>\n",
              "      <th>lista</th>\n",
              "      <th>nova_coluna</th>\n",
              "    </tr>\n",
              "  </thead>\n",
              "  <tbody>\n",
              "    <tr>\n",
              "      <th>0</th>\n",
              "      <td>facebook</td>\n",
              "      <td>100</td>\n",
              "      <td>site1</td>\n",
              "      <td>1000.52</td>\n",
              "      <td>200</td>\n",
              "      <td>1</td>\n",
              "    </tr>\n",
              "    <tr>\n",
              "      <th>1</th>\n",
              "      <td>twitter</td>\n",
              "      <td>200</td>\n",
              "      <td>site1</td>\n",
              "      <td>1052.34</td>\n",
              "      <td>250</td>\n",
              "      <td>2</td>\n",
              "    </tr>\n",
              "    <tr>\n",
              "      <th>2</th>\n",
              "      <td>instagram</td>\n",
              "      <td>300</td>\n",
              "      <td>site2</td>\n",
              "      <td>2002.00</td>\n",
              "      <td>300</td>\n",
              "      <td>3</td>\n",
              "    </tr>\n",
              "    <tr>\n",
              "      <th>3</th>\n",
              "      <td>linkedin</td>\n",
              "      <td>400</td>\n",
              "      <td>site2</td>\n",
              "      <td>5000.00</td>\n",
              "      <td>800</td>\n",
              "      <td>4</td>\n",
              "    </tr>\n",
              "    <tr>\n",
              "      <th>4</th>\n",
              "      <td>facebook</td>\n",
              "      <td>500</td>\n",
              "      <td>site3</td>\n",
              "      <td>300.00</td>\n",
              "      <td>200</td>\n",
              "      <td>5</td>\n",
              "    </tr>\n",
              "  </tbody>\n",
              "</table>\n",
              "</div>"
            ],
            "text/plain": [
              "  canal_venda  acessos   site   vendas  lista  nova_coluna\n",
              "0    facebook      100  site1  1000.52    200            1\n",
              "1     twitter      200  site1  1052.34    250            2\n",
              "2   instagram      300  site2  2002.00    300            3\n",
              "3    linkedin      400  site2  5000.00    800            4\n",
              "4    facebook      500  site3   300.00    200            5"
            ]
          },
          "metadata": {
            "tags": []
          },
          "execution_count": 61
        }
      ]
    },
    {
      "cell_type": "code",
      "metadata": {
        "id": "ygRHE_pke650",
        "colab_type": "code",
        "colab": {
          "base_uri": "https://localhost:8080/",
          "height": 136
        },
        "outputId": "1b675b84-affd-4933-9fc1-939255c7d3c4"
      },
      "source": [
        "#Somando as colunas do dataframe\n",
        "dataframe.sum()"
      ],
      "execution_count": null,
      "outputs": [
        {
          "output_type": "execute_result",
          "data": {
            "text/plain": [
              "canal_venda    facebooktwitterinstagramlinkedinfacebook\n",
              "acessos                                            1500\n",
              "site                          site1site1site2site2site3\n",
              "vendas                                          9354.86\n",
              "lista                                              1750\n",
              "nova_coluna                                          15\n",
              "dtype: object"
            ]
          },
          "metadata": {
            "tags": []
          },
          "execution_count": 62
        }
      ]
    },
    {
      "cell_type": "code",
      "metadata": {
        "id": "ruK4fEo0e656",
        "colab_type": "code",
        "colab": {
          "base_uri": "https://localhost:8080/",
          "height": 204
        },
        "outputId": "31b4b44a-ec9c-4184-9ded-866843217e79"
      },
      "source": [
        "dataframe"
      ],
      "execution_count": null,
      "outputs": [
        {
          "output_type": "execute_result",
          "data": {
            "text/html": [
              "<div>\n",
              "<style scoped>\n",
              "    .dataframe tbody tr th:only-of-type {\n",
              "        vertical-align: middle;\n",
              "    }\n",
              "\n",
              "    .dataframe tbody tr th {\n",
              "        vertical-align: top;\n",
              "    }\n",
              "\n",
              "    .dataframe thead th {\n",
              "        text-align: right;\n",
              "    }\n",
              "</style>\n",
              "<table border=\"1\" class=\"dataframe\">\n",
              "  <thead>\n",
              "    <tr style=\"text-align: right;\">\n",
              "      <th></th>\n",
              "      <th>canal_venda</th>\n",
              "      <th>acessos</th>\n",
              "      <th>site</th>\n",
              "      <th>vendas</th>\n",
              "      <th>lista</th>\n",
              "      <th>nova_coluna</th>\n",
              "    </tr>\n",
              "  </thead>\n",
              "  <tbody>\n",
              "    <tr>\n",
              "      <th>0</th>\n",
              "      <td>facebook</td>\n",
              "      <td>100</td>\n",
              "      <td>site1</td>\n",
              "      <td>1000.52</td>\n",
              "      <td>200</td>\n",
              "      <td>1</td>\n",
              "    </tr>\n",
              "    <tr>\n",
              "      <th>1</th>\n",
              "      <td>twitter</td>\n",
              "      <td>200</td>\n",
              "      <td>site1</td>\n",
              "      <td>1052.34</td>\n",
              "      <td>250</td>\n",
              "      <td>2</td>\n",
              "    </tr>\n",
              "    <tr>\n",
              "      <th>2</th>\n",
              "      <td>instagram</td>\n",
              "      <td>300</td>\n",
              "      <td>site2</td>\n",
              "      <td>2002.00</td>\n",
              "      <td>300</td>\n",
              "      <td>3</td>\n",
              "    </tr>\n",
              "    <tr>\n",
              "      <th>3</th>\n",
              "      <td>linkedin</td>\n",
              "      <td>400</td>\n",
              "      <td>site2</td>\n",
              "      <td>5000.00</td>\n",
              "      <td>800</td>\n",
              "      <td>4</td>\n",
              "    </tr>\n",
              "    <tr>\n",
              "      <th>4</th>\n",
              "      <td>facebook</td>\n",
              "      <td>500</td>\n",
              "      <td>site3</td>\n",
              "      <td>300.00</td>\n",
              "      <td>200</td>\n",
              "      <td>5</td>\n",
              "    </tr>\n",
              "  </tbody>\n",
              "</table>\n",
              "</div>"
            ],
            "text/plain": [
              "  canal_venda  acessos   site   vendas  lista  nova_coluna\n",
              "0    facebook      100  site1  1000.52    200            1\n",
              "1     twitter      200  site1  1052.34    250            2\n",
              "2   instagram      300  site2  2002.00    300            3\n",
              "3    linkedin      400  site2  5000.00    800            4\n",
              "4    facebook      500  site3   300.00    200            5"
            ]
          },
          "metadata": {
            "tags": []
          },
          "execution_count": 63
        }
      ]
    },
    {
      "cell_type": "code",
      "metadata": {
        "id": "-CBrXS6Be659",
        "colab_type": "code",
        "colab": {
          "base_uri": "https://localhost:8080/",
          "height": 119
        },
        "outputId": "d11afb95-0f86-4820-fe4d-0e8197f6e169"
      },
      "source": [
        "#Somando as linhas do dataframe\n",
        "dataframe.sum(axis = 1)"
      ],
      "execution_count": null,
      "outputs": [
        {
          "output_type": "execute_result",
          "data": {
            "text/plain": [
              "0    1301.52\n",
              "1    1504.34\n",
              "2    2605.00\n",
              "3    6204.00\n",
              "4    1005.00\n",
              "dtype: float64"
            ]
          },
          "metadata": {
            "tags": []
          },
          "execution_count": 64
        }
      ]
    },
    {
      "cell_type": "code",
      "metadata": {
        "id": "T8ElOlGoe66D",
        "colab_type": "code",
        "colab": {
          "base_uri": "https://localhost:8080/",
          "height": 204
        },
        "outputId": "e65d8a45-d931-46f1-fb54-521a240e7a49"
      },
      "source": [
        "#Calculando a mediana das colunas numericas\n",
        "print('Por linha: ',dataframe.median(axis= 1) )\n",
        "print('Por coluna: ', dataframe.median())"
      ],
      "execution_count": null,
      "outputs": [
        {
          "output_type": "stream",
          "text": [
            "Por linha:  0    150.0\n",
            "1    225.0\n",
            "2    300.0\n",
            "3    600.0\n",
            "4    250.0\n",
            "dtype: float64\n",
            "Por coluna:  acessos         300.00\n",
            "vendas         1052.34\n",
            "lista           250.00\n",
            "nova_coluna       3.00\n",
            "dtype: float64\n"
          ],
          "name": "stdout"
        }
      ]
    },
    {
      "cell_type": "code",
      "metadata": {
        "id": "TviDKRRAe66J",
        "colab_type": "code",
        "colab": {
          "base_uri": "https://localhost:8080/",
          "height": 102
        },
        "outputId": "9aafcedc-e1e8-4a57-b27d-b77cb18fd70e"
      },
      "source": [
        "#Calculando a media das colunas númericas\n",
        "dataframe.mean()"
      ],
      "execution_count": null,
      "outputs": [
        {
          "output_type": "execute_result",
          "data": {
            "text/plain": [
              "acessos         300.000\n",
              "vendas         1870.972\n",
              "lista           350.000\n",
              "nova_coluna       3.000\n",
              "dtype: float64"
            ]
          },
          "metadata": {
            "tags": []
          },
          "execution_count": 66
        }
      ]
    },
    {
      "cell_type": "code",
      "metadata": {
        "id": "qBfzaHI5e66P",
        "colab_type": "code",
        "colab": {
          "base_uri": "https://localhost:8080/",
          "height": 102
        },
        "outputId": "7108f5bc-3337-4455-f406-f61ebcd88211"
      },
      "source": [
        "#Calculando o desvio padrão das colunas numericas\n",
        "dataframe.std()"
      ],
      "execution_count": null,
      "outputs": [
        {
          "output_type": "execute_result",
          "data": {
            "text/plain": [
              "acessos         158.113883\n",
              "vendas         1850.931024\n",
              "lista           254.950976\n",
              "nova_coluna       1.581139\n",
              "dtype: float64"
            ]
          },
          "metadata": {
            "tags": []
          },
          "execution_count": 67
        }
      ]
    },
    {
      "cell_type": "code",
      "metadata": {
        "id": "_yt7L5Joe66V",
        "colab_type": "code",
        "colab": {
          "base_uri": "https://localhost:8080/",
          "height": 297
        },
        "outputId": "efc92fb5-a2fa-4019-c459-edf950366325"
      },
      "source": [
        "#Usando o comando describe que calcula estatisticas descritivas para colunas numericas\n",
        "dataframe.describe()"
      ],
      "execution_count": null,
      "outputs": [
        {
          "output_type": "execute_result",
          "data": {
            "text/html": [
              "<div>\n",
              "<style scoped>\n",
              "    .dataframe tbody tr th:only-of-type {\n",
              "        vertical-align: middle;\n",
              "    }\n",
              "\n",
              "    .dataframe tbody tr th {\n",
              "        vertical-align: top;\n",
              "    }\n",
              "\n",
              "    .dataframe thead th {\n",
              "        text-align: right;\n",
              "    }\n",
              "</style>\n",
              "<table border=\"1\" class=\"dataframe\">\n",
              "  <thead>\n",
              "    <tr style=\"text-align: right;\">\n",
              "      <th></th>\n",
              "      <th>acessos</th>\n",
              "      <th>vendas</th>\n",
              "      <th>lista</th>\n",
              "      <th>nova_coluna</th>\n",
              "    </tr>\n",
              "  </thead>\n",
              "  <tbody>\n",
              "    <tr>\n",
              "      <th>count</th>\n",
              "      <td>5.000000</td>\n",
              "      <td>5.000000</td>\n",
              "      <td>5.000000</td>\n",
              "      <td>5.000000</td>\n",
              "    </tr>\n",
              "    <tr>\n",
              "      <th>mean</th>\n",
              "      <td>300.000000</td>\n",
              "      <td>1870.972000</td>\n",
              "      <td>350.000000</td>\n",
              "      <td>3.000000</td>\n",
              "    </tr>\n",
              "    <tr>\n",
              "      <th>std</th>\n",
              "      <td>158.113883</td>\n",
              "      <td>1850.931024</td>\n",
              "      <td>254.950976</td>\n",
              "      <td>1.581139</td>\n",
              "    </tr>\n",
              "    <tr>\n",
              "      <th>min</th>\n",
              "      <td>100.000000</td>\n",
              "      <td>300.000000</td>\n",
              "      <td>200.000000</td>\n",
              "      <td>1.000000</td>\n",
              "    </tr>\n",
              "    <tr>\n",
              "      <th>25%</th>\n",
              "      <td>200.000000</td>\n",
              "      <td>1000.520000</td>\n",
              "      <td>200.000000</td>\n",
              "      <td>2.000000</td>\n",
              "    </tr>\n",
              "    <tr>\n",
              "      <th>50%</th>\n",
              "      <td>300.000000</td>\n",
              "      <td>1052.340000</td>\n",
              "      <td>250.000000</td>\n",
              "      <td>3.000000</td>\n",
              "    </tr>\n",
              "    <tr>\n",
              "      <th>75%</th>\n",
              "      <td>400.000000</td>\n",
              "      <td>2002.000000</td>\n",
              "      <td>300.000000</td>\n",
              "      <td>4.000000</td>\n",
              "    </tr>\n",
              "    <tr>\n",
              "      <th>max</th>\n",
              "      <td>500.000000</td>\n",
              "      <td>5000.000000</td>\n",
              "      <td>800.000000</td>\n",
              "      <td>5.000000</td>\n",
              "    </tr>\n",
              "  </tbody>\n",
              "</table>\n",
              "</div>"
            ],
            "text/plain": [
              "          acessos       vendas       lista  nova_coluna\n",
              "count    5.000000     5.000000    5.000000     5.000000\n",
              "mean   300.000000  1870.972000  350.000000     3.000000\n",
              "std    158.113883  1850.931024  254.950976     1.581139\n",
              "min    100.000000   300.000000  200.000000     1.000000\n",
              "25%    200.000000  1000.520000  200.000000     2.000000\n",
              "50%    300.000000  1052.340000  250.000000     3.000000\n",
              "75%    400.000000  2002.000000  300.000000     4.000000\n",
              "max    500.000000  5000.000000  800.000000     5.000000"
            ]
          },
          "metadata": {
            "tags": []
          },
          "execution_count": 68
        }
      ]
    },
    {
      "cell_type": "code",
      "metadata": {
        "id": "A3JSpy62e66Y",
        "colab_type": "code",
        "colab": {
          "base_uri": "https://localhost:8080/",
          "height": 204
        },
        "outputId": "0b66c272-6c13-454e-f37f-d44b10d60824"
      },
      "source": [
        "#Calculando a moda\n",
        "dataframe.mode()"
      ],
      "execution_count": null,
      "outputs": [
        {
          "output_type": "execute_result",
          "data": {
            "text/html": [
              "<div>\n",
              "<style scoped>\n",
              "    .dataframe tbody tr th:only-of-type {\n",
              "        vertical-align: middle;\n",
              "    }\n",
              "\n",
              "    .dataframe tbody tr th {\n",
              "        vertical-align: top;\n",
              "    }\n",
              "\n",
              "    .dataframe thead th {\n",
              "        text-align: right;\n",
              "    }\n",
              "</style>\n",
              "<table border=\"1\" class=\"dataframe\">\n",
              "  <thead>\n",
              "    <tr style=\"text-align: right;\">\n",
              "      <th></th>\n",
              "      <th>canal_venda</th>\n",
              "      <th>acessos</th>\n",
              "      <th>site</th>\n",
              "      <th>vendas</th>\n",
              "      <th>lista</th>\n",
              "      <th>nova_coluna</th>\n",
              "    </tr>\n",
              "  </thead>\n",
              "  <tbody>\n",
              "    <tr>\n",
              "      <th>0</th>\n",
              "      <td>facebook</td>\n",
              "      <td>100</td>\n",
              "      <td>site1</td>\n",
              "      <td>300.00</td>\n",
              "      <td>200.0</td>\n",
              "      <td>1</td>\n",
              "    </tr>\n",
              "    <tr>\n",
              "      <th>1</th>\n",
              "      <td>NaN</td>\n",
              "      <td>200</td>\n",
              "      <td>site2</td>\n",
              "      <td>1000.52</td>\n",
              "      <td>NaN</td>\n",
              "      <td>2</td>\n",
              "    </tr>\n",
              "    <tr>\n",
              "      <th>2</th>\n",
              "      <td>NaN</td>\n",
              "      <td>300</td>\n",
              "      <td>NaN</td>\n",
              "      <td>1052.34</td>\n",
              "      <td>NaN</td>\n",
              "      <td>3</td>\n",
              "    </tr>\n",
              "    <tr>\n",
              "      <th>3</th>\n",
              "      <td>NaN</td>\n",
              "      <td>400</td>\n",
              "      <td>NaN</td>\n",
              "      <td>2002.00</td>\n",
              "      <td>NaN</td>\n",
              "      <td>4</td>\n",
              "    </tr>\n",
              "    <tr>\n",
              "      <th>4</th>\n",
              "      <td>NaN</td>\n",
              "      <td>500</td>\n",
              "      <td>NaN</td>\n",
              "      <td>5000.00</td>\n",
              "      <td>NaN</td>\n",
              "      <td>5</td>\n",
              "    </tr>\n",
              "  </tbody>\n",
              "</table>\n",
              "</div>"
            ],
            "text/plain": [
              "  canal_venda  acessos   site   vendas  lista  nova_coluna\n",
              "0    facebook      100  site1   300.00  200.0            1\n",
              "1         NaN      200  site2  1000.52    NaN            2\n",
              "2         NaN      300    NaN  1052.34    NaN            3\n",
              "3         NaN      400    NaN  2002.00    NaN            4\n",
              "4         NaN      500    NaN  5000.00    NaN            5"
            ]
          },
          "metadata": {
            "tags": []
          },
          "execution_count": 69
        }
      ]
    },
    {
      "cell_type": "code",
      "metadata": {
        "id": "Ug6yl32qe66b",
        "colab_type": "code",
        "colab": {
          "base_uri": "https://localhost:8080/",
          "height": 136
        },
        "outputId": "fafc5509-d9f2-4427-f796-49587ae567e1"
      },
      "source": [
        "# Valor maximo por coluna\n",
        "dataframe.max()"
      ],
      "execution_count": null,
      "outputs": [
        {
          "output_type": "execute_result",
          "data": {
            "text/plain": [
              "canal_venda    twitter\n",
              "acessos            500\n",
              "site             site3\n",
              "vendas            5000\n",
              "lista              800\n",
              "nova_coluna          5\n",
              "dtype: object"
            ]
          },
          "metadata": {
            "tags": []
          },
          "execution_count": 70
        }
      ]
    },
    {
      "cell_type": "code",
      "metadata": {
        "id": "ipT64fxWe66e",
        "colab_type": "code",
        "colab": {
          "base_uri": "https://localhost:8080/",
          "height": 136
        },
        "outputId": "0f44eca9-5824-4f0c-d3f5-151e4bf6da52"
      },
      "source": [
        "#Valor minimo por coluna\n",
        "dataframe.min()"
      ],
      "execution_count": null,
      "outputs": [
        {
          "output_type": "execute_result",
          "data": {
            "text/plain": [
              "canal_venda    facebook\n",
              "acessos             100\n",
              "site              site1\n",
              "vendas              300\n",
              "lista               200\n",
              "nova_coluna           1\n",
              "dtype: object"
            ]
          },
          "metadata": {
            "tags": []
          },
          "execution_count": 71
        }
      ]
    },
    {
      "cell_type": "code",
      "metadata": {
        "id": "InX_iLvNe66h",
        "colab_type": "code",
        "colab": {
          "base_uri": "https://localhost:8080/",
          "height": 136
        },
        "outputId": "d7c8b7d8-ab36-4b8d-bd64-e2744de7b699"
      },
      "source": [
        "#Printando o numero de unicos\n",
        "dataframe.nunique()"
      ],
      "execution_count": null,
      "outputs": [
        {
          "output_type": "execute_result",
          "data": {
            "text/plain": [
              "canal_venda    4\n",
              "acessos        5\n",
              "site           3\n",
              "vendas         5\n",
              "lista          4\n",
              "nova_coluna    5\n",
              "dtype: int64"
            ]
          },
          "metadata": {
            "tags": []
          },
          "execution_count": 72
        }
      ]
    },
    {
      "cell_type": "code",
      "metadata": {
        "id": "6YCuBs-se66o",
        "colab_type": "code",
        "colab": {
          "base_uri": "https://localhost:8080/",
          "height": 102
        },
        "outputId": "6f2ef0a7-92bc-472b-f098-687fb48a975b"
      },
      "source": [
        "#Contando valores unicos de uma coluna\n",
        "dataframe['canal_venda'].value_counts()"
      ],
      "execution_count": null,
      "outputs": [
        {
          "output_type": "execute_result",
          "data": {
            "text/plain": [
              "facebook     2\n",
              "instagram    1\n",
              "linkedin     1\n",
              "twitter      1\n",
              "Name: canal_venda, dtype: int64"
            ]
          },
          "metadata": {
            "tags": []
          },
          "execution_count": 73
        }
      ]
    },
    {
      "cell_type": "code",
      "metadata": {
        "id": "XeslVFbNe66r",
        "colab_type": "code",
        "colab": {
          "base_uri": "https://localhost:8080/",
          "height": 34
        },
        "outputId": "b773abd5-bd95-47c7-81aa-1238b30e7347"
      },
      "source": [
        "#Valores unicos de uma coluna\n",
        "dataframe['canal_venda'].unique()"
      ],
      "execution_count": null,
      "outputs": [
        {
          "output_type": "execute_result",
          "data": {
            "text/plain": [
              "array(['facebook', 'twitter', 'instagram', 'linkedin'], dtype=object)"
            ]
          },
          "metadata": {
            "tags": []
          },
          "execution_count": 74
        }
      ]
    },
    {
      "cell_type": "code",
      "metadata": {
        "id": "1qliqXete66v",
        "colab_type": "code",
        "colab": {
          "base_uri": "https://localhost:8080/",
          "height": 102
        },
        "outputId": "2be3016b-be00-483a-93db-92dd5b38fac9"
      },
      "source": [
        "# Usando o groupby com valores numericos\n",
        "dataframe.groupby('site')['acessos'].sum()"
      ],
      "execution_count": null,
      "outputs": [
        {
          "output_type": "execute_result",
          "data": {
            "text/plain": [
              "site\n",
              "site1    300\n",
              "site2    700\n",
              "site3    500\n",
              "Name: acessos, dtype: int64"
            ]
          },
          "metadata": {
            "tags": []
          },
          "execution_count": 75
        }
      ]
    },
    {
      "cell_type": "code",
      "metadata": {
        "id": "Y1uS0zC9e660",
        "colab_type": "code",
        "colab": {
          "base_uri": "https://localhost:8080/",
          "height": 119
        },
        "outputId": "baa80388-6765-4068-96db-0ecc184acbe7"
      },
      "source": [
        "# Usando o groupby com valores numericos\n",
        "dataframe.groupby('canal_venda')['acessos'].median()"
      ],
      "execution_count": null,
      "outputs": [
        {
          "output_type": "execute_result",
          "data": {
            "text/plain": [
              "canal_venda\n",
              "facebook     300\n",
              "instagram    300\n",
              "linkedin     400\n",
              "twitter      200\n",
              "Name: acessos, dtype: int64"
            ]
          },
          "metadata": {
            "tags": []
          },
          "execution_count": 76
        }
      ]
    },
    {
      "cell_type": "code",
      "metadata": {
        "id": "fAVO0HGHe666",
        "colab_type": "code",
        "colab": {
          "base_uri": "https://localhost:8080/",
          "height": 102
        },
        "outputId": "c27b6914-d8fa-4903-a481-68a0e1a6ca37"
      },
      "source": [
        "# Usando o groupby com categoricos\n",
        "dataframe.groupby('site')['canal_venda'].unique()"
      ],
      "execution_count": null,
      "outputs": [
        {
          "output_type": "execute_result",
          "data": {
            "text/plain": [
              "site\n",
              "site1      [facebook, twitter]\n",
              "site2    [instagram, linkedin]\n",
              "site3               [facebook]\n",
              "Name: canal_venda, dtype: object"
            ]
          },
          "metadata": {
            "tags": []
          },
          "execution_count": 77
        }
      ]
    },
    {
      "cell_type": "code",
      "metadata": {
        "id": "ZLmfH-FZe67B",
        "colab_type": "code",
        "colab": {
          "base_uri": "https://localhost:8080/",
          "height": 102
        },
        "outputId": "4358b9f7-f33b-4cea-b1e8-e4e3f476cfcc"
      },
      "source": [
        "# Usando o groupby com categoricos\n",
        "dataframe.groupby('site')['canal_venda'].first()"
      ],
      "execution_count": null,
      "outputs": [
        {
          "output_type": "execute_result",
          "data": {
            "text/plain": [
              "site\n",
              "site1     facebook\n",
              "site2    instagram\n",
              "site3     facebook\n",
              "Name: canal_venda, dtype: object"
            ]
          },
          "metadata": {
            "tags": []
          },
          "execution_count": 78
        }
      ]
    },
    {
      "cell_type": "code",
      "metadata": {
        "id": "5Etwcfl0e67H",
        "colab_type": "code",
        "colab": {
          "base_uri": "https://localhost:8080/",
          "height": 204
        },
        "outputId": "303a4708-6388-4565-f6be-0859c93fc165"
      },
      "source": [
        "#Usando o groupby com a função agg\n",
        "dataframe.groupby('canal_venda').agg({'site': 'unique',\n",
        "                                     'acessos': 'sum'})\n"
      ],
      "execution_count": null,
      "outputs": [
        {
          "output_type": "execute_result",
          "data": {
            "text/html": [
              "<div>\n",
              "<style scoped>\n",
              "    .dataframe tbody tr th:only-of-type {\n",
              "        vertical-align: middle;\n",
              "    }\n",
              "\n",
              "    .dataframe tbody tr th {\n",
              "        vertical-align: top;\n",
              "    }\n",
              "\n",
              "    .dataframe thead th {\n",
              "        text-align: right;\n",
              "    }\n",
              "</style>\n",
              "<table border=\"1\" class=\"dataframe\">\n",
              "  <thead>\n",
              "    <tr style=\"text-align: right;\">\n",
              "      <th></th>\n",
              "      <th>site</th>\n",
              "      <th>acessos</th>\n",
              "    </tr>\n",
              "    <tr>\n",
              "      <th>canal_venda</th>\n",
              "      <th></th>\n",
              "      <th></th>\n",
              "    </tr>\n",
              "  </thead>\n",
              "  <tbody>\n",
              "    <tr>\n",
              "      <th>facebook</th>\n",
              "      <td>[site1, site3]</td>\n",
              "      <td>600</td>\n",
              "    </tr>\n",
              "    <tr>\n",
              "      <th>instagram</th>\n",
              "      <td>[site2]</td>\n",
              "      <td>300</td>\n",
              "    </tr>\n",
              "    <tr>\n",
              "      <th>linkedin</th>\n",
              "      <td>[site2]</td>\n",
              "      <td>400</td>\n",
              "    </tr>\n",
              "    <tr>\n",
              "      <th>twitter</th>\n",
              "      <td>[site1]</td>\n",
              "      <td>200</td>\n",
              "    </tr>\n",
              "  </tbody>\n",
              "</table>\n",
              "</div>"
            ],
            "text/plain": [
              "                       site  acessos\n",
              "canal_venda                         \n",
              "facebook     [site1, site3]      600\n",
              "instagram           [site2]      300\n",
              "linkedin            [site2]      400\n",
              "twitter             [site1]      200"
            ]
          },
          "metadata": {
            "tags": []
          },
          "execution_count": 79
        }
      ]
    },
    {
      "cell_type": "code",
      "metadata": {
        "id": "vTs-loc4e67g",
        "colab_type": "code",
        "colab": {
          "base_uri": "https://localhost:8080/",
          "height": 173
        },
        "outputId": "f32a6767-28ef-4118-ad30-613562bd405d"
      },
      "source": [
        "#Correlações entre variaveis\n",
        "dataframe.corr(method = 'spearman')"
      ],
      "execution_count": null,
      "outputs": [
        {
          "output_type": "execute_result",
          "data": {
            "text/html": [
              "<div>\n",
              "<style scoped>\n",
              "    .dataframe tbody tr th:only-of-type {\n",
              "        vertical-align: middle;\n",
              "    }\n",
              "\n",
              "    .dataframe tbody tr th {\n",
              "        vertical-align: top;\n",
              "    }\n",
              "\n",
              "    .dataframe thead th {\n",
              "        text-align: right;\n",
              "    }\n",
              "</style>\n",
              "<table border=\"1\" class=\"dataframe\">\n",
              "  <thead>\n",
              "    <tr style=\"text-align: right;\">\n",
              "      <th></th>\n",
              "      <th>acessos</th>\n",
              "      <th>vendas</th>\n",
              "      <th>lista</th>\n",
              "      <th>nova_coluna</th>\n",
              "    </tr>\n",
              "  </thead>\n",
              "  <tbody>\n",
              "    <tr>\n",
              "      <th>acessos</th>\n",
              "      <td>1.000000</td>\n",
              "      <td>0.000000</td>\n",
              "      <td>0.205196</td>\n",
              "      <td>1.000000</td>\n",
              "    </tr>\n",
              "    <tr>\n",
              "      <th>vendas</th>\n",
              "      <td>0.000000</td>\n",
              "      <td>1.000000</td>\n",
              "      <td>0.974679</td>\n",
              "      <td>0.000000</td>\n",
              "    </tr>\n",
              "    <tr>\n",
              "      <th>lista</th>\n",
              "      <td>0.205196</td>\n",
              "      <td>0.974679</td>\n",
              "      <td>1.000000</td>\n",
              "      <td>0.205196</td>\n",
              "    </tr>\n",
              "    <tr>\n",
              "      <th>nova_coluna</th>\n",
              "      <td>1.000000</td>\n",
              "      <td>0.000000</td>\n",
              "      <td>0.205196</td>\n",
              "      <td>1.000000</td>\n",
              "    </tr>\n",
              "  </tbody>\n",
              "</table>\n",
              "</div>"
            ],
            "text/plain": [
              "              acessos    vendas     lista  nova_coluna\n",
              "acessos      1.000000  0.000000  0.205196     1.000000\n",
              "vendas       0.000000  1.000000  0.974679     0.000000\n",
              "lista        0.205196  0.974679  1.000000     0.205196\n",
              "nova_coluna  1.000000  0.000000  0.205196     1.000000"
            ]
          },
          "metadata": {
            "tags": []
          },
          "execution_count": 80
        }
      ]
    },
    {
      "cell_type": "code",
      "metadata": {
        "id": "3aPAlrPbe67p",
        "colab_type": "code",
        "colab": {
          "base_uri": "https://localhost:8080/",
          "height": 204
        },
        "outputId": "e518ac34-b573-420c-e492-72ee9c898c15"
      },
      "source": [
        "dataframe"
      ],
      "execution_count": null,
      "outputs": [
        {
          "output_type": "execute_result",
          "data": {
            "text/html": [
              "<div>\n",
              "<style scoped>\n",
              "    .dataframe tbody tr th:only-of-type {\n",
              "        vertical-align: middle;\n",
              "    }\n",
              "\n",
              "    .dataframe tbody tr th {\n",
              "        vertical-align: top;\n",
              "    }\n",
              "\n",
              "    .dataframe thead th {\n",
              "        text-align: right;\n",
              "    }\n",
              "</style>\n",
              "<table border=\"1\" class=\"dataframe\">\n",
              "  <thead>\n",
              "    <tr style=\"text-align: right;\">\n",
              "      <th></th>\n",
              "      <th>canal_venda</th>\n",
              "      <th>acessos</th>\n",
              "      <th>site</th>\n",
              "      <th>vendas</th>\n",
              "      <th>lista</th>\n",
              "      <th>nova_coluna</th>\n",
              "    </tr>\n",
              "  </thead>\n",
              "  <tbody>\n",
              "    <tr>\n",
              "      <th>0</th>\n",
              "      <td>facebook</td>\n",
              "      <td>100</td>\n",
              "      <td>site1</td>\n",
              "      <td>1000.52</td>\n",
              "      <td>200</td>\n",
              "      <td>1</td>\n",
              "    </tr>\n",
              "    <tr>\n",
              "      <th>1</th>\n",
              "      <td>twitter</td>\n",
              "      <td>200</td>\n",
              "      <td>site1</td>\n",
              "      <td>1052.34</td>\n",
              "      <td>250</td>\n",
              "      <td>2</td>\n",
              "    </tr>\n",
              "    <tr>\n",
              "      <th>2</th>\n",
              "      <td>instagram</td>\n",
              "      <td>300</td>\n",
              "      <td>site2</td>\n",
              "      <td>2002.00</td>\n",
              "      <td>300</td>\n",
              "      <td>3</td>\n",
              "    </tr>\n",
              "    <tr>\n",
              "      <th>3</th>\n",
              "      <td>linkedin</td>\n",
              "      <td>400</td>\n",
              "      <td>site2</td>\n",
              "      <td>5000.00</td>\n",
              "      <td>800</td>\n",
              "      <td>4</td>\n",
              "    </tr>\n",
              "    <tr>\n",
              "      <th>4</th>\n",
              "      <td>facebook</td>\n",
              "      <td>500</td>\n",
              "      <td>site3</td>\n",
              "      <td>300.00</td>\n",
              "      <td>200</td>\n",
              "      <td>5</td>\n",
              "    </tr>\n",
              "  </tbody>\n",
              "</table>\n",
              "</div>"
            ],
            "text/plain": [
              "  canal_venda  acessos   site   vendas  lista  nova_coluna\n",
              "0    facebook      100  site1  1000.52    200            1\n",
              "1     twitter      200  site1  1052.34    250            2\n",
              "2   instagram      300  site2  2002.00    300            3\n",
              "3    linkedin      400  site2  5000.00    800            4\n",
              "4    facebook      500  site3   300.00    200            5"
            ]
          },
          "metadata": {
            "tags": []
          },
          "execution_count": 81
        }
      ]
    },
    {
      "cell_type": "code",
      "metadata": {
        "id": "PCXKOBive67w",
        "colab_type": "code",
        "colab": {}
      },
      "source": [
        "#Criando variaveis categoricas por fatia de variavel numerica\n",
        "dataframe['categoria_vendas'] = pd.cut(dataframe['vendas'],\n",
        "                                       bins= (0, 1500, 2000, 8000), \n",
        "                                       labels = ('0 a 1500', '1500 a 2000', '2000 a 8000'))"
      ],
      "execution_count": null,
      "outputs": []
    },
    {
      "cell_type": "code",
      "metadata": {
        "id": "KU8HATaOe676",
        "colab_type": "code",
        "colab": {
          "base_uri": "https://localhost:8080/",
          "height": 204
        },
        "outputId": "b36c4fd0-ddcc-4f54-8739-0bab8eb8d943"
      },
      "source": [
        "dataframe"
      ],
      "execution_count": null,
      "outputs": [
        {
          "output_type": "execute_result",
          "data": {
            "text/html": [
              "<div>\n",
              "<style scoped>\n",
              "    .dataframe tbody tr th:only-of-type {\n",
              "        vertical-align: middle;\n",
              "    }\n",
              "\n",
              "    .dataframe tbody tr th {\n",
              "        vertical-align: top;\n",
              "    }\n",
              "\n",
              "    .dataframe thead th {\n",
              "        text-align: right;\n",
              "    }\n",
              "</style>\n",
              "<table border=\"1\" class=\"dataframe\">\n",
              "  <thead>\n",
              "    <tr style=\"text-align: right;\">\n",
              "      <th></th>\n",
              "      <th>canal_venda</th>\n",
              "      <th>acessos</th>\n",
              "      <th>site</th>\n",
              "      <th>vendas</th>\n",
              "      <th>lista</th>\n",
              "      <th>nova_coluna</th>\n",
              "      <th>categoria_vendas</th>\n",
              "    </tr>\n",
              "  </thead>\n",
              "  <tbody>\n",
              "    <tr>\n",
              "      <th>0</th>\n",
              "      <td>facebook</td>\n",
              "      <td>100</td>\n",
              "      <td>site1</td>\n",
              "      <td>1000.52</td>\n",
              "      <td>200</td>\n",
              "      <td>1</td>\n",
              "      <td>0 a 1500</td>\n",
              "    </tr>\n",
              "    <tr>\n",
              "      <th>1</th>\n",
              "      <td>twitter</td>\n",
              "      <td>200</td>\n",
              "      <td>site1</td>\n",
              "      <td>1052.34</td>\n",
              "      <td>250</td>\n",
              "      <td>2</td>\n",
              "      <td>0 a 1500</td>\n",
              "    </tr>\n",
              "    <tr>\n",
              "      <th>2</th>\n",
              "      <td>instagram</td>\n",
              "      <td>300</td>\n",
              "      <td>site2</td>\n",
              "      <td>2002.00</td>\n",
              "      <td>300</td>\n",
              "      <td>3</td>\n",
              "      <td>2000 a 8000</td>\n",
              "    </tr>\n",
              "    <tr>\n",
              "      <th>3</th>\n",
              "      <td>linkedin</td>\n",
              "      <td>400</td>\n",
              "      <td>site2</td>\n",
              "      <td>5000.00</td>\n",
              "      <td>800</td>\n",
              "      <td>4</td>\n",
              "      <td>2000 a 8000</td>\n",
              "    </tr>\n",
              "    <tr>\n",
              "      <th>4</th>\n",
              "      <td>facebook</td>\n",
              "      <td>500</td>\n",
              "      <td>site3</td>\n",
              "      <td>300.00</td>\n",
              "      <td>200</td>\n",
              "      <td>5</td>\n",
              "      <td>0 a 1500</td>\n",
              "    </tr>\n",
              "  </tbody>\n",
              "</table>\n",
              "</div>"
            ],
            "text/plain": [
              "  canal_venda  acessos   site   vendas  lista  nova_coluna categoria_vendas\n",
              "0    facebook      100  site1  1000.52    200            1         0 a 1500\n",
              "1     twitter      200  site1  1052.34    250            2         0 a 1500\n",
              "2   instagram      300  site2  2002.00    300            3      2000 a 8000\n",
              "3    linkedin      400  site2  5000.00    800            4      2000 a 8000\n",
              "4    facebook      500  site3   300.00    200            5         0 a 1500"
            ]
          },
          "metadata": {
            "tags": []
          },
          "execution_count": 83
        }
      ]
    },
    {
      "cell_type": "code",
      "metadata": {
        "id": "-fjxNfE5e68E",
        "colab_type": "code",
        "colab": {}
      },
      "source": [
        "#Criando variavel categorica usando compressao de lista\n",
        "dataframe['categoria_acessos'] = ['maior_que_300' if x > 300 else 'menor_que_300' for x in dataframe['acessos']]"
      ],
      "execution_count": null,
      "outputs": []
    },
    {
      "cell_type": "code",
      "metadata": {
        "id": "Dhb50DTDe68Q",
        "colab_type": "code",
        "colab": {
          "base_uri": "https://localhost:8080/",
          "height": 204
        },
        "outputId": "190be57c-e43b-4b9f-9e68-0afe2d29abe5"
      },
      "source": [
        "dataframe"
      ],
      "execution_count": null,
      "outputs": [
        {
          "output_type": "execute_result",
          "data": {
            "text/html": [
              "<div>\n",
              "<style scoped>\n",
              "    .dataframe tbody tr th:only-of-type {\n",
              "        vertical-align: middle;\n",
              "    }\n",
              "\n",
              "    .dataframe tbody tr th {\n",
              "        vertical-align: top;\n",
              "    }\n",
              "\n",
              "    .dataframe thead th {\n",
              "        text-align: right;\n",
              "    }\n",
              "</style>\n",
              "<table border=\"1\" class=\"dataframe\">\n",
              "  <thead>\n",
              "    <tr style=\"text-align: right;\">\n",
              "      <th></th>\n",
              "      <th>canal_venda</th>\n",
              "      <th>acessos</th>\n",
              "      <th>site</th>\n",
              "      <th>vendas</th>\n",
              "      <th>lista</th>\n",
              "      <th>nova_coluna</th>\n",
              "      <th>categoria_vendas</th>\n",
              "      <th>categoria_acessos</th>\n",
              "    </tr>\n",
              "  </thead>\n",
              "  <tbody>\n",
              "    <tr>\n",
              "      <th>0</th>\n",
              "      <td>facebook</td>\n",
              "      <td>100</td>\n",
              "      <td>site1</td>\n",
              "      <td>1000.52</td>\n",
              "      <td>200</td>\n",
              "      <td>1</td>\n",
              "      <td>0 a 1500</td>\n",
              "      <td>menor_que_300</td>\n",
              "    </tr>\n",
              "    <tr>\n",
              "      <th>1</th>\n",
              "      <td>twitter</td>\n",
              "      <td>200</td>\n",
              "      <td>site1</td>\n",
              "      <td>1052.34</td>\n",
              "      <td>250</td>\n",
              "      <td>2</td>\n",
              "      <td>0 a 1500</td>\n",
              "      <td>menor_que_300</td>\n",
              "    </tr>\n",
              "    <tr>\n",
              "      <th>2</th>\n",
              "      <td>instagram</td>\n",
              "      <td>300</td>\n",
              "      <td>site2</td>\n",
              "      <td>2002.00</td>\n",
              "      <td>300</td>\n",
              "      <td>3</td>\n",
              "      <td>2000 a 8000</td>\n",
              "      <td>menor_que_300</td>\n",
              "    </tr>\n",
              "    <tr>\n",
              "      <th>3</th>\n",
              "      <td>linkedin</td>\n",
              "      <td>400</td>\n",
              "      <td>site2</td>\n",
              "      <td>5000.00</td>\n",
              "      <td>800</td>\n",
              "      <td>4</td>\n",
              "      <td>2000 a 8000</td>\n",
              "      <td>maior_que_300</td>\n",
              "    </tr>\n",
              "    <tr>\n",
              "      <th>4</th>\n",
              "      <td>facebook</td>\n",
              "      <td>500</td>\n",
              "      <td>site3</td>\n",
              "      <td>300.00</td>\n",
              "      <td>200</td>\n",
              "      <td>5</td>\n",
              "      <td>0 a 1500</td>\n",
              "      <td>maior_que_300</td>\n",
              "    </tr>\n",
              "  </tbody>\n",
              "</table>\n",
              "</div>"
            ],
            "text/plain": [
              "  canal_venda  acessos   site  ...  nova_coluna  categoria_vendas  categoria_acessos\n",
              "0    facebook      100  site1  ...            1          0 a 1500      menor_que_300\n",
              "1     twitter      200  site1  ...            2          0 a 1500      menor_que_300\n",
              "2   instagram      300  site2  ...            3       2000 a 8000      menor_que_300\n",
              "3    linkedin      400  site2  ...            4       2000 a 8000      maior_que_300\n",
              "4    facebook      500  site3  ...            5          0 a 1500      maior_que_300\n",
              "\n",
              "[5 rows x 8 columns]"
            ]
          },
          "metadata": {
            "tags": []
          },
          "execution_count": 85
        }
      ]
    },
    {
      "cell_type": "code",
      "metadata": {
        "id": "tH0Fiqlqe68c",
        "colab_type": "code",
        "colab": {}
      },
      "source": [
        "#Juntando dois dataframes | Criando o dataframe_2\n",
        "dataframe_2 = pd.DataFrame({'site': ['site1', 'site1', 'site2', 'site2', 'site3'],\n",
        "               'suporte': ['Carlos', 'Carlos', 'Maria', 'Maria', 'Ezequiel']})\n"
      ],
      "execution_count": null,
      "outputs": []
    },
    {
      "cell_type": "code",
      "metadata": {
        "id": "txxIzJMZe68h",
        "colab_type": "code",
        "colab": {
          "base_uri": "https://localhost:8080/",
          "height": 348
        },
        "outputId": "cdca4e68-c969-48b9-d343-14ad58f0cc8c"
      },
      "source": [
        "#Realizando o merge\n",
        "dataframe.merge(dataframe_2, on = 'site', how = 'left')"
      ],
      "execution_count": null,
      "outputs": [
        {
          "output_type": "execute_result",
          "data": {
            "text/html": [
              "<div>\n",
              "<style scoped>\n",
              "    .dataframe tbody tr th:only-of-type {\n",
              "        vertical-align: middle;\n",
              "    }\n",
              "\n",
              "    .dataframe tbody tr th {\n",
              "        vertical-align: top;\n",
              "    }\n",
              "\n",
              "    .dataframe thead th {\n",
              "        text-align: right;\n",
              "    }\n",
              "</style>\n",
              "<table border=\"1\" class=\"dataframe\">\n",
              "  <thead>\n",
              "    <tr style=\"text-align: right;\">\n",
              "      <th></th>\n",
              "      <th>canal_venda</th>\n",
              "      <th>acessos</th>\n",
              "      <th>site</th>\n",
              "      <th>vendas</th>\n",
              "      <th>lista</th>\n",
              "      <th>nova_coluna</th>\n",
              "      <th>categoria_vendas</th>\n",
              "      <th>categoria_acessos</th>\n",
              "      <th>suporte</th>\n",
              "    </tr>\n",
              "  </thead>\n",
              "  <tbody>\n",
              "    <tr>\n",
              "      <th>0</th>\n",
              "      <td>facebook</td>\n",
              "      <td>100</td>\n",
              "      <td>site1</td>\n",
              "      <td>1000.52</td>\n",
              "      <td>200</td>\n",
              "      <td>1</td>\n",
              "      <td>0 a 1500</td>\n",
              "      <td>menor_que_300</td>\n",
              "      <td>Carlos</td>\n",
              "    </tr>\n",
              "    <tr>\n",
              "      <th>1</th>\n",
              "      <td>facebook</td>\n",
              "      <td>100</td>\n",
              "      <td>site1</td>\n",
              "      <td>1000.52</td>\n",
              "      <td>200</td>\n",
              "      <td>1</td>\n",
              "      <td>0 a 1500</td>\n",
              "      <td>menor_que_300</td>\n",
              "      <td>Carlos</td>\n",
              "    </tr>\n",
              "    <tr>\n",
              "      <th>2</th>\n",
              "      <td>twitter</td>\n",
              "      <td>200</td>\n",
              "      <td>site1</td>\n",
              "      <td>1052.34</td>\n",
              "      <td>250</td>\n",
              "      <td>2</td>\n",
              "      <td>0 a 1500</td>\n",
              "      <td>menor_que_300</td>\n",
              "      <td>Carlos</td>\n",
              "    </tr>\n",
              "    <tr>\n",
              "      <th>3</th>\n",
              "      <td>twitter</td>\n",
              "      <td>200</td>\n",
              "      <td>site1</td>\n",
              "      <td>1052.34</td>\n",
              "      <td>250</td>\n",
              "      <td>2</td>\n",
              "      <td>0 a 1500</td>\n",
              "      <td>menor_que_300</td>\n",
              "      <td>Carlos</td>\n",
              "    </tr>\n",
              "    <tr>\n",
              "      <th>4</th>\n",
              "      <td>instagram</td>\n",
              "      <td>300</td>\n",
              "      <td>site2</td>\n",
              "      <td>2002.00</td>\n",
              "      <td>300</td>\n",
              "      <td>3</td>\n",
              "      <td>2000 a 8000</td>\n",
              "      <td>menor_que_300</td>\n",
              "      <td>Maria</td>\n",
              "    </tr>\n",
              "    <tr>\n",
              "      <th>5</th>\n",
              "      <td>instagram</td>\n",
              "      <td>300</td>\n",
              "      <td>site2</td>\n",
              "      <td>2002.00</td>\n",
              "      <td>300</td>\n",
              "      <td>3</td>\n",
              "      <td>2000 a 8000</td>\n",
              "      <td>menor_que_300</td>\n",
              "      <td>Maria</td>\n",
              "    </tr>\n",
              "    <tr>\n",
              "      <th>6</th>\n",
              "      <td>linkedin</td>\n",
              "      <td>400</td>\n",
              "      <td>site2</td>\n",
              "      <td>5000.00</td>\n",
              "      <td>800</td>\n",
              "      <td>4</td>\n",
              "      <td>2000 a 8000</td>\n",
              "      <td>maior_que_300</td>\n",
              "      <td>Maria</td>\n",
              "    </tr>\n",
              "    <tr>\n",
              "      <th>7</th>\n",
              "      <td>linkedin</td>\n",
              "      <td>400</td>\n",
              "      <td>site2</td>\n",
              "      <td>5000.00</td>\n",
              "      <td>800</td>\n",
              "      <td>4</td>\n",
              "      <td>2000 a 8000</td>\n",
              "      <td>maior_que_300</td>\n",
              "      <td>Maria</td>\n",
              "    </tr>\n",
              "    <tr>\n",
              "      <th>8</th>\n",
              "      <td>facebook</td>\n",
              "      <td>500</td>\n",
              "      <td>site3</td>\n",
              "      <td>300.00</td>\n",
              "      <td>200</td>\n",
              "      <td>5</td>\n",
              "      <td>0 a 1500</td>\n",
              "      <td>maior_que_300</td>\n",
              "      <td>Ezequiel</td>\n",
              "    </tr>\n",
              "  </tbody>\n",
              "</table>\n",
              "</div>"
            ],
            "text/plain": [
              "  canal_venda  acessos   site  ...  categoria_vendas  categoria_acessos   suporte\n",
              "0    facebook      100  site1  ...          0 a 1500      menor_que_300    Carlos\n",
              "1    facebook      100  site1  ...          0 a 1500      menor_que_300    Carlos\n",
              "2     twitter      200  site1  ...          0 a 1500      menor_que_300    Carlos\n",
              "3     twitter      200  site1  ...          0 a 1500      menor_que_300    Carlos\n",
              "4   instagram      300  site2  ...       2000 a 8000      menor_que_300     Maria\n",
              "5   instagram      300  site2  ...       2000 a 8000      menor_que_300     Maria\n",
              "6    linkedin      400  site2  ...       2000 a 8000      maior_que_300     Maria\n",
              "7    linkedin      400  site2  ...       2000 a 8000      maior_que_300     Maria\n",
              "8    facebook      500  site3  ...          0 a 1500      maior_que_300  Ezequiel\n",
              "\n",
              "[9 rows x 9 columns]"
            ]
          },
          "metadata": {
            "tags": []
          },
          "execution_count": 88
        }
      ]
    },
    {
      "cell_type": "code",
      "metadata": {
        "id": "HRgD9ePne68o",
        "colab_type": "code",
        "colab": {}
      },
      "source": [
        "#Salvando o dataframe como csv\n",
        "dataframe.to_csv('dataframe.csv', sep = ';', decimal = ',', index = False)"
      ],
      "execution_count": null,
      "outputs": []
    },
    {
      "cell_type": "code",
      "metadata": {
        "id": "4B1HXvSFe68t",
        "colab_type": "code",
        "colab": {}
      },
      "source": [
        "#Lendo dados no formato csv\n",
        "dataframe_lido = pd.read_csv('dataframe.csv', sep = ';', decimal = ',')"
      ],
      "execution_count": null,
      "outputs": []
    },
    {
      "cell_type": "code",
      "metadata": {
        "id": "Pv74uXCse68y",
        "colab_type": "code",
        "colab": {
          "base_uri": "https://localhost:8080/",
          "height": 224
        },
        "outputId": "ee4388fb-427a-447d-c4c0-c36b723c9412"
      },
      "source": [
        "dataframe_lido.head()"
      ],
      "execution_count": null,
      "outputs": [
        {
          "output_type": "execute_result",
          "data": {
            "text/html": [
              "<div>\n",
              "<style scoped>\n",
              "    .dataframe tbody tr th:only-of-type {\n",
              "        vertical-align: middle;\n",
              "    }\n",
              "\n",
              "    .dataframe tbody tr th {\n",
              "        vertical-align: top;\n",
              "    }\n",
              "\n",
              "    .dataframe thead th {\n",
              "        text-align: right;\n",
              "    }\n",
              "</style>\n",
              "<table border=\"1\" class=\"dataframe\">\n",
              "  <thead>\n",
              "    <tr style=\"text-align: right;\">\n",
              "      <th></th>\n",
              "      <th>canal_venda</th>\n",
              "      <th>acessos</th>\n",
              "      <th>site</th>\n",
              "      <th>vendas</th>\n",
              "      <th>lista</th>\n",
              "      <th>nova_coluna</th>\n",
              "      <th>categoria_vendas</th>\n",
              "      <th>categoria_acessos</th>\n",
              "    </tr>\n",
              "  </thead>\n",
              "  <tbody>\n",
              "    <tr>\n",
              "      <th>0</th>\n",
              "      <td>facebook</td>\n",
              "      <td>100</td>\n",
              "      <td>site1</td>\n",
              "      <td>1000.52</td>\n",
              "      <td>200</td>\n",
              "      <td>1</td>\n",
              "      <td>0 a 1500</td>\n",
              "      <td>menor_que_300</td>\n",
              "    </tr>\n",
              "    <tr>\n",
              "      <th>1</th>\n",
              "      <td>twitter</td>\n",
              "      <td>200</td>\n",
              "      <td>site1</td>\n",
              "      <td>1052.34</td>\n",
              "      <td>250</td>\n",
              "      <td>2</td>\n",
              "      <td>0 a 1500</td>\n",
              "      <td>menor_que_300</td>\n",
              "    </tr>\n",
              "    <tr>\n",
              "      <th>2</th>\n",
              "      <td>instagram</td>\n",
              "      <td>300</td>\n",
              "      <td>site2</td>\n",
              "      <td>2002.00</td>\n",
              "      <td>300</td>\n",
              "      <td>3</td>\n",
              "      <td>2000 a 8000</td>\n",
              "      <td>menor_que_300</td>\n",
              "    </tr>\n",
              "    <tr>\n",
              "      <th>3</th>\n",
              "      <td>linkedin</td>\n",
              "      <td>400</td>\n",
              "      <td>site2</td>\n",
              "      <td>5000.00</td>\n",
              "      <td>800</td>\n",
              "      <td>4</td>\n",
              "      <td>2000 a 8000</td>\n",
              "      <td>maior_que_300</td>\n",
              "    </tr>\n",
              "    <tr>\n",
              "      <th>4</th>\n",
              "      <td>facebook</td>\n",
              "      <td>500</td>\n",
              "      <td>site3</td>\n",
              "      <td>300.00</td>\n",
              "      <td>200</td>\n",
              "      <td>5</td>\n",
              "      <td>0 a 1500</td>\n",
              "      <td>maior_que_300</td>\n",
              "    </tr>\n",
              "  </tbody>\n",
              "</table>\n",
              "</div>"
            ],
            "text/plain": [
              "  canal_venda  acessos   site  ...  nova_coluna  categoria_vendas  categoria_acessos\n",
              "0    facebook      100  site1  ...            1          0 a 1500      menor_que_300\n",
              "1     twitter      200  site1  ...            2          0 a 1500      menor_que_300\n",
              "2   instagram      300  site2  ...            3       2000 a 8000      menor_que_300\n",
              "3    linkedin      400  site2  ...            4       2000 a 8000      maior_que_300\n",
              "4    facebook      500  site3  ...            5          0 a 1500      maior_que_300\n",
              "\n",
              "[5 rows x 8 columns]"
            ]
          },
          "metadata": {
            "tags": []
          },
          "execution_count": 92
        }
      ]
    },
    {
      "cell_type": "code",
      "metadata": {
        "id": "ALNlUn2ie683",
        "colab_type": "code",
        "colab": {}
      },
      "source": [
        "json = pd.read_json('https://pricing.us-east-1.amazonaws.com/offers/v1.0/aws/index.json')"
      ],
      "execution_count": null,
      "outputs": []
    },
    {
      "cell_type": "code",
      "metadata": {
        "id": "8E3TBIl-e688",
        "colab_type": "code",
        "colab": {
          "base_uri": "https://localhost:8080/",
          "height": 105
        },
        "outputId": "95c33baf-d741-4938-9c7e-66429db74211"
      },
      "source": [
        "json['offers'][99]"
      ],
      "execution_count": null,
      "outputs": [
        {
          "output_type": "execute_result",
          "data": {
            "text/plain": [
              "{'currentRegionIndexUrl': '/offers/v1.0/aws/AmazonKinesisVideo/current/region_index.json',\n",
              " 'currentVersionUrl': '/offers/v1.0/aws/AmazonKinesisVideo/current/index.json',\n",
              " 'offerCode': 'AmazonKinesisVideo',\n",
              " 'versionIndexUrl': '/offers/v1.0/aws/AmazonKinesisVideo/index.json'}"
            ]
          },
          "metadata": {
            "tags": []
          },
          "execution_count": 94
        }
      ]
    },
    {
      "cell_type": "code",
      "metadata": {
        "id": "DmMpKO08e69C",
        "colab_type": "code",
        "colab": {}
      },
      "source": [
        "json.reset_index(inplace = True)"
      ],
      "execution_count": null,
      "outputs": []
    },
    {
      "cell_type": "code",
      "metadata": {
        "id": "OrOF90xYe69G",
        "colab_type": "code",
        "colab": {
          "base_uri": "https://localhost:8080/",
          "height": 221
        },
        "outputId": "c80d303b-c001-4832-b5f9-237144389752"
      },
      "source": [
        "json['index']"
      ],
      "execution_count": null,
      "outputs": [
        {
          "output_type": "execute_result",
          "data": {
            "text/plain": [
              "0                    A4B\n",
              "1             AWSAmplify\n",
              "2             AWSAppSync\n",
              "3              AWSBackup\n",
              "4             AWSBudgets\n",
              "             ...        \n",
              "149    comprehendmedical\n",
              "150         datapipeline\n",
              "151      mobileanalytics\n",
              "152           transcribe\n",
              "153            translate\n",
              "Name: index, Length: 154, dtype: object"
            ]
          },
          "metadata": {
            "tags": []
          },
          "execution_count": 96
        }
      ]
    },
    {
      "cell_type": "markdown",
      "metadata": {
        "id": "9PMGuJyRe69Q",
        "colab_type": "text"
      },
      "source": [
        "## Imputação de dados"
      ]
    },
    {
      "cell_type": "markdown",
      "metadata": {
        "id": "bhou5FgdSntv",
        "colab_type": "text"
      },
      "source": [
        "Imputar dados é mais ou menos recuperar uma informação daqueles dados faltantes"
      ]
    },
    {
      "cell_type": "markdown",
      "metadata": {
        "id": "E2P1yVrdWosv",
        "colab_type": "text"
      },
      "source": [
        "Ter a noção também se vale a pena recuperar essa informação, se vai ser relevante. Lembrar sempre de ter senso critico."
      ]
    },
    {
      "cell_type": "code",
      "metadata": {
        "id": "v5fX9FD_e69R",
        "colab_type": "code",
        "colab": {}
      },
      "source": [
        "df = pd.read_csv('https://raw.githubusercontent.com/luislauriano/Aceleracao_Data_Science/master/data/train.csv')"
      ],
      "execution_count": 9,
      "outputs": []
    },
    {
      "cell_type": "code",
      "metadata": {
        "id": "d1MdKs5xe69X",
        "colab_type": "code",
        "colab": {}
      },
      "source": [
        "aux = pd.DataFrame({'colunas': df.columns,\n",
        "                    'tipos': df.dtypes,\n",
        "                    'percentual_faltante': df.isna().sum() / df.shape[0]})"
      ],
      "execution_count": 10,
      "outputs": []
    },
    {
      "cell_type": "code",
      "metadata": {
        "id": "IQ8PoodZe69h",
        "colab_type": "code",
        "colab": {
          "base_uri": "https://localhost:8080/",
          "height": 421
        },
        "outputId": "66e064c4-6680-4276-983e-eb352b547c8c"
      },
      "source": [
        "aux"
      ],
      "execution_count": 11,
      "outputs": [
        {
          "output_type": "execute_result",
          "data": {
            "text/html": [
              "<div>\n",
              "<style scoped>\n",
              "    .dataframe tbody tr th:only-of-type {\n",
              "        vertical-align: middle;\n",
              "    }\n",
              "\n",
              "    .dataframe tbody tr th {\n",
              "        vertical-align: top;\n",
              "    }\n",
              "\n",
              "    .dataframe thead th {\n",
              "        text-align: right;\n",
              "    }\n",
              "</style>\n",
              "<table border=\"1\" class=\"dataframe\">\n",
              "  <thead>\n",
              "    <tr style=\"text-align: right;\">\n",
              "      <th></th>\n",
              "      <th>colunas</th>\n",
              "      <th>tipos</th>\n",
              "      <th>percentual_faltante</th>\n",
              "    </tr>\n",
              "  </thead>\n",
              "  <tbody>\n",
              "    <tr>\n",
              "      <th>PassengerId</th>\n",
              "      <td>PassengerId</td>\n",
              "      <td>int64</td>\n",
              "      <td>0.000000</td>\n",
              "    </tr>\n",
              "    <tr>\n",
              "      <th>Survived</th>\n",
              "      <td>Survived</td>\n",
              "      <td>int64</td>\n",
              "      <td>0.000000</td>\n",
              "    </tr>\n",
              "    <tr>\n",
              "      <th>Pclass</th>\n",
              "      <td>Pclass</td>\n",
              "      <td>int64</td>\n",
              "      <td>0.000000</td>\n",
              "    </tr>\n",
              "    <tr>\n",
              "      <th>Name</th>\n",
              "      <td>Name</td>\n",
              "      <td>object</td>\n",
              "      <td>0.000000</td>\n",
              "    </tr>\n",
              "    <tr>\n",
              "      <th>Sex</th>\n",
              "      <td>Sex</td>\n",
              "      <td>object</td>\n",
              "      <td>0.000000</td>\n",
              "    </tr>\n",
              "    <tr>\n",
              "      <th>Age</th>\n",
              "      <td>Age</td>\n",
              "      <td>float64</td>\n",
              "      <td>0.198653</td>\n",
              "    </tr>\n",
              "    <tr>\n",
              "      <th>SibSp</th>\n",
              "      <td>SibSp</td>\n",
              "      <td>int64</td>\n",
              "      <td>0.000000</td>\n",
              "    </tr>\n",
              "    <tr>\n",
              "      <th>Parch</th>\n",
              "      <td>Parch</td>\n",
              "      <td>int64</td>\n",
              "      <td>0.000000</td>\n",
              "    </tr>\n",
              "    <tr>\n",
              "      <th>Ticket</th>\n",
              "      <td>Ticket</td>\n",
              "      <td>object</td>\n",
              "      <td>0.000000</td>\n",
              "    </tr>\n",
              "    <tr>\n",
              "      <th>Fare</th>\n",
              "      <td>Fare</td>\n",
              "      <td>float64</td>\n",
              "      <td>0.000000</td>\n",
              "    </tr>\n",
              "    <tr>\n",
              "      <th>Cabin</th>\n",
              "      <td>Cabin</td>\n",
              "      <td>object</td>\n",
              "      <td>0.771044</td>\n",
              "    </tr>\n",
              "    <tr>\n",
              "      <th>Embarked</th>\n",
              "      <td>Embarked</td>\n",
              "      <td>object</td>\n",
              "      <td>0.002245</td>\n",
              "    </tr>\n",
              "  </tbody>\n",
              "</table>\n",
              "</div>"
            ],
            "text/plain": [
              "                 colunas    tipos  percentual_faltante\n",
              "PassengerId  PassengerId    int64             0.000000\n",
              "Survived        Survived    int64             0.000000\n",
              "Pclass            Pclass    int64             0.000000\n",
              "Name                Name   object             0.000000\n",
              "Sex                  Sex   object             0.000000\n",
              "Age                  Age  float64             0.198653\n",
              "SibSp              SibSp    int64             0.000000\n",
              "Parch              Parch    int64             0.000000\n",
              "Ticket            Ticket   object             0.000000\n",
              "Fare                Fare  float64             0.000000\n",
              "Cabin              Cabin   object             0.771044\n",
              "Embarked        Embarked   object             0.002245"
            ]
          },
          "metadata": {
            "tags": []
          },
          "execution_count": 11
        }
      ]
    },
    {
      "cell_type": "code",
      "metadata": {
        "id": "qXxmerMDV2kc",
        "colab_type": "code",
        "colab": {}
      },
      "source": [
        "moda = df['Age'].mode()"
      ],
      "execution_count": 13,
      "outputs": []
    },
    {
      "cell_type": "code",
      "metadata": {
        "id": "jjlj1bHLe694",
        "colab_type": "code",
        "colab": {}
      },
      "source": [
        "#Dados númericos : média ou mediana\n",
        "df['Age'] = df['Age'].fillna(moda)"
      ],
      "execution_count": 14,
      "outputs": []
    },
    {
      "cell_type": "markdown",
      "metadata": {
        "id": "lffeR5t0Wf6e",
        "colab_type": "text"
      },
      "source": [
        "Ou poderia ser feito:"
      ]
    },
    {
      "cell_type": "code",
      "metadata": {
        "colab_type": "code",
        "id": "g62GUFcBWV46",
        "colab": {}
      },
      "source": [
        "#Dados númericos : média ou mediana\n",
        "df['Age'] = df['Age'].fillna(df['Age'].mode())"
      ],
      "execution_count": 16,
      "outputs": []
    },
    {
      "cell_type": "code",
      "metadata": {
        "id": "S9dwvzOUe6-C",
        "colab_type": "code",
        "colab": {}
      },
      "source": [
        "#Dados categoricos: Unknown ou moda\n",
        "df['Cabin'] = df['Cabin'].fillna('Unknown')"
      ],
      "execution_count": null,
      "outputs": []
    },
    {
      "cell_type": "code",
      "metadata": {
        "id": "4qmwSwzUe6-G",
        "colab_type": "code",
        "colab": {}
      },
      "source": [
        "df['Cabin'].value_counts()"
      ],
      "execution_count": null,
      "outputs": []
    },
    {
      "cell_type": "code",
      "metadata": {
        "id": "xY2E7IIae6-W",
        "colab_type": "code",
        "colab": {}
      },
      "source": [
        "df.shape[0]"
      ],
      "execution_count": null,
      "outputs": []
    },
    {
      "cell_type": "code",
      "metadata": {
        "id": "53Leh_n5e6-d",
        "colab_type": "code",
        "colab": {}
      },
      "source": [
        ""
      ],
      "execution_count": null,
      "outputs": []
    }
  ]
}