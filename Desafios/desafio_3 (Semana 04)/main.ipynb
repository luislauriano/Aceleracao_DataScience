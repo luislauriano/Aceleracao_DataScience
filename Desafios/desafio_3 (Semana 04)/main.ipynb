{
  "nbformat": 4,
  "nbformat_minor": 0,
  "metadata": {
    "kernelspec": {
      "display_name": "Python 3",
      "language": "python",
      "name": "python3"
    },
    "language_info": {
      "codemirror_mode": {
        "name": "ipython",
        "version": 3
      },
      "file_extension": ".py",
      "mimetype": "text/x-python",
      "name": "python",
      "nbconvert_exporter": "python",
      "pygments_lexer": "ipython3",
      "version": "3.7.3"
    },
    "colab": {
      "name": "main.ipynb",
      "provenance": []
    }
  },
  "cells": [
    {
      "cell_type": "markdown",
      "metadata": {
        "id": "EL3Fnu3HlhES",
        "colab_type": "text"
      },
      "source": [
        "# Desafio 3\n",
        "\n",
        "Neste desafio, iremos praticar nossos conhecimentos sobre distribuições de probabilidade. Para isso,\n",
        "dividiremos este desafio em duas partes:\n",
        "    \n",
        "1. A primeira parte contará com 3 questões sobre um *data set* artificial com dados de uma amostra normal e\n",
        "    uma binomial.\n",
        "2. A segunda parte será sobre a análise da distribuição de uma variável do _data set_ [Pulsar Star](https://archive.ics.uci.edu/ml/datasets/HTRU2), contendo 2 questões.\n",
        "\n",
        "> Obs.: Por favor, não modifique o nome das funções de resposta."
      ]
    },
    {
      "cell_type": "markdown",
      "metadata": {
        "id": "0WQy2cWtlhEU",
        "colab_type": "text"
      },
      "source": [
        "## _Setup_ geral"
      ]
    },
    {
      "cell_type": "code",
      "metadata": {
        "id": "2m09Hbl4lhEW",
        "colab_type": "code",
        "colab": {
          "base_uri": "https://localhost:8080/",
          "height": 71
        },
        "outputId": "acf580f8-1b2b-48b6-9ace-8404f779078e"
      },
      "source": [
        "import pandas as pd\n",
        "import matplotlib.pyplot as plt\n",
        "import numpy as np\n",
        "import scipy.stats as sct\n",
        "import seaborn as sns\n",
        "from statsmodels.distributions.empirical_distribution import ECDF"
      ],
      "execution_count": 1,
      "outputs": [
        {
          "output_type": "stream",
          "text": [
            "/usr/local/lib/python3.6/dist-packages/statsmodels/tools/_testing.py:19: FutureWarning: pandas.util.testing is deprecated. Use the functions in the public API at pandas.testing instead.\n",
            "  import pandas.util.testing as tm\n"
          ],
          "name": "stderr"
        }
      ]
    },
    {
      "cell_type": "code",
      "metadata": {
        "id": "QzdMD9-MlhEe",
        "colab_type": "code",
        "colab": {}
      },
      "source": [
        "%matplotlib inline\n",
        "\n",
        "from IPython.core.pylabtools import figsize\n",
        "\n",
        "\n",
        "figsize(12, 8)\n",
        "\n",
        "sns.set()"
      ],
      "execution_count": 2,
      "outputs": []
    },
    {
      "cell_type": "markdown",
      "metadata": {
        "id": "nELAIWtxlhEl",
        "colab_type": "text"
      },
      "source": [
        "## Parte 1"
      ]
    },
    {
      "cell_type": "markdown",
      "metadata": {
        "id": "KRyu74CJlhEm",
        "colab_type": "text"
      },
      "source": [
        "### _Setup_ da parte 1"
      ]
    },
    {
      "cell_type": "code",
      "metadata": {
        "id": "1TkpbZTKlhEn",
        "colab_type": "code",
        "colab": {}
      },
      "source": [
        "np.random.seed(42)\n",
        "    \n",
        "dataframe = pd.DataFrame({\"normal\": sct.norm.rvs(20, 4, size=10000),\n",
        "                     \"binomial\": sct.binom.rvs(100, 0.2, size=10000)})"
      ],
      "execution_count": 3,
      "outputs": []
    },
    {
      "cell_type": "markdown",
      "metadata": {
        "id": "po9KzjtplhEu",
        "colab_type": "text"
      },
      "source": [
        "## Inicie sua análise a partir da parte 1 a partir daqui"
      ]
    },
    {
      "cell_type": "code",
      "metadata": {
        "id": "9GqIVMiDlhEw",
        "colab_type": "code",
        "colab": {
          "base_uri": "https://localhost:8080/",
          "height": 204
        },
        "outputId": "6a3e6057-868e-423a-8629-5e55bf7a5bee"
      },
      "source": [
        "# Sua análise da parte 1 começa aqui.\n",
        "\n",
        "dataframe.head()"
      ],
      "execution_count": 12,
      "outputs": [
        {
          "output_type": "execute_result",
          "data": {
            "text/html": [
              "<div>\n",
              "<style scoped>\n",
              "    .dataframe tbody tr th:only-of-type {\n",
              "        vertical-align: middle;\n",
              "    }\n",
              "\n",
              "    .dataframe tbody tr th {\n",
              "        vertical-align: top;\n",
              "    }\n",
              "\n",
              "    .dataframe thead th {\n",
              "        text-align: right;\n",
              "    }\n",
              "</style>\n",
              "<table border=\"1\" class=\"dataframe\">\n",
              "  <thead>\n",
              "    <tr style=\"text-align: right;\">\n",
              "      <th></th>\n",
              "      <th>normal</th>\n",
              "      <th>binomial</th>\n",
              "    </tr>\n",
              "  </thead>\n",
              "  <tbody>\n",
              "    <tr>\n",
              "      <th>0</th>\n",
              "      <td>21.986857</td>\n",
              "      <td>18</td>\n",
              "    </tr>\n",
              "    <tr>\n",
              "      <th>1</th>\n",
              "      <td>19.446943</td>\n",
              "      <td>15</td>\n",
              "    </tr>\n",
              "    <tr>\n",
              "      <th>2</th>\n",
              "      <td>22.590754</td>\n",
              "      <td>14</td>\n",
              "    </tr>\n",
              "    <tr>\n",
              "      <th>3</th>\n",
              "      <td>26.092119</td>\n",
              "      <td>15</td>\n",
              "    </tr>\n",
              "    <tr>\n",
              "      <th>4</th>\n",
              "      <td>19.063387</td>\n",
              "      <td>21</td>\n",
              "    </tr>\n",
              "  </tbody>\n",
              "</table>\n",
              "</div>"
            ],
            "text/plain": [
              "      normal  binomial\n",
              "0  21.986857        18\n",
              "1  19.446943        15\n",
              "2  22.590754        14\n",
              "3  26.092119        15\n",
              "4  19.063387        21"
            ]
          },
          "metadata": {
            "tags": []
          },
          "execution_count": 12
        }
      ]
    },
    {
      "cell_type": "code",
      "metadata": {
        "id": "6uyV41wRvb7p",
        "colab_type": "code",
        "colab": {
          "base_uri": "https://localhost:8080/",
          "height": 485
        },
        "outputId": "115a286a-1071-45e5-b3bb-33a14452bae3"
      },
      "source": [
        "sns.distplot(dataframe.normal, label=\"Normal\")\n",
        "sns.distplot(dataframe.binomial, label=\"Binomial\")\n",
        "plt.xlabel(\"\")\n",
        "plt.legend();"
      ],
      "execution_count": 13,
      "outputs": [
        {
          "output_type": "display_data",
          "data": {
            "image/png": "[encoded data removed]",
            "text/plain": [
              "<Figure size 864x576 with 1 Axes>"
            ]
          },
          "metadata": {
            "tags": []
          }
        }
      ]
    },
    {
      "cell_type": "code",
      "metadata": {
        "id": "QKu3ZJsIuBBn",
        "colab_type": "code",
        "colab": {
          "base_uri": "https://localhost:8080/",
          "height": 85
        },
        "outputId": "52a9521a-bbe9-4996-93b4-f5c5b8e0ef2e"
      },
      "source": [
        "dataframe['normal'].quantile((0.25, 0.5, 0.75))"
      ],
      "execution_count": 11,
      "outputs": [
        {
          "output_type": "execute_result",
          "data": {
            "text/plain": [
              "0.25    17.309638\n",
              "0.50    19.989620\n",
              "0.75    22.684324\n",
              "Name: normal, dtype: float64"
            ]
          },
          "metadata": {
            "tags": []
          },
          "execution_count": 11
        }
      ]
    },
    {
      "cell_type": "code",
      "metadata": {
        "colab_type": "code",
        "id": "CjTp8EmhvqLg",
        "colab": {
          "base_uri": "https://localhost:8080/",
          "height": 85
        },
        "outputId": "63a8530a-f7bb-4961-b379-f54af794d0e4"
      },
      "source": [
        "dataframe['binomial'].quantile((0.25, 0.5, 0.75))"
      ],
      "execution_count": 14,
      "outputs": [
        {
          "output_type": "execute_result",
          "data": {
            "text/plain": [
              "0.25    17.0\n",
              "0.50    20.0\n",
              "0.75    23.0\n",
              "Name: binomial, dtype: float64"
            ]
          },
          "metadata": {
            "tags": []
          },
          "execution_count": 14
        }
      ]
    },
    {
      "cell_type": "markdown",
      "metadata": {
        "id": "s-wykKnElhE2",
        "colab_type": "text"
      },
      "source": [
        "## Questão 1\n",
        "\n",
        "Qual a diferença entre os quartis (Q1, Q2 e Q3) das variáveis `normal` e `binomial` de `dataframe`? Responda como uma tupla de três elementos arredondados para três casas decimais.\n",
        "\n",
        "Em outra palavras, sejam `q1_norm`, `q2_norm` e `q3_norm` os quantis da variável `normal` e `q1_binom`, `q2_binom` e `q3_binom` os quantis da variável `binom`, qual a diferença `(q1_norm - q1 binom, q2_norm - q2_binom, q3_norm - q3_binom)`?"
      ]
    },
    {
      "cell_type": "code",
      "metadata": {
        "id": "jJ0KcEVOwRQP",
        "colab_type": "code",
        "colab": {
          "base_uri": "https://localhost:8080/",
          "height": 34
        },
        "outputId": "f2dcf762-8024-4ad9-bbe2-3b6965a54bb4"
      },
      "source": [
        "df = dataframe.quantile((0.25,0.5,0.75))\n",
        "df['resultado'] = (df['normal'] - df['binomial'])\n",
        "res = tuple(df['resultado'].round(3))\n",
        "res "
      ],
      "execution_count": 30,
      "outputs": [
        {
          "output_type": "execute_result",
          "data": {
            "text/plain": [
              "(0.31, -0.01, -0.316)"
            ]
          },
          "metadata": {
            "tags": []
          },
          "execution_count": 30
        }
      ]
    },
    {
      "cell_type": "code",
      "metadata": {
        "id": "TrojLmMSlhE3",
        "colab_type": "code",
        "colab": {}
      },
      "source": [
        "def q1():\n",
        "    q1_norm, q2_norm, q3_norm = dataframe.normal.quantile([0.25,0.5,0.75])\n",
        "    q1_binom, q2_binom, q3_binom = dataframe.binomial.quantile([0.25,0.5,0.75])\n",
        "    res = (round(q1_norm - q1_binom,3), round(q2_norm - q2_binom,3), round(q3_norm - q3_binom,3))\n",
        "    return res"
      ],
      "execution_count": 32,
      "outputs": []
    },
    {
      "cell_type": "code",
      "metadata": {
        "id": "yPCC_sluwhNn",
        "colab_type": "code",
        "colab": {
          "base_uri": "https://localhost:8080/",
          "height": 142
        },
        "outputId": "1ccb6242-e631-4720-ce11-042f7c4aaa2d"
      },
      "source": [
        "df.head()"
      ],
      "execution_count": 31,
      "outputs": [
        {
          "output_type": "execute_result",
          "data": {
            "text/html": [
              "<div>\n",
              "<style scoped>\n",
              "    .dataframe tbody tr th:only-of-type {\n",
              "        vertical-align: middle;\n",
              "    }\n",
              "\n",
              "    .dataframe tbody tr th {\n",
              "        vertical-align: top;\n",
              "    }\n",
              "\n",
              "    .dataframe thead th {\n",
              "        text-align: right;\n",
              "    }\n",
              "</style>\n",
              "<table border=\"1\" class=\"dataframe\">\n",
              "  <thead>\n",
              "    <tr style=\"text-align: right;\">\n",
              "      <th></th>\n",
              "      <th>normal</th>\n",
              "      <th>binomial</th>\n",
              "      <th>resultado</th>\n",
              "    </tr>\n",
              "  </thead>\n",
              "  <tbody>\n",
              "    <tr>\n",
              "      <th>0.25</th>\n",
              "      <td>17.309638</td>\n",
              "      <td>17.0</td>\n",
              "      <td>0.309638</td>\n",
              "    </tr>\n",
              "    <tr>\n",
              "      <th>0.50</th>\n",
              "      <td>19.989620</td>\n",
              "      <td>20.0</td>\n",
              "      <td>-0.010380</td>\n",
              "    </tr>\n",
              "    <tr>\n",
              "      <th>0.75</th>\n",
              "      <td>22.684324</td>\n",
              "      <td>23.0</td>\n",
              "      <td>-0.315676</td>\n",
              "    </tr>\n",
              "  </tbody>\n",
              "</table>\n",
              "</div>"
            ],
            "text/plain": [
              "         normal  binomial  resultado\n",
              "0.25  17.309638      17.0   0.309638\n",
              "0.50  19.989620      20.0  -0.010380\n",
              "0.75  22.684324      23.0  -0.315676"
            ]
          },
          "metadata": {
            "tags": []
          },
          "execution_count": 31
        }
      ]
    },
    {
      "cell_type": "markdown",
      "metadata": {
        "id": "hzrrYP9PlhE8",
        "colab_type": "text"
      },
      "source": [
        "Para refletir:\n",
        "\n",
        "* Você esperava valores dessa magnitude?\n",
        "\n",
        "* Você é capaz de explicar como distribuições aparentemente tão diferentes (discreta e contínua, por exemplo) conseguem dar esses valores?"
      ]
    },
    {
      "cell_type": "markdown",
      "metadata": {
        "id": "7VTfQcbslhE9",
        "colab_type": "text"
      },
      "source": [
        "## Questão 2\n",
        "\n",
        "Considere o intervalo $[\\bar{x} - s, \\bar{x} + s]$, onde $\\bar{x}$ é a média amostral e $s$ é o desvio padrão. Qual a probabilidade nesse intervalo, calculada pela função de distribuição acumulada empírica (CDF empírica) da variável `normal`? Responda como uma único escalar arredondado para três casas decimais."
      ]
    },
    {
      "cell_type": "code",
      "metadata": {
        "id": "O0Dg9wt348po",
        "colab_type": "code",
        "colab": {
          "base_uri": "https://localhost:8080/",
          "height": 518
        },
        "outputId": "a7b298c2-a54b-4b7a-c178-f8369cb80160"
      },
      "source": [
        "\n",
        "# Plotando o  ECDF dos dados da variável normal:\n",
        "ecdf = ECDF(dataframe.normal)\n",
        "plt.title('Função de distribuição acumulada empírica (ECDF')\n",
        "plt.xlabel('Valores da distribuição')\n",
        "plt.ylabel('Probabilidade dos valores ocorrerem')\n",
        "plt.scatter(ecdf.x, ecdf.y);"
      ],
      "execution_count": 46,
      "outputs": [
        {
          "output_type": "display_data",
          "data": {
            "image/png": "[encoded data removed]",
            "text/plain": [
              "<Figure size 864x576 with 1 Axes>"
            ]
          },
          "metadata": {
            "tags": []
          }
        }
      ]
    },
    {
      "cell_type": "code",
      "metadata": {
        "id": "jTyaDsLwlhE-",
        "colab_type": "code",
        "colab": {}
      },
      "source": [
        "def q2():\n",
        "    # Retorne aqui o resultado da questão 2.\n",
        "    ecdf = ECDF(dataframe.normal)\n",
        "    # quero area acumulada da superior menos a área da inferior: ecdf(sup) - ecdf(inf)\n",
        "    media = dataframe.normal.mean() \n",
        "    desvio = dataframe.normal.std()\n",
        "    prob = ecdf(media+desvio) - ecdf(media-desvio)\n",
        "    return float(prob.round(3))"
      ],
      "execution_count": 33,
      "outputs": []
    },
    {
      "cell_type": "markdown",
      "metadata": {
        "id": "6vDw7ALWlhFG",
        "colab_type": "text"
      },
      "source": [
        "Para refletir:\n",
        "\n",
        "* Esse valor se aproxima do esperado teórico?\n",
        "* Experimente também para os intervalos $[\\bar{x} - 2s, \\bar{x} + 2s]$ e $[\\bar{x} - 3s, \\bar{x} + 3s]$."
      ]
    },
    {
      "cell_type": "markdown",
      "metadata": {
        "id": "FJS7FgV3lhFI",
        "colab_type": "text"
      },
      "source": [
        "## Questão 3\n",
        "\n",
        "Qual é a diferença entre as médias e as variâncias das variáveis `binomial` e `normal`? Responda como uma tupla de dois elementos arredondados para três casas decimais.\n",
        "\n",
        "Em outras palavras, sejam `m_binom` e `v_binom` a média e a variância da variável `binomial`, e `m_norm` e `v_norm` a média e a variância da variável `normal`. Quais as diferenças `(m_binom - m_norm, v_binom - v_norm)`?"
      ]
    },
    {
      "cell_type": "code",
      "metadata": {
        "id": "J7mRMFWflhFJ",
        "colab_type": "code",
        "colab": {
          "base_uri": "https://localhost:8080/",
          "height": 34
        },
        "outputId": "ca9335df-4597-41ab-a71c-d1d1a71e57e0"
      },
      "source": [
        "def q3():\n",
        "  m_norm = dataframe['normal'].mean()\n",
        "  m_binom = dataframe['binomial'].mean()\n",
        "\n",
        "  v_norm = dataframe['normal'].var()\n",
        "  v_binom = dataframe['binomial'].var()\n",
        "\n",
        "  return tuple([round(x,3) for x in (m_binom - m_norm,v_binom - v_norm)])\n",
        "q3()"
      ],
      "execution_count": 50,
      "outputs": [
        {
          "output_type": "execute_result",
          "data": {
            "text/plain": [
              "(0.106, 0.22)"
            ]
          },
          "metadata": {
            "tags": []
          },
          "execution_count": 50
        }
      ]
    },
    {
      "cell_type": "markdown",
      "metadata": {
        "id": "orPuLTCGlhFQ",
        "colab_type": "text"
      },
      "source": [
        "Para refletir:\n",
        "\n",
        "* Você esperava valore dessa magnitude?\n",
        "* Qual o efeito de aumentar ou diminuir $n$ (atualmente 100) na distribuição da variável `binomial`?"
      ]
    },
    {
      "cell_type": "code",
      "metadata": {
        "id": "dnY5rytl7sDU",
        "colab_type": "code",
        "colab": {
          "base_uri": "https://localhost:8080/",
          "height": 34
        },
        "outputId": "aa853f0e-4492-457e-c650-282372301ac1"
      },
      "source": [
        "def binomial():\n",
        "    # Garantido que o resultado gerado seja sempre o mesmo:\n",
        "    np.random.seed(42)\n",
        "\n",
        "    # Aumentando o n da distribuição binomial:\n",
        "    binomial_2 = sct.binom.rvs(100, 0.2, size=100000)\n",
        "\n",
        "    # Média e variância da distribuição normal:\n",
        "    m_norm, v_norm = dataframe.normal.mean(),dataframe.normal.var()\n",
        "\n",
        "    # Média e variância da distribuição binomial:\n",
        "    m_binom, v_binom = binomial_2.mean(),binomial_2.var()\n",
        "    # Diferença entre as médias e as variâncias das variáveis binomial e normal:\n",
        "    return tuple([round(x,3) for x in (m_binom - m_norm,v_binom - v_norm)])\n",
        "\n",
        "binomial()"
      ],
      "execution_count": 52,
      "outputs": [
        {
          "output_type": "execute_result",
          "data": {
            "text/plain": [
              "(-0.003, -0.196)"
            ]
          },
          "metadata": {
            "tags": []
          },
          "execution_count": 52
        }
      ]
    },
    {
      "cell_type": "markdown",
      "metadata": {
        "id": "7XBitw7V70UB",
        "colab_type": "text"
      },
      "source": [
        "É possível perceber que, aumentando-se o n da distribuição Binomial, de 10.000 para 100.000, ela se aproxima mais da distribuição normal, diminuindo-se as diferenças."
      ]
    },
    {
      "cell_type": "markdown",
      "metadata": {
        "id": "nagbp8N2lhFS",
        "colab_type": "text"
      },
      "source": [
        "## Parte 2"
      ]
    },
    {
      "cell_type": "markdown",
      "metadata": {
        "id": "9sjT5RLXlhFT",
        "colab_type": "text"
      },
      "source": [
        "### _Setup_ da parte 2"
      ]
    },
    {
      "cell_type": "code",
      "metadata": {
        "id": "rlQkUJY4lhFU",
        "colab_type": "code",
        "colab": {}
      },
      "source": [
        "stars = pd.read_csv(\"https://raw.githubusercontent.com/karinnecristina/AceleraDev_Codenation/master/Desafio_3/pulsar_stars.csv\")\n",
        "\n",
        "stars.rename({old_name: new_name\n",
        "              for (old_name, new_name)\n",
        "              in zip(stars.columns,\n",
        "                     [\"mean_profile\", \"sd_profile\", \"kurt_profile\", \"skew_profile\", \"mean_curve\", \"sd_curve\", \"kurt_curve\", \"skew_curve\", \"target\"])\n",
        "             },\n",
        "             axis=1, inplace=True)\n",
        "\n",
        "stars.loc[:, \"target\"] = stars.target.astype(bool)"
      ],
      "execution_count": 54,
      "outputs": []
    },
    {
      "cell_type": "markdown",
      "metadata": {
        "id": "IWdldrdhlhFZ",
        "colab_type": "text"
      },
      "source": [
        "## Inicie sua análise da parte 2 a partir daqui"
      ]
    },
    {
      "cell_type": "code",
      "metadata": {
        "id": "fIAqEo61lhFa",
        "colab_type": "code",
        "colab": {
          "base_uri": "https://localhost:8080/",
          "height": 204
        },
        "outputId": "76c5c9c2-63f4-475f-8ad1-aa52009e344a"
      },
      "source": [
        "# Sua análise da parte 2 começa aqui.\n",
        "stars.head()"
      ],
      "execution_count": 58,
      "outputs": [
        {
          "output_type": "execute_result",
          "data": {
            "text/html": [
              "<div>\n",
              "<style scoped>\n",
              "    .dataframe tbody tr th:only-of-type {\n",
              "        vertical-align: middle;\n",
              "    }\n",
              "\n",
              "    .dataframe tbody tr th {\n",
              "        vertical-align: top;\n",
              "    }\n",
              "\n",
              "    .dataframe thead th {\n",
              "        text-align: right;\n",
              "    }\n",
              "</style>\n",
              "<table border=\"1\" class=\"dataframe\">\n",
              "  <thead>\n",
              "    <tr style=\"text-align: right;\">\n",
              "      <th></th>\n",
              "      <th>mean_profile</th>\n",
              "      <th>sd_profile</th>\n",
              "      <th>kurt_profile</th>\n",
              "      <th>skew_profile</th>\n",
              "      <th>mean_curve</th>\n",
              "      <th>sd_curve</th>\n",
              "      <th>kurt_curve</th>\n",
              "      <th>skew_curve</th>\n",
              "      <th>target</th>\n",
              "    </tr>\n",
              "  </thead>\n",
              "  <tbody>\n",
              "    <tr>\n",
              "      <th>0</th>\n",
              "      <td>102.507812</td>\n",
              "      <td>58.882430</td>\n",
              "      <td>0.465318</td>\n",
              "      <td>-0.515088</td>\n",
              "      <td>1.677258</td>\n",
              "      <td>14.860146</td>\n",
              "      <td>10.576487</td>\n",
              "      <td>127.393580</td>\n",
              "      <td>False</td>\n",
              "    </tr>\n",
              "    <tr>\n",
              "      <th>1</th>\n",
              "      <td>103.015625</td>\n",
              "      <td>39.341649</td>\n",
              "      <td>0.323328</td>\n",
              "      <td>1.051164</td>\n",
              "      <td>3.121237</td>\n",
              "      <td>21.744669</td>\n",
              "      <td>7.735822</td>\n",
              "      <td>63.171909</td>\n",
              "      <td>False</td>\n",
              "    </tr>\n",
              "    <tr>\n",
              "      <th>2</th>\n",
              "      <td>136.750000</td>\n",
              "      <td>57.178449</td>\n",
              "      <td>-0.068415</td>\n",
              "      <td>-0.636238</td>\n",
              "      <td>3.642977</td>\n",
              "      <td>20.959280</td>\n",
              "      <td>6.896499</td>\n",
              "      <td>53.593661</td>\n",
              "      <td>False</td>\n",
              "    </tr>\n",
              "    <tr>\n",
              "      <th>3</th>\n",
              "      <td>88.726562</td>\n",
              "      <td>40.672225</td>\n",
              "      <td>0.600866</td>\n",
              "      <td>1.123492</td>\n",
              "      <td>1.178930</td>\n",
              "      <td>11.468720</td>\n",
              "      <td>14.269573</td>\n",
              "      <td>252.567306</td>\n",
              "      <td>False</td>\n",
              "    </tr>\n",
              "    <tr>\n",
              "      <th>4</th>\n",
              "      <td>93.570312</td>\n",
              "      <td>46.698114</td>\n",
              "      <td>0.531905</td>\n",
              "      <td>0.416721</td>\n",
              "      <td>1.636288</td>\n",
              "      <td>14.545074</td>\n",
              "      <td>10.621748</td>\n",
              "      <td>131.394004</td>\n",
              "      <td>False</td>\n",
              "    </tr>\n",
              "  </tbody>\n",
              "</table>\n",
              "</div>"
            ],
            "text/plain": [
              "   mean_profile  sd_profile  kurt_profile  ...  kurt_curve  skew_curve  target\n",
              "0    102.507812   58.882430      0.465318  ...   10.576487  127.393580   False\n",
              "1    103.015625   39.341649      0.323328  ...    7.735822   63.171909   False\n",
              "2    136.750000   57.178449     -0.068415  ...    6.896499   53.593661   False\n",
              "3     88.726562   40.672225      0.600866  ...   14.269573  252.567306   False\n",
              "4     93.570312   46.698114      0.531905  ...   10.621748  131.394004   False\n",
              "\n",
              "[5 rows x 9 columns]"
            ]
          },
          "metadata": {
            "tags": []
          },
          "execution_count": 58
        }
      ]
    },
    {
      "cell_type": "markdown",
      "metadata": {
        "id": "ADk3NQmdlhFh",
        "colab_type": "text"
      },
      "source": [
        "## Questão 4\n",
        "\n",
        "Considerando a variável `mean_profile` de `stars`:\n",
        "\n",
        "1. Filtre apenas os valores de `mean_profile` onde `target == 0` (ou seja, onde a estrela não é um pulsar).\n",
        "2. Padronize a variável `mean_profile` filtrada anteriormente para ter média 0 e variância 1.\n",
        "\n",
        "Chamaremos a variável resultante de `false_pulsar_mean_profile_standardized`.\n",
        "\n",
        "Encontre os quantis teóricos para uma distribuição normal de média 0 e variância 1 para 0.80, 0.90 e 0.95 através da função `norm.ppf()` disponível em `scipy.stats`.\n",
        "\n",
        "Quais as probabilidade associadas a esses quantis utilizando a CDF empírica da variável `false_pulsar_mean_profile_standardized`? Responda como uma tupla de três elementos arredondados para três casas decimais."
      ]
    },
    {
      "cell_type": "code",
      "metadata": {
        "id": "q4uV1SUiE8Wy",
        "colab_type": "code",
        "colab": {
          "base_uri": "https://localhost:8080/",
          "height": 502
        },
        "outputId": "94507eff-2a13-40c7-d239-2bb30d69b123"
      },
      "source": [
        "sns.distplot(stars['mean_profile']);"
      ],
      "execution_count": 88,
      "outputs": [
        {
          "output_type": "display_data",
          "data": {
            "image/png": "[encoded data removed]",
            "text/plain": [
              "<Figure size 864x576 with 1 Axes>"
            ]
          },
          "metadata": {
            "tags": []
          }
        }
      ]
    },
    {
      "cell_type": "code",
      "metadata": {
        "id": "kFUQQxlO_Bgn",
        "colab_type": "code",
        "colab": {}
      },
      "source": [
        "#Filtrando as variaveis\n",
        "filtro = stars[['mean_profile', 'target']]\n",
        "filtro = filtro.query('target == False')\n",
        "\n",
        "#Padronizando a variavel mean_profile\n",
        "\n",
        "false_pulsar_mean_profile_standardized= (filtro - filtro.mean() / filtro.std())\n",
        "false_pulsar_mean_profile_standardized"
      ],
      "execution_count": null,
      "outputs": []
    },
    {
      "cell_type": "code",
      "metadata": {
        "id": "Gw0sR6sNFqkq",
        "colab_type": "code",
        "colab": {}
      },
      "source": [
        "#quantis teoricos\n",
        "Q_80 = sct.norm.ppf(0.80, loc=0, scale=1)\n",
        "Q_90 = sct.norm.ppf(0.90, loc=0, scale=1)\n",
        "Q_95 = sct.norm.ppf(0.95, loc=0, scale=1)"
      ],
      "execution_count": 91,
      "outputs": []
    },
    {
      "cell_type": "code",
      "metadata": {
        "id": "kDRiUC8SlhFi",
        "colab_type": "code",
        "colab": {
          "base_uri": "https://localhost:8080/",
          "height": 34
        },
        "outputId": "be0a9544-4634-4547-9420-83165998276d"
      },
      "source": [
        "def q4():\n",
        "    # Filtrando os valores:\n",
        "    filter_stars = stars.loc[stars['target'] == False]['mean_profile']\n",
        "\n",
        "    # Padronizando:\n",
        "    false_pulsar_mean_profile_standardized = sct.zscore(filter_stars)\n",
        "\n",
        "    # Quantis teóricos:\n",
        "    ppf = sct.norm.ppf([.8, .9, .95])\n",
        "\n",
        "    # CDF empírica da variável:\n",
        "    ecdf = ECDF(false_pulsar_mean_profile_standardized)\n",
        "\n",
        "    return tuple([round(x,3) for x in ecdf([ppf[0],ppf[1],ppf[2]])])\n",
        "q4()\n"
      ],
      "execution_count": 106,
      "outputs": [
        {
          "output_type": "execute_result",
          "data": {
            "text/plain": [
              "(0.806, 0.911, 0.959)"
            ]
          },
          "metadata": {
            "tags": []
          },
          "execution_count": 106
        }
      ]
    },
    {
      "cell_type": "code",
      "metadata": {
        "id": "a4ISQA7mH5ts",
        "colab_type": "code",
        "colab": {
          "base_uri": "https://localhost:8080/",
          "height": 485
        },
        "outputId": "f288963d-3245-4acb-9a83-22caea7efdbd"
      },
      "source": [
        "# Analisando a variável 'mean_profile' depois da padronização:\n",
        "\n",
        "filter_stars = stars.loc[stars['target'] == False]['mean_profile'] # Filtrando os valores\n",
        "false_pulsar_mean_profile_standardized = sct.zscore(filter_stars) # Padronizando\n",
        "\n",
        "sns.distplot(false_pulsar_mean_profile_standardized);"
      ],
      "execution_count": 107,
      "outputs": [
        {
          "output_type": "display_data",
          "data": {
            "image/png": "[encoded data removed]",
            "text/plain": [
              "<Figure size 864x576 with 1 Axes>"
            ]
          },
          "metadata": {
            "tags": []
          }
        }
      ]
    },
    {
      "cell_type": "markdown",
      "metadata": {
        "id": "15nyodRGlhFm",
        "colab_type": "text"
      },
      "source": [
        "Para refletir:\n",
        "\n",
        "* Os valores encontrados fazem sentido?\n",
        "* O que isso pode dizer sobre a distribuição da variável `false_pulsar_mean_profile_standardized`?"
      ]
    },
    {
      "cell_type": "markdown",
      "metadata": {
        "id": "o_C9B6hmIAXN",
        "colab_type": "text"
      },
      "source": [
        "Pelo gráfico já deu para perceber que a variável padronizado tem distribuição próxima à normal, logo, faz sentido os valores encontrados serem semelhantes aos valores originais de 80%, 90% e 95%."
      ]
    },
    {
      "cell_type": "markdown",
      "metadata": {
        "id": "1l8AENpClhFn",
        "colab_type": "text"
      },
      "source": [
        "## Questão 5\n",
        "\n",
        "Qual a diferença entre os quantis Q1, Q2 e Q3 de `false_pulsar_mean_profile_standardized` e os mesmos quantis teóricos de uma distribuição normal de média 0 e variância 1? Responda como uma tupla de três elementos arredondados para três casas decimais."
      ]
    },
    {
      "cell_type": "code",
      "metadata": {
        "id": "6Que12CslhFo",
        "colab_type": "code",
        "colab": {
          "base_uri": "https://localhost:8080/",
          "height": 34
        },
        "outputId": "8edb28ef-57ad-44ca-9702-caf26f0f69e0"
      },
      "source": [
        "def q5():\n",
        "    #filtrando e padronizando\n",
        "    filtro = stars[stars['target'] == 0]['mean_profile']\n",
        "    padronizado = (filtro - filtro.mean()) / filtro.std()\n",
        "    #os quartis da false_pulsar:\n",
        "    Q1, Q2, Q3 = padronizado.quantile([0.25,0.5,0.75])\n",
        "    #os quartis da normal:\n",
        "    Norm_Q1 = sct.norm.ppf(0.25, loc=0, scale=1)\n",
        "    Norm_Q2 = sct.norm.ppf(0.50, loc=0, scale=1)\n",
        "    Norm_Q3 = sct.norm.ppf(0.75, loc=0, scale=1)\n",
        "    return (round(Q1-Norm_Q1,3),round(Q2-Norm_Q2,3),round(Q3-Norm_Q3,3))\n",
        "\n",
        "q5()"
      ],
      "execution_count": 113,
      "outputs": [
        {
          "output_type": "execute_result",
          "data": {
            "text/plain": [
              "(0.027, 0.04, -0.004)"
            ]
          },
          "metadata": {
            "tags": []
          },
          "execution_count": 113
        }
      ]
    },
    {
      "cell_type": "markdown",
      "metadata": {
        "id": "-QENxXWOlhFu",
        "colab_type": "text"
      },
      "source": [
        "Para refletir:\n",
        "\n",
        "* Os valores encontrados fazem sentido?\n",
        "* O que isso pode dizer sobre a distribuição da variável `false_pulsar_mean_profile_standardized`?\n",
        "* Curiosidade: alguns testes de hipóteses sobre normalidade dos dados utilizam essa mesma abordagem."
      ]
    }
  ]
}