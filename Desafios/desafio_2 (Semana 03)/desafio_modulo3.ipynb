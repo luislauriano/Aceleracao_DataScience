{
  "nbformat": 4,
  "nbformat_minor": 0,
  "metadata": {
    "colab": {
      "name": "Welcome To Colaboratory",
      "provenance": [],
      "collapsed_sections": []
    },
    "kernelspec": {
      "display_name": "Python 3",
      "name": "python3"
    }
  },
  "cells": [
    {
      "cell_type": "code",
      "metadata": {
        "id": "zIB0hGYp7TaC",
        "colab_type": "code",
        "colab": {}
      },
      "source": [
        "import pandas as pd"
      ],
      "execution_count": 41,
      "outputs": []
    },
    {
      "cell_type": "code",
      "metadata": {
        "id": "Hf-h3SkL7XL4",
        "colab_type": "code",
        "colab": {}
      },
      "source": [
        "df = pd.read_csv(\"https://raw.githubusercontent.com/luislauriano/AceleraDev_DataScience/master/data/desafio1.csv\")"
      ],
      "execution_count": 42,
      "outputs": []
    },
    {
      "cell_type": "code",
      "metadata": {
        "id": "p7-rUGbo7bCS",
        "colab_type": "code",
        "colab": {
          "base_uri": "https://localhost:8080/",
          "height": 224
        },
        "outputId": "86eb1960-02a6-49e1-eb06-2ec06f799fa6"
      },
      "source": [
        "df.head()"
      ],
      "execution_count": 43,
      "outputs": [
        {
          "output_type": "execute_result",
          "data": {
            "text/html": [
              "<div>\n",
              "<style scoped>\n",
              "    .dataframe tbody tr th:only-of-type {\n",
              "        vertical-align: middle;\n",
              "    }\n",
              "\n",
              "    .dataframe tbody tr th {\n",
              "        vertical-align: top;\n",
              "    }\n",
              "\n",
              "    .dataframe thead th {\n",
              "        text-align: right;\n",
              "    }\n",
              "</style>\n",
              "<table border=\"1\" class=\"dataframe\">\n",
              "  <thead>\n",
              "    <tr style=\"text-align: right;\">\n",
              "      <th></th>\n",
              "      <th>RowNumber</th>\n",
              "      <th>id</th>\n",
              "      <th>sobrenome</th>\n",
              "      <th>pontuacao_credito</th>\n",
              "      <th>estado_residencia</th>\n",
              "      <th>genero</th>\n",
              "      <th>idade</th>\n",
              "      <th>nivel_estabilidade</th>\n",
              "      <th>saldo_conta</th>\n",
              "      <th>numero_produtos</th>\n",
              "      <th>possui_cartao_de_credito</th>\n",
              "      <th>membro_ativo</th>\n",
              "    </tr>\n",
              "  </thead>\n",
              "  <tbody>\n",
              "    <tr>\n",
              "      <th>0</th>\n",
              "      <td>1</td>\n",
              "      <td>e7f44fcbd380d4cef7e6c232cc7e37895c3fd197</td>\n",
              "      <td>6d6e0aa1b9b413e442e2fb68df14b4fc3f91de50</td>\n",
              "      <td>619</td>\n",
              "      <td>SC</td>\n",
              "      <td>F</td>\n",
              "      <td>42</td>\n",
              "      <td>2</td>\n",
              "      <td>0.00</td>\n",
              "      <td>1</td>\n",
              "      <td>1</td>\n",
              "      <td>1</td>\n",
              "    </tr>\n",
              "    <tr>\n",
              "      <th>1</th>\n",
              "      <td>2</td>\n",
              "      <td>28dcb083ad90512da16b9430085c2cddb8ca5e12</td>\n",
              "      <td>48e1ad846796fa314f1b4a6702b83343eb5482c5</td>\n",
              "      <td>608</td>\n",
              "      <td>RS</td>\n",
              "      <td>F</td>\n",
              "      <td>41</td>\n",
              "      <td>1</td>\n",
              "      <td>83807.86</td>\n",
              "      <td>1</td>\n",
              "      <td>0</td>\n",
              "      <td>1</td>\n",
              "    </tr>\n",
              "    <tr>\n",
              "      <th>2</th>\n",
              "      <td>3</td>\n",
              "      <td>774bc378f787438c9c7594e536787d07a097a54b</td>\n",
              "      <td>f2b29d5d934de615812b697132e767dea0f1e9e2</td>\n",
              "      <td>502</td>\n",
              "      <td>SC</td>\n",
              "      <td>F</td>\n",
              "      <td>42</td>\n",
              "      <td>8</td>\n",
              "      <td>159660.80</td>\n",
              "      <td>3</td>\n",
              "      <td>1</td>\n",
              "      <td>0</td>\n",
              "    </tr>\n",
              "    <tr>\n",
              "      <th>3</th>\n",
              "      <td>4</td>\n",
              "      <td>043a71326f7096de155e7f0c559dc62b5e4b7239</td>\n",
              "      <td>85d5c9da7cddd8109ad32a6c348fe2bb10bf99f2</td>\n",
              "      <td>699</td>\n",
              "      <td>SC</td>\n",
              "      <td>F</td>\n",
              "      <td>39</td>\n",
              "      <td>1</td>\n",
              "      <td>0.00</td>\n",
              "      <td>2</td>\n",
              "      <td>0</td>\n",
              "      <td>0</td>\n",
              "    </tr>\n",
              "    <tr>\n",
              "      <th>4</th>\n",
              "      <td>5</td>\n",
              "      <td>37b3bb8ca243955fb3605ec7e1c2a4607cdb3b22</td>\n",
              "      <td>ddc89c837a6933639de75f28171057060bd322df</td>\n",
              "      <td>850</td>\n",
              "      <td>RS</td>\n",
              "      <td>F</td>\n",
              "      <td>43</td>\n",
              "      <td>2</td>\n",
              "      <td>125510.82</td>\n",
              "      <td>1</td>\n",
              "      <td>1</td>\n",
              "      <td>1</td>\n",
              "    </tr>\n",
              "  </tbody>\n",
              "</table>\n",
              "</div>"
            ],
            "text/plain": [
              "   RowNumber  ... membro_ativo\n",
              "0          1  ...            1\n",
              "1          2  ...            1\n",
              "2          3  ...            0\n",
              "3          4  ...            0\n",
              "4          5  ...            1\n",
              "\n",
              "[5 rows x 12 columns]"
            ]
          },
          "metadata": {
            "tags": []
          },
          "execution_count": 43
        }
      ]
    },
    {
      "cell_type": "code",
      "metadata": {
        "id": "ZX4_krLUxP04",
        "colab_type": "code",
        "colab": {
          "base_uri": "https://localhost:8080/",
          "height": 297
        },
        "outputId": "9a9f1cab-51ff-4401-f77f-c60fe4560630"
      },
      "source": [
        "df.describe().T"
      ],
      "execution_count": 44,
      "outputs": [
        {
          "output_type": "execute_result",
          "data": {
            "text/html": [
              "<div>\n",
              "<style scoped>\n",
              "    .dataframe tbody tr th:only-of-type {\n",
              "        vertical-align: middle;\n",
              "    }\n",
              "\n",
              "    .dataframe tbody tr th {\n",
              "        vertical-align: top;\n",
              "    }\n",
              "\n",
              "    .dataframe thead th {\n",
              "        text-align: right;\n",
              "    }\n",
              "</style>\n",
              "<table border=\"1\" class=\"dataframe\">\n",
              "  <thead>\n",
              "    <tr style=\"text-align: right;\">\n",
              "      <th></th>\n",
              "      <th>count</th>\n",
              "      <th>mean</th>\n",
              "      <th>std</th>\n",
              "      <th>min</th>\n",
              "      <th>25%</th>\n",
              "      <th>50%</th>\n",
              "      <th>75%</th>\n",
              "      <th>max</th>\n",
              "    </tr>\n",
              "  </thead>\n",
              "  <tbody>\n",
              "    <tr>\n",
              "      <th>RowNumber</th>\n",
              "      <td>7000.0</td>\n",
              "      <td>3500.500000</td>\n",
              "      <td>2020.870275</td>\n",
              "      <td>1.0</td>\n",
              "      <td>1750.75</td>\n",
              "      <td>3500.50</td>\n",
              "      <td>5250.250</td>\n",
              "      <td>7000.00</td>\n",
              "    </tr>\n",
              "    <tr>\n",
              "      <th>pontuacao_credito</th>\n",
              "      <td>7000.0</td>\n",
              "      <td>649.787000</td>\n",
              "      <td>97.046279</td>\n",
              "      <td>350.0</td>\n",
              "      <td>582.00</td>\n",
              "      <td>651.00</td>\n",
              "      <td>717.000</td>\n",
              "      <td>850.00</td>\n",
              "    </tr>\n",
              "    <tr>\n",
              "      <th>idade</th>\n",
              "      <td>7000.0</td>\n",
              "      <td>38.892714</td>\n",
              "      <td>10.465562</td>\n",
              "      <td>18.0</td>\n",
              "      <td>32.00</td>\n",
              "      <td>37.00</td>\n",
              "      <td>44.000</td>\n",
              "      <td>92.00</td>\n",
              "    </tr>\n",
              "    <tr>\n",
              "      <th>nivel_estabilidade</th>\n",
              "      <td>7000.0</td>\n",
              "      <td>5.010286</td>\n",
              "      <td>2.887500</td>\n",
              "      <td>0.0</td>\n",
              "      <td>3.00</td>\n",
              "      <td>5.00</td>\n",
              "      <td>7.250</td>\n",
              "      <td>10.00</td>\n",
              "    </tr>\n",
              "    <tr>\n",
              "      <th>saldo_conta</th>\n",
              "      <td>7000.0</td>\n",
              "      <td>76471.883751</td>\n",
              "      <td>62403.383911</td>\n",
              "      <td>0.0</td>\n",
              "      <td>0.00</td>\n",
              "      <td>97277.13</td>\n",
              "      <td>127537.155</td>\n",
              "      <td>250898.09</td>\n",
              "    </tr>\n",
              "    <tr>\n",
              "      <th>numero_produtos</th>\n",
              "      <td>7000.0</td>\n",
              "      <td>1.526000</td>\n",
              "      <td>0.583047</td>\n",
              "      <td>1.0</td>\n",
              "      <td>1.00</td>\n",
              "      <td>1.00</td>\n",
              "      <td>2.000</td>\n",
              "      <td>4.00</td>\n",
              "    </tr>\n",
              "    <tr>\n",
              "      <th>possui_cartao_de_credito</th>\n",
              "      <td>7000.0</td>\n",
              "      <td>0.703286</td>\n",
              "      <td>0.456842</td>\n",
              "      <td>0.0</td>\n",
              "      <td>0.00</td>\n",
              "      <td>1.00</td>\n",
              "      <td>1.000</td>\n",
              "      <td>1.00</td>\n",
              "    </tr>\n",
              "    <tr>\n",
              "      <th>membro_ativo</th>\n",
              "      <td>7000.0</td>\n",
              "      <td>0.512143</td>\n",
              "      <td>0.499888</td>\n",
              "      <td>0.0</td>\n",
              "      <td>0.00</td>\n",
              "      <td>1.00</td>\n",
              "      <td>1.000</td>\n",
              "      <td>1.00</td>\n",
              "    </tr>\n",
              "  </tbody>\n",
              "</table>\n",
              "</div>"
            ],
            "text/plain": [
              "                           count          mean  ...         75%        max\n",
              "RowNumber                 7000.0   3500.500000  ...    5250.250    7000.00\n",
              "pontuacao_credito         7000.0    649.787000  ...     717.000     850.00\n",
              "idade                     7000.0     38.892714  ...      44.000      92.00\n",
              "nivel_estabilidade        7000.0      5.010286  ...       7.250      10.00\n",
              "saldo_conta               7000.0  76471.883751  ...  127537.155  250898.09\n",
              "numero_produtos           7000.0      1.526000  ...       2.000       4.00\n",
              "possui_cartao_de_credito  7000.0      0.703286  ...       1.000       1.00\n",
              "membro_ativo              7000.0      0.512143  ...       1.000       1.00\n",
              "\n",
              "[8 rows x 8 columns]"
            ]
          },
          "metadata": {
            "tags": []
          },
          "execution_count": 44
        }
      ]
    },
    {
      "cell_type": "markdown",
      "metadata": {
        "id": "KUXqH7lkx_z0",
        "colab_type": "text"
      },
      "source": [
        "#**Objetivo do desafio**\n",
        "Queremos conhecer melhor nossos clientes por estado. Para isso, iniciamos uma análise na pontuação de crédito. Para realizar a verificação inicial, precisamos de alguns valores. Os valores são a média, a mediana, a moda e o desvio padrão da pontuação de crédito."
      ]
    },
    {
      "cell_type": "code",
      "metadata": {
        "id": "ci1fTgNT0lN0",
        "colab_type": "code",
        "colab": {}
      },
      "source": [
        "# Função para pegar os valores:\n",
        "def get_values(df):\n",
        "    return {'moda': df.mode()[0], 'mediana': df.median(), 'media': df.mean(), 'desvio_padrao': df.std()}"
      ],
      "execution_count": 45,
      "outputs": []
    },
    {
      "cell_type": "code",
      "metadata": {
        "id": "8e2oVRbW1N0Q",
        "colab_type": "code",
        "colab": {}
      },
      "source": [
        "#Agrupamento da pontuacao de credito por estado ; Aplicando os valores de mode, mediana e media\n",
        "df_agrupamento = df['pontuacao_credito'].groupby(df['estado_residencia']).apply(get_values).unstack()"
      ],
      "execution_count": 46,
      "outputs": []
    },
    {
      "cell_type": "code",
      "metadata": {
        "id": "SbmUXLxr16RH",
        "colab_type": "code",
        "colab": {
          "base_uri": "https://localhost:8080/",
          "height": 173
        },
        "outputId": "9a2f4ef1-e498-4cc9-f534-2b927e7c50c3"
      },
      "source": [
        "df_agrupamento"
      ],
      "execution_count": 47,
      "outputs": [
        {
          "output_type": "execute_result",
          "data": {
            "text/html": [
              "<div>\n",
              "<style scoped>\n",
              "    .dataframe tbody tr th:only-of-type {\n",
              "        vertical-align: middle;\n",
              "    }\n",
              "\n",
              "    .dataframe tbody tr th {\n",
              "        vertical-align: top;\n",
              "    }\n",
              "\n",
              "    .dataframe thead th {\n",
              "        text-align: right;\n",
              "    }\n",
              "</style>\n",
              "<table border=\"1\" class=\"dataframe\">\n",
              "  <thead>\n",
              "    <tr style=\"text-align: right;\">\n",
              "      <th></th>\n",
              "      <th>moda</th>\n",
              "      <th>mediana</th>\n",
              "      <th>media</th>\n",
              "      <th>desvio_padrao</th>\n",
              "    </tr>\n",
              "    <tr>\n",
              "      <th>estado_residencia</th>\n",
              "      <th></th>\n",
              "      <th></th>\n",
              "      <th></th>\n",
              "      <th></th>\n",
              "    </tr>\n",
              "  </thead>\n",
              "  <tbody>\n",
              "    <tr>\n",
              "      <th>PR</th>\n",
              "      <td>850.0</td>\n",
              "      <td>650.0</td>\n",
              "      <td>648.961294</td>\n",
              "      <td>98.607186</td>\n",
              "    </tr>\n",
              "    <tr>\n",
              "      <th>RS</th>\n",
              "      <td>850.0</td>\n",
              "      <td>650.0</td>\n",
              "      <td>651.105143</td>\n",
              "      <td>95.136598</td>\n",
              "    </tr>\n",
              "    <tr>\n",
              "      <th>SC</th>\n",
              "      <td>850.0</td>\n",
              "      <td>653.0</td>\n",
              "      <td>649.537653</td>\n",
              "      <td>97.233493</td>\n",
              "    </tr>\n",
              "  </tbody>\n",
              "</table>\n",
              "</div>"
            ],
            "text/plain": [
              "                    moda  mediana       media  desvio_padrao\n",
              "estado_residencia                                           \n",
              "PR                 850.0    650.0  648.961294      98.607186\n",
              "RS                 850.0    650.0  651.105143      95.136598\n",
              "SC                 850.0    653.0  649.537653      97.233493"
            ]
          },
          "metadata": {
            "tags": []
          },
          "execution_count": 47
        }
      ]
    },
    {
      "cell_type": "code",
      "metadata": {
        "id": "GtCeppuX1Xp3",
        "colab_type": "code",
        "colab": {}
      },
      "source": [
        "# Criando o arquivo de resposta:\n",
        "df_agrupamento.to_json('submission.json', orient='index')"
      ],
      "execution_count": 48,
      "outputs": []
    }
  ]
}