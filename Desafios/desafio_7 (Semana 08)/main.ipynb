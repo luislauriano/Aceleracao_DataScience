{
 "cells": [
  {
   "cell_type": "markdown",
   "metadata": {
    "colab_type": "text",
    "id": "g2FiN0_fW8CV"
   },
   "source": [
    "# **Importando bibliotecas**"
   ]
  },
  {
   "cell_type": "code",
   "execution_count": 1,
   "metadata": {
    "colab": {
     "base_uri": "https://localhost:8080/",
     "height": 74
    },
    "colab_type": "code",
    "executionInfo": {
     "elapsed": 1720,
     "status": "ok",
     "timestamp": 1596557912930,
     "user": {
      "displayName": "Marcela",
      "photoUrl": "",
      "userId": "05266285829176522940"
     },
     "user_tz": 180
    },
    "id": "oQnXPVN3W8j7",
    "outputId": "2694997c-4e09-4dd2-f75a-8491689735f2"
   },
   "outputs": [],
   "source": [
    "import pandas as pd\n",
    "import numpy as np\n",
    "import matplotlib.pyplot as plt\n",
    "import seaborn as sns\n",
    "#%matplotlib inline"
   ]
  },
  {
   "cell_type": "markdown",
   "metadata": {
    "colab_type": "text",
    "id": "vQwMJMQ_wZuT"
   },
   "source": [
    "# **Obtendo dados**"
   ]
  },
  {
   "cell_type": "code",
   "execution_count": 2,
   "metadata": {
    "colab": {},
    "colab_type": "code",
    "executionInfo": {
     "elapsed": 5125,
     "status": "ok",
     "timestamp": 1596558130770,
     "user": {
      "displayName": "Marcela",
      "photoUrl": "",
      "userId": "05266285829176522940"
     },
     "user_tz": 180
    },
    "id": "VvNeYcHAiU7z"
   },
   "outputs": [],
   "source": [
    "EnemTrain = pd.read_csv('train.csv')"
   ]
  },
  {
   "cell_type": "code",
   "execution_count": 3,
   "metadata": {
    "colab": {},
    "colab_type": "code",
    "executionInfo": {
     "elapsed": 2454,
     "status": "ok",
     "timestamp": 1596558137223,
     "user": {
      "displayName": "Marcela",
      "photoUrl": "",
      "userId": "05266285829176522940"
     },
     "user_tz": 180
    },
    "id": "juIDP4FWyTYN"
   },
   "outputs": [],
   "source": [
    "EnemTest = pd.read_csv('test.csv')"
   ]
  },
  {
   "cell_type": "markdown",
   "metadata": {
    "colab_type": "text",
    "id": "UASdcX3XynYC"
   },
   "source": [
    "Verificando se os dados de test.csv estão contidos no conjunto de dados do aquivo train.csv"
   ]
  },
  {
   "cell_type": "code",
   "execution_count": 4,
   "metadata": {
    "colab": {
     "base_uri": "https://localhost:8080/",
     "height": 35
    },
    "colab_type": "code",
    "executionInfo": {
     "elapsed": 1945,
     "status": "ok",
     "timestamp": 1596558145600,
     "user": {
      "displayName": "Marcela",
      "photoUrl": "",
      "userId": "05266285829176522940"
     },
     "user_tz": 180
    },
    "id": "yHWvazVyylvW",
    "outputId": "20832b42-7052-4feb-9675-0e712edd772f"
   },
   "outputs": [
    {
     "name": "stdout",
     "output_type": "stream",
     "text": [
      "True\n"
     ]
    }
   ],
   "source": [
    "print(set(EnemTest.columns).issubset(set(EnemTrain.columns)))"
   ]
  },
  {
   "cell_type": "markdown",
   "metadata": {
    "colab_type": "text",
    "id": "gcaIJ0aK6tB0"
   },
   "source": [
    "# **Vizualizando os dados**"
   ]
  },
  {
   "cell_type": "code",
   "execution_count": 5,
   "metadata": {
    "colab": {
     "base_uri": "https://localhost:8080/",
     "height": 265
    },
    "colab_type": "code",
    "executionInfo": {
     "elapsed": 1445,
     "status": "ok",
     "timestamp": 1596558153278,
     "user": {
      "displayName": "Marcela",
      "photoUrl": "",
      "userId": "05266285829176522940"
     },
     "user_tz": 180
    },
    "id": "pnnBJUEnizeX",
    "outputId": "59bebdde-fa70-4f5e-ceaf-d0cece779f8e"
   },
   "outputs": [
    {
     "data": {
      "text/html": [
       "<div>\n",
       "<style scoped>\n",
       "    .dataframe tbody tr th:only-of-type {\n",
       "        vertical-align: middle;\n",
       "    }\n",
       "\n",
       "    .dataframe tbody tr th {\n",
       "        vertical-align: top;\n",
       "    }\n",
       "\n",
       "    .dataframe thead th {\n",
       "        text-align: right;\n",
       "    }\n",
       "</style>\n",
       "<table border=\"1\" class=\"dataframe\">\n",
       "  <thead>\n",
       "    <tr style=\"text-align: right;\">\n",
       "      <th></th>\n",
       "      <th>Unnamed: 0</th>\n",
       "      <th>NU_INSCRICAO</th>\n",
       "      <th>NU_ANO</th>\n",
       "      <th>CO_MUNICIPIO_RESIDENCIA</th>\n",
       "      <th>NO_MUNICIPIO_RESIDENCIA</th>\n",
       "      <th>CO_UF_RESIDENCIA</th>\n",
       "      <th>SG_UF_RESIDENCIA</th>\n",
       "      <th>NU_IDADE</th>\n",
       "      <th>TP_SEXO</th>\n",
       "      <th>TP_ESTADO_CIVIL</th>\n",
       "      <th>...</th>\n",
       "      <th>Q041</th>\n",
       "      <th>Q042</th>\n",
       "      <th>Q043</th>\n",
       "      <th>Q044</th>\n",
       "      <th>Q045</th>\n",
       "      <th>Q046</th>\n",
       "      <th>Q047</th>\n",
       "      <th>Q048</th>\n",
       "      <th>Q049</th>\n",
       "      <th>Q050</th>\n",
       "    </tr>\n",
       "  </thead>\n",
       "  <tbody>\n",
       "    <tr>\n",
       "      <th>0</th>\n",
       "      <td>1</td>\n",
       "      <td>ed50e8aaa58e7a806c337585efee9ca41f1eb1ad</td>\n",
       "      <td>2016</td>\n",
       "      <td>4314902</td>\n",
       "      <td>Porto Alegre</td>\n",
       "      <td>43</td>\n",
       "      <td>RS</td>\n",
       "      <td>24</td>\n",
       "      <td>M</td>\n",
       "      <td>0.0</td>\n",
       "      <td>...</td>\n",
       "      <td>5.0</td>\n",
       "      <td>A</td>\n",
       "      <td>A</td>\n",
       "      <td>A</td>\n",
       "      <td>A</td>\n",
       "      <td>A</td>\n",
       "      <td>A</td>\n",
       "      <td>A</td>\n",
       "      <td>B</td>\n",
       "      <td>D</td>\n",
       "    </tr>\n",
       "    <tr>\n",
       "      <th>1</th>\n",
       "      <td>2</td>\n",
       "      <td>2c3acac4b33ec2b195d77e7c04a2d75727fad723</td>\n",
       "      <td>2016</td>\n",
       "      <td>2304707</td>\n",
       "      <td>Granja</td>\n",
       "      <td>23</td>\n",
       "      <td>CE</td>\n",
       "      <td>17</td>\n",
       "      <td>F</td>\n",
       "      <td>0.0</td>\n",
       "      <td>...</td>\n",
       "      <td>NaN</td>\n",
       "      <td>A</td>\n",
       "      <td>A</td>\n",
       "      <td>C</td>\n",
       "      <td>A</td>\n",
       "      <td>B</td>\n",
       "      <td>A</td>\n",
       "      <td>A</td>\n",
       "      <td>C</td>\n",
       "      <td>A</td>\n",
       "    </tr>\n",
       "    <tr>\n",
       "      <th>2</th>\n",
       "      <td>3</td>\n",
       "      <td>f4545f8ccb9ff5c8aad7d32951b3f251a26e6568</td>\n",
       "      <td>2016</td>\n",
       "      <td>2304400</td>\n",
       "      <td>Fortaleza</td>\n",
       "      <td>23</td>\n",
       "      <td>CE</td>\n",
       "      <td>21</td>\n",
       "      <td>F</td>\n",
       "      <td>0.0</td>\n",
       "      <td>...</td>\n",
       "      <td>NaN</td>\n",
       "      <td>A</td>\n",
       "      <td>A</td>\n",
       "      <td>A</td>\n",
       "      <td>A</td>\n",
       "      <td>C</td>\n",
       "      <td>A</td>\n",
       "      <td>A</td>\n",
       "      <td>B</td>\n",
       "      <td>A</td>\n",
       "    </tr>\n",
       "    <tr>\n",
       "      <th>3</th>\n",
       "      <td>4</td>\n",
       "      <td>3d6ec248fef899c414e77f82d5c6d2bffbeaf7fe</td>\n",
       "      <td>2016</td>\n",
       "      <td>3304557</td>\n",
       "      <td>Rio de Janeiro</td>\n",
       "      <td>33</td>\n",
       "      <td>RJ</td>\n",
       "      <td>25</td>\n",
       "      <td>F</td>\n",
       "      <td>0.0</td>\n",
       "      <td>...</td>\n",
       "      <td>5.0</td>\n",
       "      <td>C</td>\n",
       "      <td>A</td>\n",
       "      <td>A</td>\n",
       "      <td>A</td>\n",
       "      <td>A</td>\n",
       "      <td>D</td>\n",
       "      <td>A</td>\n",
       "      <td>A</td>\n",
       "      <td>A</td>\n",
       "    </tr>\n",
       "    <tr>\n",
       "      <th>4</th>\n",
       "      <td>5</td>\n",
       "      <td>bf896ac8d3ecadd6dba1dfbf50110afcbf5d3268</td>\n",
       "      <td>2016</td>\n",
       "      <td>1302603</td>\n",
       "      <td>Manaus</td>\n",
       "      <td>13</td>\n",
       "      <td>AM</td>\n",
       "      <td>28</td>\n",
       "      <td>M</td>\n",
       "      <td>0.0</td>\n",
       "      <td>...</td>\n",
       "      <td>NaN</td>\n",
       "      <td>A</td>\n",
       "      <td>A</td>\n",
       "      <td>A</td>\n",
       "      <td>A</td>\n",
       "      <td>A</td>\n",
       "      <td>A</td>\n",
       "      <td>A</td>\n",
       "      <td>A</td>\n",
       "      <td>A</td>\n",
       "    </tr>\n",
       "  </tbody>\n",
       "</table>\n",
       "<p>5 rows × 167 columns</p>\n",
       "</div>"
      ],
      "text/plain": [
       "   Unnamed: 0                              NU_INSCRICAO  NU_ANO  \\\n",
       "0           1  ed50e8aaa58e7a806c337585efee9ca41f1eb1ad    2016   \n",
       "1           2  2c3acac4b33ec2b195d77e7c04a2d75727fad723    2016   \n",
       "2           3  f4545f8ccb9ff5c8aad7d32951b3f251a26e6568    2016   \n",
       "3           4  3d6ec248fef899c414e77f82d5c6d2bffbeaf7fe    2016   \n",
       "4           5  bf896ac8d3ecadd6dba1dfbf50110afcbf5d3268    2016   \n",
       "\n",
       "   CO_MUNICIPIO_RESIDENCIA NO_MUNICIPIO_RESIDENCIA  CO_UF_RESIDENCIA  \\\n",
       "0                  4314902            Porto Alegre                43   \n",
       "1                  2304707                  Granja                23   \n",
       "2                  2304400               Fortaleza                23   \n",
       "3                  3304557          Rio de Janeiro                33   \n",
       "4                  1302603                  Manaus                13   \n",
       "\n",
       "  SG_UF_RESIDENCIA  NU_IDADE TP_SEXO  TP_ESTADO_CIVIL  ...  Q041  Q042  Q043  \\\n",
       "0               RS        24       M              0.0  ...   5.0     A     A   \n",
       "1               CE        17       F              0.0  ...   NaN     A     A   \n",
       "2               CE        21       F              0.0  ...   NaN     A     A   \n",
       "3               RJ        25       F              0.0  ...   5.0     C     A   \n",
       "4               AM        28       M              0.0  ...   NaN     A     A   \n",
       "\n",
       "  Q044  Q045 Q046  Q047  Q048  Q049  Q050  \n",
       "0    A     A    A     A     A     B     D  \n",
       "1    C     A    B     A     A     C     A  \n",
       "2    A     A    C     A     A     B     A  \n",
       "3    A     A    A     D     A     A     A  \n",
       "4    A     A    A     A     A     A     A  \n",
       "\n",
       "[5 rows x 167 columns]"
      ]
     },
     "execution_count": 5,
     "metadata": {},
     "output_type": "execute_result"
    }
   ],
   "source": [
    "EnemTrain.head()"
   ]
  },
  {
   "cell_type": "code",
   "execution_count": 6,
   "metadata": {
    "colab": {
     "base_uri": "https://localhost:8080/",
     "height": 218
    },
    "colab_type": "code",
    "executionInfo": {
     "elapsed": 1419,
     "status": "ok",
     "timestamp": 1596558194116,
     "user": {
      "displayName": "Marcela",
      "photoUrl": "",
      "userId": "05266285829176522940"
     },
     "user_tz": 180
    },
    "id": "N-cf6nYU1FFd",
    "outputId": "7a76fe6b-99e3-4bd3-d857-5020c343878e"
   },
   "outputs": [
    {
     "data": {
      "text/html": [
       "<div>\n",
       "<style scoped>\n",
       "    .dataframe tbody tr th:only-of-type {\n",
       "        vertical-align: middle;\n",
       "    }\n",
       "\n",
       "    .dataframe tbody tr th {\n",
       "        vertical-align: top;\n",
       "    }\n",
       "\n",
       "    .dataframe thead th {\n",
       "        text-align: right;\n",
       "    }\n",
       "</style>\n",
       "<table border=\"1\" class=\"dataframe\">\n",
       "  <thead>\n",
       "    <tr style=\"text-align: right;\">\n",
       "      <th></th>\n",
       "      <th>NU_INSCRICAO</th>\n",
       "      <th>CO_UF_RESIDENCIA</th>\n",
       "      <th>SG_UF_RESIDENCIA</th>\n",
       "      <th>NU_IDADE</th>\n",
       "      <th>TP_SEXO</th>\n",
       "      <th>TP_COR_RACA</th>\n",
       "      <th>TP_NACIONALIDADE</th>\n",
       "      <th>TP_ST_CONCLUSAO</th>\n",
       "      <th>TP_ANO_CONCLUIU</th>\n",
       "      <th>TP_ESCOLA</th>\n",
       "      <th>...</th>\n",
       "      <th>NU_NOTA_COMP5</th>\n",
       "      <th>NU_NOTA_REDACAO</th>\n",
       "      <th>Q001</th>\n",
       "      <th>Q002</th>\n",
       "      <th>Q006</th>\n",
       "      <th>Q024</th>\n",
       "      <th>Q025</th>\n",
       "      <th>Q026</th>\n",
       "      <th>Q027</th>\n",
       "      <th>Q047</th>\n",
       "    </tr>\n",
       "  </thead>\n",
       "  <tbody>\n",
       "    <tr>\n",
       "      <th>0</th>\n",
       "      <td>73ff9fcc02f0a99919906c942c2e1a1042cdcf98</td>\n",
       "      <td>41</td>\n",
       "      <td>PR</td>\n",
       "      <td>22</td>\n",
       "      <td>F</td>\n",
       "      <td>3</td>\n",
       "      <td>1</td>\n",
       "      <td>1</td>\n",
       "      <td>5</td>\n",
       "      <td>1</td>\n",
       "      <td>...</td>\n",
       "      <td>40.0</td>\n",
       "      <td>420.0</td>\n",
       "      <td>B</td>\n",
       "      <td>A</td>\n",
       "      <td>C</td>\n",
       "      <td>A</td>\n",
       "      <td>A</td>\n",
       "      <td>C</td>\n",
       "      <td>C</td>\n",
       "      <td>A</td>\n",
       "    </tr>\n",
       "    <tr>\n",
       "      <th>1</th>\n",
       "      <td>71a95f9f1b91a82c65ad94abbdf9f54e6066f968</td>\n",
       "      <td>21</td>\n",
       "      <td>MA</td>\n",
       "      <td>26</td>\n",
       "      <td>F</td>\n",
       "      <td>3</td>\n",
       "      <td>1</td>\n",
       "      <td>1</td>\n",
       "      <td>8</td>\n",
       "      <td>1</td>\n",
       "      <td>...</td>\n",
       "      <td>100.0</td>\n",
       "      <td>580.0</td>\n",
       "      <td>E</td>\n",
       "      <td>B</td>\n",
       "      <td>C</td>\n",
       "      <td>B</td>\n",
       "      <td>B</td>\n",
       "      <td>B</td>\n",
       "      <td>F</td>\n",
       "      <td>A</td>\n",
       "    </tr>\n",
       "    <tr>\n",
       "      <th>2</th>\n",
       "      <td>b38a03232f43b11c9d0788abaf060f7366053b6d</td>\n",
       "      <td>23</td>\n",
       "      <td>CE</td>\n",
       "      <td>21</td>\n",
       "      <td>M</td>\n",
       "      <td>1</td>\n",
       "      <td>1</td>\n",
       "      <td>2</td>\n",
       "      <td>0</td>\n",
       "      <td>2</td>\n",
       "      <td>...</td>\n",
       "      <td>80.0</td>\n",
       "      <td>320.0</td>\n",
       "      <td>E</td>\n",
       "      <td>E</td>\n",
       "      <td>D</td>\n",
       "      <td>B</td>\n",
       "      <td>B</td>\n",
       "      <td>A</td>\n",
       "      <td>NaN</td>\n",
       "      <td>A</td>\n",
       "    </tr>\n",
       "    <tr>\n",
       "      <th>3</th>\n",
       "      <td>70b682d9a3636be23f6120fa9d6b164eb3c6002d</td>\n",
       "      <td>15</td>\n",
       "      <td>PA</td>\n",
       "      <td>27</td>\n",
       "      <td>F</td>\n",
       "      <td>3</td>\n",
       "      <td>1</td>\n",
       "      <td>1</td>\n",
       "      <td>8</td>\n",
       "      <td>1</td>\n",
       "      <td>...</td>\n",
       "      <td>NaN</td>\n",
       "      <td>NaN</td>\n",
       "      <td>H</td>\n",
       "      <td>E</td>\n",
       "      <td>G</td>\n",
       "      <td>B</td>\n",
       "      <td>B</td>\n",
       "      <td>A</td>\n",
       "      <td>NaN</td>\n",
       "      <td>A</td>\n",
       "    </tr>\n",
       "    <tr>\n",
       "      <th>4</th>\n",
       "      <td>715494628a50142ce8cb17191cfe6d0f3cae0934</td>\n",
       "      <td>41</td>\n",
       "      <td>PR</td>\n",
       "      <td>18</td>\n",
       "      <td>M</td>\n",
       "      <td>1</td>\n",
       "      <td>1</td>\n",
       "      <td>2</td>\n",
       "      <td>0</td>\n",
       "      <td>2</td>\n",
       "      <td>...</td>\n",
       "      <td>0.0</td>\n",
       "      <td>320.0</td>\n",
       "      <td>D</td>\n",
       "      <td>H</td>\n",
       "      <td>H</td>\n",
       "      <td>C</td>\n",
       "      <td>B</td>\n",
       "      <td>A</td>\n",
       "      <td>NaN</td>\n",
       "      <td>A</td>\n",
       "    </tr>\n",
       "  </tbody>\n",
       "</table>\n",
       "<p>5 rows × 47 columns</p>\n",
       "</div>"
      ],
      "text/plain": [
       "                               NU_INSCRICAO  CO_UF_RESIDENCIA  \\\n",
       "0  73ff9fcc02f0a99919906c942c2e1a1042cdcf98                41   \n",
       "1  71a95f9f1b91a82c65ad94abbdf9f54e6066f968                21   \n",
       "2  b38a03232f43b11c9d0788abaf060f7366053b6d                23   \n",
       "3  70b682d9a3636be23f6120fa9d6b164eb3c6002d                15   \n",
       "4  715494628a50142ce8cb17191cfe6d0f3cae0934                41   \n",
       "\n",
       "  SG_UF_RESIDENCIA  NU_IDADE TP_SEXO  TP_COR_RACA  TP_NACIONALIDADE  \\\n",
       "0               PR        22       F            3                 1   \n",
       "1               MA        26       F            3                 1   \n",
       "2               CE        21       M            1                 1   \n",
       "3               PA        27       F            3                 1   \n",
       "4               PR        18       M            1                 1   \n",
       "\n",
       "   TP_ST_CONCLUSAO  TP_ANO_CONCLUIU  TP_ESCOLA  ...  NU_NOTA_COMP5  \\\n",
       "0                1                5          1  ...           40.0   \n",
       "1                1                8          1  ...          100.0   \n",
       "2                2                0          2  ...           80.0   \n",
       "3                1                8          1  ...            NaN   \n",
       "4                2                0          2  ...            0.0   \n",
       "\n",
       "   NU_NOTA_REDACAO  Q001  Q002  Q006  Q024  Q025  Q026  Q027  Q047  \n",
       "0            420.0     B     A     C     A     A     C     C     A  \n",
       "1            580.0     E     B     C     B     B     B     F     A  \n",
       "2            320.0     E     E     D     B     B     A   NaN     A  \n",
       "3              NaN     H     E     G     B     B     A   NaN     A  \n",
       "4            320.0     D     H     H     C     B     A   NaN     A  \n",
       "\n",
       "[5 rows x 47 columns]"
      ]
     },
     "execution_count": 6,
     "metadata": {},
     "output_type": "execute_result"
    }
   ],
   "source": [
    "EnemTest.head()"
   ]
  },
  {
   "cell_type": "markdown",
   "metadata": {
    "colab_type": "text",
    "id": "IZ_NbiyxmIFt"
   },
   "source": [
    "\n",
    "***Visualizando todas as colunas***"
   ]
  },
  {
   "cell_type": "code",
   "execution_count": 7,
   "metadata": {
    "colab": {
     "base_uri": "https://localhost:8080/",
     "height": 708
    },
    "colab_type": "code",
    "executionInfo": {
     "elapsed": 1222,
     "status": "ok",
     "timestamp": 1596558203848,
     "user": {
      "displayName": "Marcela",
      "photoUrl": "",
      "userId": "05266285829176522940"
     },
     "user_tz": 180
    },
    "id": "BNFOT_d3jM-X",
    "outputId": "e07193e1-b0bd-4580-e77d-6b417f026ce6"
   },
   "outputs": [
    {
     "name": "stdout",
     "output_type": "stream",
     "text": [
      "['Unnamed: 0' 'NU_INSCRICAO' 'NU_ANO' 'CO_MUNICIPIO_RESIDENCIA'\n",
      " 'NO_MUNICIPIO_RESIDENCIA' 'CO_UF_RESIDENCIA' 'SG_UF_RESIDENCIA'\n",
      " 'NU_IDADE' 'TP_SEXO' 'TP_ESTADO_CIVIL' 'TP_COR_RACA' 'TP_NACIONALIDADE'\n",
      " 'CO_MUNICIPIO_NASCIMENTO' 'NO_MUNICIPIO_NASCIMENTO' 'CO_UF_NASCIMENTO'\n",
      " 'SG_UF_NASCIMENTO' 'TP_ST_CONCLUSAO' 'TP_ANO_CONCLUIU' 'TP_ESCOLA'\n",
      " 'TP_ENSINO' 'IN_TREINEIRO' 'CO_ESCOLA' 'CO_MUNICIPIO_ESC'\n",
      " 'NO_MUNICIPIO_ESC' 'CO_UF_ESC' 'SG_UF_ESC' 'TP_DEPENDENCIA_ADM_ESC'\n",
      " 'TP_LOCALIZACAO_ESC' 'TP_SIT_FUNC_ESC' 'IN_BAIXA_VISAO' 'IN_CEGUEIRA'\n",
      " 'IN_SURDEZ' 'IN_DEFICIENCIA_AUDITIVA' 'IN_SURDO_CEGUEIRA'\n",
      " 'IN_DEFICIENCIA_FISICA' 'IN_DEFICIENCIA_MENTAL' 'IN_DEFICIT_ATENCAO'\n",
      " 'IN_DISLEXIA' 'IN_DISCALCULIA' 'IN_AUTISMO' 'IN_VISAO_MONOCULAR'\n",
      " 'IN_OUTRA_DEF' 'IN_SABATISTA' 'IN_GESTANTE' 'IN_LACTANTE' 'IN_IDOSO'\n",
      " 'IN_ESTUDA_CLASSE_HOSPITALAR' 'IN_SEM_RECURSO' 'IN_BRAILLE'\n",
      " 'IN_AMPLIADA_24' 'IN_AMPLIADA_18' 'IN_LEDOR' 'IN_ACESSO' 'IN_TRANSCRICAO'\n",
      " 'IN_LIBRAS' 'IN_LEITURA_LABIAL' 'IN_MESA_CADEIRA_RODAS'\n",
      " 'IN_MESA_CADEIRA_SEPARADA' 'IN_APOIO_PERNA' 'IN_GUIA_INTERPRETE'\n",
      " 'IN_MACA' 'IN_COMPUTADOR' 'IN_CADEIRA_ESPECIAL' 'IN_CADEIRA_CANHOTO'\n",
      " 'IN_CADEIRA_ACOLCHOADA' 'IN_PROVA_DEITADO' 'IN_MOBILIARIO_OBESO'\n",
      " 'IN_LAMINA_OVERLAY' 'IN_PROTETOR_AURICULAR' 'IN_MEDIDOR_GLICOSE'\n",
      " 'IN_MAQUINA_BRAILE' 'IN_SOROBAN' 'IN_MARCA_PASSO' 'IN_SONDA'\n",
      " 'IN_MEDICAMENTOS' 'IN_SALA_INDIVIDUAL' 'IN_SALA_ESPECIAL'\n",
      " 'IN_SALA_ACOMPANHANTE' 'IN_MOBILIARIO_ESPECIFICO'\n",
      " 'IN_MATERIAL_ESPECIFICO' 'IN_NOME_SOCIAL' 'IN_CERTIFICADO'\n",
      " 'NO_ENTIDADE_CERTIFICACAO' 'CO_UF_ENTIDADE_CERTIFICACAO'\n",
      " 'SG_UF_ENTIDADE_CERTIFICACAO' 'CO_MUNICIPIO_PROVA' 'NO_MUNICIPIO_PROVA'\n",
      " 'CO_UF_PROVA' 'SG_UF_PROVA' 'TP_PRESENCA_CN' 'TP_PRESENCA_CH'\n",
      " 'TP_PRESENCA_LC' 'TP_PRESENCA_MT' 'CO_PROVA_CN' 'CO_PROVA_CH'\n",
      " 'CO_PROVA_LC' 'CO_PROVA_MT' 'NU_NOTA_CN' 'NU_NOTA_CH' 'NU_NOTA_LC'\n",
      " 'NU_NOTA_MT' 'TX_RESPOSTAS_CN' 'TX_RESPOSTAS_CH' 'TX_RESPOSTAS_LC'\n",
      " 'TX_RESPOSTAS_MT' 'TP_LINGUA' 'TX_GABARITO_CN' 'TX_GABARITO_CH'\n",
      " 'TX_GABARITO_LC' 'TX_GABARITO_MT' 'TP_STATUS_REDACAO' 'NU_NOTA_COMP1'\n",
      " 'NU_NOTA_COMP2' 'NU_NOTA_COMP3' 'NU_NOTA_COMP4' 'NU_NOTA_COMP5'\n",
      " 'NU_NOTA_REDACAO' 'Q001' 'Q002' 'Q003' 'Q004' 'Q005' 'Q006' 'Q007' 'Q008'\n",
      " 'Q009' 'Q010' 'Q011' 'Q012' 'Q013' 'Q014' 'Q015' 'Q016' 'Q017' 'Q018'\n",
      " 'Q019' 'Q020' 'Q021' 'Q022' 'Q023' 'Q024' 'Q025' 'Q026' 'Q027' 'Q028'\n",
      " 'Q029' 'Q030' 'Q031' 'Q032' 'Q033' 'Q034' 'Q035' 'Q036' 'Q037' 'Q038'\n",
      " 'Q039' 'Q040' 'Q041' 'Q042' 'Q043' 'Q044' 'Q045' 'Q046' 'Q047' 'Q048'\n",
      " 'Q049' 'Q050']\n"
     ]
    }
   ],
   "source": [
    "print(EnemTrain.columns.values)"
   ]
  },
  {
   "cell_type": "code",
   "execution_count": 8,
   "metadata": {
    "colab": {
     "base_uri": "https://localhost:8080/",
     "height": 199
    },
    "colab_type": "code",
    "executionInfo": {
     "elapsed": 1798,
     "status": "ok",
     "timestamp": 1596558221823,
     "user": {
      "displayName": "Marcela",
      "photoUrl": "",
      "userId": "05266285829176522940"
     },
     "user_tz": 180
    },
    "id": "SGS0Lynj1LzW",
    "outputId": "779e9e54-f6c7-4a45-d60d-bec2b5f195be"
   },
   "outputs": [
    {
     "name": "stdout",
     "output_type": "stream",
     "text": [
      "['NU_INSCRICAO' 'CO_UF_RESIDENCIA' 'SG_UF_RESIDENCIA' 'NU_IDADE' 'TP_SEXO'\n",
      " 'TP_COR_RACA' 'TP_NACIONALIDADE' 'TP_ST_CONCLUSAO' 'TP_ANO_CONCLUIU'\n",
      " 'TP_ESCOLA' 'TP_ENSINO' 'IN_TREINEIRO' 'TP_DEPENDENCIA_ADM_ESC'\n",
      " 'IN_BAIXA_VISAO' 'IN_CEGUEIRA' 'IN_SURDEZ' 'IN_DISLEXIA' 'IN_DISCALCULIA'\n",
      " 'IN_SABATISTA' 'IN_GESTANTE' 'IN_IDOSO' 'TP_PRESENCA_CN' 'TP_PRESENCA_CH'\n",
      " 'TP_PRESENCA_LC' 'CO_PROVA_CN' 'CO_PROVA_CH' 'CO_PROVA_LC' 'CO_PROVA_MT'\n",
      " 'NU_NOTA_CN' 'NU_NOTA_CH' 'NU_NOTA_LC' 'TP_LINGUA' 'TP_STATUS_REDACAO'\n",
      " 'NU_NOTA_COMP1' 'NU_NOTA_COMP2' 'NU_NOTA_COMP3' 'NU_NOTA_COMP4'\n",
      " 'NU_NOTA_COMP5' 'NU_NOTA_REDACAO' 'Q001' 'Q002' 'Q006' 'Q024' 'Q025'\n",
      " 'Q026' 'Q027' 'Q047']\n"
     ]
    }
   ],
   "source": [
    "print(EnemTest.columns.values)"
   ]
  },
  {
   "cell_type": "markdown",
   "metadata": {
    "colab_type": "text",
    "id": "275xFF9tKfrD"
   },
   "source": [
    "# **Análise dos dados**\n",
    "\n",
    " "
   ]
  },
  {
   "cell_type": "markdown",
   "metadata": {
    "colab_type": "text",
    "id": "tf5OsHjibNX7"
   },
   "source": [
    "Determinando as Variáveis"
   ]
  },
  {
   "cell_type": "code",
   "execution_count": 9,
   "metadata": {
    "colab": {},
    "colab_type": "code",
    "executionInfo": {
     "elapsed": 1518,
     "status": "ok",
     "timestamp": 1596558911450,
     "user": {
      "displayName": "Marcela",
      "photoUrl": "",
      "userId": "05266285829176522940"
     },
     "user_tz": 180
    },
    "id": "jBWk1IlOpwcd"
   },
   "outputs": [],
   "source": [
    "variables = ['NU_NOTA_CN','NU_NOTA_CH','NU_NOTA_LC','NU_NOTA_REDACAO']"
   ]
  },
  {
   "cell_type": "code",
   "execution_count": 10,
   "metadata": {
    "colab": {},
    "colab_type": "code",
    "executionInfo": {
     "elapsed": 1522,
     "status": "ok",
     "timestamp": 1596558915218,
     "user": {
      "displayName": "Marcela",
      "photoUrl": "",
      "userId": "05266285829176522940"
     },
     "user_tz": 180
    },
    "id": "06hFEEdDcUbv"
   },
   "outputs": [],
   "source": [
    "variables_corr = ['NU_NOTA_MT','NU_NOTA_CN','NU_NOTA_CH','NU_NOTA_LC','NU_NOTA_REDACAO']"
   ]
  },
  {
   "cell_type": "markdown",
   "metadata": {
    "colab_type": "text",
    "id": "hiFZFwYLGuFk"
   },
   "source": [
    "Verificando os valores nulos"
   ]
  },
  {
   "cell_type": "code",
   "execution_count": 11,
   "metadata": {
    "colab": {
     "base_uri": "https://localhost:8080/",
     "height": 108
    },
    "colab_type": "code",
    "executionInfo": {
     "elapsed": 1366,
     "status": "ok",
     "timestamp": 1596558930702,
     "user": {
      "displayName": "Marcela",
      "photoUrl": "",
      "userId": "05266285829176522940"
     },
     "user_tz": 180
    },
    "id": "B-L2UoZ_dAVK",
    "outputId": "91698472-252e-42f0-8207-f71da8d5be98"
   },
   "outputs": [
    {
     "data": {
      "text/plain": [
       "NU_NOTA_CN         3389\n",
       "NU_NOTA_CH         3389\n",
       "NU_NOTA_LC         3597\n",
       "NU_NOTA_REDACAO    3597\n",
       "dtype: int64"
      ]
     },
     "execution_count": 11,
     "metadata": {},
     "output_type": "execute_result"
    }
   ],
   "source": [
    "EnemTrain[variables].isnull().sum()"
   ]
  },
  {
   "cell_type": "code",
   "execution_count": 12,
   "metadata": {
    "colab": {
     "base_uri": "https://localhost:8080/",
     "height": 108
    },
    "colab_type": "code",
    "executionInfo": {
     "elapsed": 1309,
     "status": "ok",
     "timestamp": 1596558935492,
     "user": {
      "displayName": "Marcela",
      "photoUrl": "",
      "userId": "05266285829176522940"
     },
     "user_tz": 180
    },
    "id": "j7HDMGxbhD1q",
    "outputId": "0ad11989-d6b5-4e9c-f2d4-3b553768f3f0"
   },
   "outputs": [
    {
     "data": {
      "text/plain": [
       "NU_NOTA_CN         1134\n",
       "NU_NOTA_CH         1134\n",
       "NU_NOTA_LC         1199\n",
       "NU_NOTA_REDACAO    1199\n",
       "dtype: int64"
      ]
     },
     "execution_count": 12,
     "metadata": {},
     "output_type": "execute_result"
    }
   ],
   "source": [
    "EnemTest[variables].isnull().sum()"
   ]
  },
  {
   "cell_type": "markdown",
   "metadata": {
    "colab_type": "text",
    "id": "N_qqio9nd65S"
   },
   "source": [
    "Observando a correlação da base de treino"
   ]
  },
  {
   "cell_type": "code",
   "execution_count": 13,
   "metadata": {
    "colab": {
     "base_uri": "https://localhost:8080/",
     "height": 541
    },
    "colab_type": "code",
    "executionInfo": {
     "elapsed": 1832,
     "status": "ok",
     "timestamp": 1596558947781,
     "user": {
      "displayName": "Marcela",
      "photoUrl": "",
      "userId": "05266285829176522940"
     },
     "user_tz": 180
    },
    "id": "Z2wTcDheeHwJ",
    "outputId": "839e8366-725c-472b-d724-6e5c135d967e"
   },
   "outputs": [
    {
     "data": {
      "text/plain": [
       "<matplotlib.axes._subplots.AxesSubplot at 0xbdc7ec8>"
      ]
     },
     "execution_count": 13,
     "metadata": {},
     "output_type": "execute_result"
    },
    {
     "data": {
      "image/png": "[encoded data removed]",
      "text/plain": [
       "<Figure size 792x576 with 2 Axes>"
      ]
     },
     "metadata": {
      "needs_background": "light"
     },
     "output_type": "display_data"
    }
   ],
   "source": [
    "corr = EnemTrain[variables_corr].corr()\n",
    "ax = plt.subplots(figsize=(11, 8))\n",
    "sns.heatmap(corr,  annot=True, annot_kws={\"size\": 10})"
   ]
  },
  {
   "cell_type": "markdown",
   "metadata": {
    "colab_type": "text",
    "id": "Wy2RM8-6ew7-"
   },
   "source": [
    "Observando a distribuição dos dados da base de treino e da base de teste"
   ]
  },
  {
   "cell_type": "code",
   "execution_count": 14,
   "metadata": {
    "colab": {
     "base_uri": "https://localhost:8080/",
     "height": 280
    },
    "colab_type": "code",
    "executionInfo": {
     "elapsed": 1780,
     "status": "ok",
     "timestamp": 1596558960857,
     "user": {
      "displayName": "Marcela",
      "photoUrl": "",
      "userId": "05266285829176522940"
     },
     "user_tz": 180
    },
    "id": "aDDRD57oe5o3",
    "outputId": "a30a1594-7fe2-4646-dbb6-a483021ae36f"
   },
   "outputs": [
    {
     "data": {
      "image/png": "[encoded data removed]",
      "text/plain": [
       "<Figure size 432x288 with 1 Axes>"
      ]
     },
     "metadata": {
      "needs_background": "light"
     },
     "output_type": "display_data"
    }
   ],
   "source": [
    "x0 = EnemTrain['NU_NOTA_CN'].fillna(0)\n",
    "x1 = EnemTest['NU_NOTA_CN'].fillna(0)\n",
    "sns.distplot(x0)\n",
    "sns.distplot(x1)\n",
    "plt.legend(labels=['TRAIN','TEST'], ncol=2, loc='upper left');"
   ]
  },
  {
   "cell_type": "code",
   "execution_count": 15,
   "metadata": {
    "colab": {
     "base_uri": "https://localhost:8080/",
     "height": 280
    },
    "colab_type": "code",
    "executionInfo": {
     "elapsed": 1323,
     "status": "ok",
     "timestamp": 1596558966258,
     "user": {
      "displayName": "Marcela",
      "photoUrl": "",
      "userId": "05266285829176522940"
     },
     "user_tz": 180
    },
    "id": "sMz0th3_ff1m",
    "outputId": "aeb6d67c-dc01-4e9f-c340-0a1b90987f14"
   },
   "outputs": [
    {
     "data": {
      "image/png": "[encoded data removed]",
      "text/plain": [
       "<Figure size 432x288 with 1 Axes>"
      ]
     },
     "metadata": {
      "needs_background": "light"
     },
     "output_type": "display_data"
    }
   ],
   "source": [
    "x2 = EnemTrain['NU_NOTA_CH'].fillna(0)\n",
    "x3 = EnemTest['NU_NOTA_CH'].fillna(0)\n",
    "sns.distplot(x2)\n",
    "sns.distplot(x3)\n",
    "plt.legend(labels=['TRAIN','TEST'], ncol=2, loc='upper left');"
   ]
  },
  {
   "cell_type": "code",
   "execution_count": 16,
   "metadata": {
    "colab": {
     "base_uri": "https://localhost:8080/",
     "height": 280
    },
    "colab_type": "code",
    "executionInfo": {
     "elapsed": 1446,
     "status": "ok",
     "timestamp": 1596558972193,
     "user": {
      "displayName": "Marcela",
      "photoUrl": "",
      "userId": "05266285829176522940"
     },
     "user_tz": 180
    },
    "id": "eWy2Ii0dgO5t",
    "outputId": "c3a3f78e-04b5-417a-f2ab-881cf6469ba4"
   },
   "outputs": [
    {
     "data": {
      "image/png": "[encoded data removed]",
      "text/plain": [
       "<Figure size 432x288 with 1 Axes>"
      ]
     },
     "metadata": {
      "needs_background": "light"
     },
     "output_type": "display_data"
    }
   ],
   "source": [
    "x4 = EnemTrain['NU_NOTA_LC'].fillna(0)\n",
    "x5 = EnemTest['NU_NOTA_LC'].fillna(0)\n",
    "sns.distplot(x4)\n",
    "sns.distplot(x5)\n",
    "plt.legend(labels=['TRAIN','TEST'], ncol=2, loc='upper left');"
   ]
  },
  {
   "cell_type": "code",
   "execution_count": 17,
   "metadata": {
    "colab": {
     "base_uri": "https://localhost:8080/",
     "height": 280
    },
    "colab_type": "code",
    "executionInfo": {
     "elapsed": 1754,
     "status": "ok",
     "timestamp": 1596558980276,
     "user": {
      "displayName": "Marcela",
      "photoUrl": "",
      "userId": "05266285829176522940"
     },
     "user_tz": 180
    },
    "id": "5T8A6lupgWWF",
    "outputId": "dd945854-f1a0-4b77-ce04-1de757fd55aa"
   },
   "outputs": [
    {
     "data": {
      "image/png": "[encoded data removed]",
      "text/plain": [
       "<Figure size 432x288 with 1 Axes>"
      ]
     },
     "metadata": {
      "needs_background": "light"
     },
     "output_type": "display_data"
    }
   ],
   "source": [
    "x6 = EnemTrain['NU_NOTA_REDACAO'].fillna(0)\n",
    "x7 = EnemTest['NU_NOTA_REDACAO'].fillna(0)\n",
    "sns.distplot(x6)\n",
    "sns.distplot(x7)\n",
    "plt.legend(labels=['TRAIN','TEST'], ncol=2, loc='upper left');"
   ]
  },
  {
   "cell_type": "markdown",
   "metadata": {
    "colab_type": "text",
    "id": "QMofkjlqg-dw"
   },
   "source": [
    " - *Para este teste 06 os valores nulos serão substituidos por zero*"
   ]
  },
  {
   "cell_type": "markdown",
   "metadata": {
    "colab_type": "text",
    "id": "l6HBCUn3jtN4"
   },
   "source": [
    "Subsituido os valores nulos por 0"
   ]
  },
  {
   "cell_type": "code",
   "execution_count": 18,
   "metadata": {
    "colab": {},
    "colab_type": "code",
    "executionInfo": {
     "elapsed": 1494,
     "status": "ok",
     "timestamp": 1596559003506,
     "user": {
      "displayName": "Marcela",
      "photoUrl": "",
      "userId": "05266285829176522940"
     },
     "user_tz": 180
    },
    "id": "uPeqtS8JGtXq"
   },
   "outputs": [],
   "source": [
    "EnemTrain.fillna(0, inplace=True)"
   ]
  },
  {
   "cell_type": "code",
   "execution_count": 19,
   "metadata": {
    "colab": {},
    "colab_type": "code",
    "executionInfo": {
     "elapsed": 1397,
     "status": "ok",
     "timestamp": 1596559007490,
     "user": {
      "displayName": "Marcela",
      "photoUrl": "",
      "userId": "05266285829176522940"
     },
     "user_tz": 180
    },
    "id": "-PzGMcMDj0FK"
   },
   "outputs": [],
   "source": [
    "EnemTest.fillna(0,inplace=True)"
   ]
  },
  {
   "cell_type": "code",
   "execution_count": 20,
   "metadata": {
    "colab": {
     "base_uri": "https://localhost:8080/",
     "height": 108
    },
    "colab_type": "code",
    "executionInfo": {
     "elapsed": 1623,
     "status": "ok",
     "timestamp": 1596559012164,
     "user": {
      "displayName": "Marcela",
      "photoUrl": "",
      "userId": "05266285829176522940"
     },
     "user_tz": 180
    },
    "id": "C3vQVfPej6-R",
    "outputId": "0b3cacce-9b4c-4ff9-d155-e921f565e76c"
   },
   "outputs": [
    {
     "data": {
      "text/plain": [
       "NU_NOTA_CN         0\n",
       "NU_NOTA_CH         0\n",
       "NU_NOTA_LC         0\n",
       "NU_NOTA_REDACAO    0\n",
       "dtype: int64"
      ]
     },
     "execution_count": 20,
     "metadata": {},
     "output_type": "execute_result"
    }
   ],
   "source": [
    "EnemTrain[variables].isnull().sum()"
   ]
  },
  {
   "cell_type": "code",
   "execution_count": 21,
   "metadata": {
    "colab": {
     "base_uri": "https://localhost:8080/",
     "height": 108
    },
    "colab_type": "code",
    "executionInfo": {
     "elapsed": 1392,
     "status": "ok",
     "timestamp": 1596559017655,
     "user": {
      "displayName": "Marcela",
      "photoUrl": "",
      "userId": "05266285829176522940"
     },
     "user_tz": 180
    },
    "id": "xQla-WrwkYKn",
    "outputId": "6273de54-2556-492c-faae-c7e7557fe6e8"
   },
   "outputs": [
    {
     "data": {
      "text/plain": [
       "NU_NOTA_CN         0\n",
       "NU_NOTA_CH         0\n",
       "NU_NOTA_LC         0\n",
       "NU_NOTA_REDACAO    0\n",
       "dtype: int64"
      ]
     },
     "execution_count": 21,
     "metadata": {},
     "output_type": "execute_result"
    }
   ],
   "source": [
    "EnemTest[variables].isnull().sum()"
   ]
  },
  {
   "cell_type": "markdown",
   "metadata": {
    "colab_type": "text",
    "id": "wmykIBMRkfGY"
   },
   "source": [
    "Verificando as ditribuições após a substituições"
   ]
  },
  {
   "cell_type": "code",
   "execution_count": 22,
   "metadata": {
    "colab": {
     "base_uri": "https://localhost:8080/",
     "height": 280
    },
    "colab_type": "code",
    "executionInfo": {
     "elapsed": 1497,
     "status": "ok",
     "timestamp": 1596559022588,
     "user": {
      "displayName": "Marcela",
      "photoUrl": "",
      "userId": "05266285829176522940"
     },
     "user_tz": 180
    },
    "id": "Awzer0VHkvR0",
    "outputId": "c4b92e3d-1885-41f7-d412-13cc526941a4"
   },
   "outputs": [
    {
     "data": {
      "image/png": "[encoded data removed]",
      "text/plain": [
       "<Figure size 432x288 with 1 Axes>"
      ]
     },
     "metadata": {
      "needs_background": "light"
     },
     "output_type": "display_data"
    }
   ],
   "source": [
    "x8 = EnemTrain['NU_NOTA_CN']\n",
    "x9 = EnemTest['NU_NOTA_CN']\n",
    "sns.distplot(x8)\n",
    "sns.distplot(x9)\n",
    "plt.legend(labels=['TRAIN','TEST'], ncol=2, loc='upper left');"
   ]
  },
  {
   "cell_type": "markdown",
   "metadata": {
    "colab_type": "text",
    "id": "MkTzUmYplXYH"
   },
   "source": [
    "# Normalizando os dados"
   ]
  },
  {
   "cell_type": "code",
   "execution_count": 23,
   "metadata": {
    "colab": {},
    "colab_type": "code",
    "executionInfo": {
     "elapsed": 2390,
     "status": "ok",
     "timestamp": 1596559029640,
     "user": {
      "displayName": "Marcela",
      "photoUrl": "",
      "userId": "05266285829176522940"
     },
     "user_tz": 180
    },
    "id": "6CKzI7KPl0bv"
   },
   "outputs": [],
   "source": [
    "y_train = EnemTrain['NU_NOTA_MT']\n",
    "x_train = EnemTrain[variables]\n",
    "x_test = EnemTest[variables]\n",
    "from sklearn.preprocessing import StandardScaler\n",
    "sc = StandardScaler()  \n",
    "x_train = sc.fit_transform(x_train)  \n",
    "x_test = sc.transform(x_test)"
   ]
  },
  {
   "cell_type": "markdown",
   "metadata": {
    "colab_type": "text",
    "id": "Ij1pG1Upn2SW"
   },
   "source": [
    "# Modelo de Previsão"
   ]
  },
  {
   "cell_type": "markdown",
   "metadata": {
    "colab_type": "text",
    "id": "RT3PdDZ0mw5t"
   },
   "source": [
    "Importando o modelo de regressão de florestas aleatórias"
   ]
  },
  {
   "cell_type": "code",
   "execution_count": 24,
   "metadata": {
    "colab": {},
    "colab_type": "code",
    "executionInfo": {
     "elapsed": 1461,
     "status": "ok",
     "timestamp": 1596559038801,
     "user": {
      "displayName": "Marcela",
      "photoUrl": "",
      "userId": "05266285829176522940"
     },
     "user_tz": 180
    },
    "id": "OCv4m_ANm6xW"
   },
   "outputs": [],
   "source": [
    "from sklearn.ensemble import RandomForestRegressor\n",
    "regressor = RandomForestRegressor( \n",
    "           criterion='mae', \n",
    "           max_depth=8,\n",
    "           max_leaf_nodes=None,\n",
    "           min_impurity_split=None,\n",
    "           min_samples_leaf=1,\n",
    "           min_samples_split=2,\n",
    "           min_weight_fraction_leaf=0.0,\n",
    "           n_estimators= 500,\n",
    "           n_jobs=-1,\n",
    "           random_state=0,\n",
    "           verbose=0,\n",
    "           warm_start=False\n",
    ")"
   ]
  },
  {
   "cell_type": "markdown",
   "metadata": {
    "colab_type": "text",
    "id": "f0r83wqCm_BN"
   },
   "source": [
    "Treinando o modelo"
   ]
  },
  {
   "cell_type": "code",
   "execution_count": 25,
   "metadata": {
    "colab": {
     "base_uri": "https://localhost:8080/",
     "height": 145
    },
    "colab_type": "code",
    "executionInfo": {
     "elapsed": 452025,
     "status": "ok",
     "timestamp": 1596559498092,
     "user": {
      "displayName": "Marcela",
      "photoUrl": "",
      "userId": "05266285829176522940"
     },
     "user_tz": 180
    },
    "id": "GjxgnkGBnwXN",
    "outputId": "4ceb6de2-6970-4627-e0a2-d0e42a52e8c6"
   },
   "outputs": [
    {
     "data": {
      "text/plain": [
       "RandomForestRegressor(criterion='mae', max_depth=8, n_estimators=500, n_jobs=-1,\n",
       "                      random_state=0)"
      ]
     },
     "execution_count": 25,
     "metadata": {},
     "output_type": "execute_result"
    }
   ],
   "source": [
    "regressor.fit(x_train, y_train)"
   ]
  },
  {
   "cell_type": "markdown",
   "metadata": {
    "colab_type": "text",
    "id": "3DfdKoFbqMvI"
   },
   "source": [
    "Prevendo os resultados"
   ]
  },
  {
   "cell_type": "code",
   "execution_count": 26,
   "metadata": {
    "colab": {},
    "colab_type": "code",
    "executionInfo": {
     "elapsed": 1439,
     "status": "ok",
     "timestamp": 1596559625513,
     "user": {
      "displayName": "Marcela",
      "photoUrl": "",
      "userId": "05266285829176522940"
     },
     "user_tz": 180
    },
    "id": "v9r6vjilqTk2"
   },
   "outputs": [],
   "source": [
    "Y_pred_test = regressor.predict(x_test)"
   ]
  },
  {
   "cell_type": "code",
   "execution_count": 27,
   "metadata": {
    "colab": {},
    "colab_type": "code",
    "executionInfo": {
     "elapsed": 1155,
     "status": "ok",
     "timestamp": 1596559633069,
     "user": {
      "displayName": "Marcela",
      "photoUrl": "",
      "userId": "05266285829176522940"
     },
     "user_tz": 180
    },
    "id": "ycjD3vQRxd6o"
   },
   "outputs": [],
   "source": [
    "y_pred_train = regressor.predict(x_train)"
   ]
  },
  {
   "cell_type": "markdown",
   "metadata": {
    "colab_type": "text",
    "id": "daEPko4_OjT6"
   },
   "source": [
    "## **Avaliando o Modelo**"
   ]
  },
  {
   "cell_type": "code",
   "execution_count": 28,
   "metadata": {
    "colab": {
     "base_uri": "https://localhost:8080/",
     "height": 72
    },
    "colab_type": "code",
    "executionInfo": {
     "elapsed": 1448,
     "status": "ok",
     "timestamp": 1596559639131,
     "user": {
      "displayName": "Marcela",
      "photoUrl": "",
      "userId": "05266285829176522940"
     },
     "user_tz": 180
    },
    "id": "lq9APtXKQGOL",
    "outputId": "ea665d61-0ccb-4cf5-dcd3-86f95e96ddc8"
   },
   "outputs": [
    {
     "name": "stdout",
     "output_type": "stream",
     "text": [
      "MAE: 40.41969187\n",
      "MSE: 3659.92535188\n",
      "RMSE: 60.4973169\n"
     ]
    }
   ],
   "source": [
    "from sklearn import metrics\n",
    "\n",
    "print('MAE:', metrics.mean_absolute_error(y_train, y_pred_train).round(8)  )\n",
    "print('MSE:', metrics.mean_squared_error(y_train, y_pred_train).round(8) )  \n",
    "print('RMSE:', np.sqrt(metrics.mean_squared_error(y_train, y_pred_train)).round(8))"
   ]
  },
  {
   "cell_type": "code",
   "execution_count": 29,
   "metadata": {
    "colab": {
     "base_uri": "https://localhost:8080/",
     "height": 298
    },
    "colab_type": "code",
    "executionInfo": {
     "elapsed": 1888,
     "status": "ok",
     "timestamp": 1596559645836,
     "user": {
      "displayName": "Marcela",
      "photoUrl": "",
      "userId": "05266285829176522940"
     },
     "user_tz": 180
    },
    "id": "jqGPTjyej7nT",
    "outputId": "530246df-a5e1-4cdb-867c-39c1033f8fad"
   },
   "outputs": [
    {
     "data": {
      "text/plain": [
       "<matplotlib.axes._subplots.AxesSubplot at 0xe50f6c8>"
      ]
     },
     "execution_count": 29,
     "metadata": {},
     "output_type": "execute_result"
    },
    {
     "data": {
      "image/png": "[encoded data removed]",
      "text/plain": [
       "<Figure size 432x288 with 1 Axes>"
      ]
     },
     "metadata": {
      "needs_background": "light"
     },
     "output_type": "display_data"
    }
   ],
   "source": [
    "sns.distplot((y_train-y_pred_train), bins=50)"
   ]
  },
  {
   "cell_type": "code",
   "execution_count": 30,
   "metadata": {
    "colab": {},
    "colab_type": "code",
    "executionInfo": {
     "elapsed": 1125,
     "status": "ok",
     "timestamp": 1596559652041,
     "user": {
      "displayName": "Marcela",
      "photoUrl": "",
      "userId": "05266285829176522940"
     },
     "user_tz": 180
    },
    "id": "xjptRaAnpDFf"
   },
   "outputs": [],
   "source": [
    "Pred_MT = pd.DataFrame({'Actual': y_train, 'Predicted': y_pred_train})\n",
    "GraphMT_pred = Pred_MT.head(25)"
   ]
  },
  {
   "cell_type": "code",
   "execution_count": 31,
   "metadata": {
    "colab": {
     "base_uri": "https://localhost:8080/",
     "height": 486
    },
    "colab_type": "code",
    "executionInfo": {
     "elapsed": 1327,
     "status": "ok",
     "timestamp": 1596559657153,
     "user": {
      "displayName": "Marcela",
      "photoUrl": "",
      "userId": "05266285829176522940"
     },
     "user_tz": 180
    },
    "id": "YSltyfuqpmXs",
    "outputId": "9c8492ac-db1b-4747-a74a-f48039f51abc"
   },
   "outputs": [
    {
     "data": {
      "image/png": "[encoded data removed]",
      "text/plain": [
       "<Figure size 720x576 with 1 Axes>"
      ]
     },
     "metadata": {
      "needs_background": "light"
     },
     "output_type": "display_data"
    }
   ],
   "source": [
    "GraphMT_pred.plot(kind='bar',figsize=(10,8))\n",
    "plt.grid(which='major', linestyle='-', linewidth='0.5', color='green')\n",
    "plt.grid(which='minor', linestyle=':', linewidth='0.5', color='black')\n",
    "plt.show()"
   ]
  },
  {
   "cell_type": "markdown",
   "metadata": {
    "colab_type": "text",
    "id": "_MQEotNBoRf-"
   },
   "source": [
    "# Salvando o arquivo Answer.csv\n",
    "\n",
    "\n",
    "\n"
   ]
  },
  {
   "cell_type": "code",
   "execution_count": 32,
   "metadata": {
    "colab": {
     "base_uri": "https://localhost:8080/",
     "height": 35
    },
    "colab_type": "code",
    "executionInfo": {
     "elapsed": 1543,
     "status": "ok",
     "timestamp": 1596559673127,
     "user": {
      "displayName": "Marcela",
      "photoUrl": "",
      "userId": "05266285829176522940"
     },
     "user_tz": 180
    },
    "id": "bobqTRn3y3uy",
    "outputId": "f1c407ec-5240-460d-dd34-0d3bfcf6ad7c"
   },
   "outputs": [
    {
     "data": {
      "text/plain": [
       "(4576,)"
      ]
     },
     "execution_count": 32,
     "metadata": {},
     "output_type": "execute_result"
    }
   ],
   "source": [
    "Y_pred_test.shape"
   ]
  },
  {
   "cell_type": "code",
   "execution_count": 33,
   "metadata": {
    "colab": {},
    "colab_type": "code",
    "executionInfo": {
     "elapsed": 1407,
     "status": "ok",
     "timestamp": 1596559712795,
     "user": {
      "displayName": "Marcela",
      "photoUrl": "",
      "userId": "05266285829176522940"
     },
     "user_tz": 180
    },
    "id": "GDOHgf-zTz9d"
   },
   "outputs": [],
   "source": [
    "Answer_MT = EnemTest.iloc[0:4576,0]"
   ]
  },
  {
   "cell_type": "code",
   "execution_count": 34,
   "metadata": {
    "colab": {
     "base_uri": "https://localhost:8080/",
     "height": 126
    },
    "colab_type": "code",
    "executionInfo": {
     "elapsed": 2272,
     "status": "ok",
     "timestamp": 1596559716968,
     "user": {
      "displayName": "Marcela",
      "photoUrl": "",
      "userId": "05266285829176522940"
     },
     "user_tz": 180
    },
    "id": "bm99yU44abwN",
    "outputId": "e331a715-9a23-4288-abf2-3f1d243fe4c3"
   },
   "outputs": [
    {
     "data": {
      "text/plain": [
       "0    73ff9fcc02f0a99919906c942c2e1a1042cdcf98\n",
       "1    71a95f9f1b91a82c65ad94abbdf9f54e6066f968\n",
       "2    b38a03232f43b11c9d0788abaf060f7366053b6d\n",
       "3    70b682d9a3636be23f6120fa9d6b164eb3c6002d\n",
       "4    715494628a50142ce8cb17191cfe6d0f3cae0934\n",
       "Name: NU_INSCRICAO, dtype: object"
      ]
     },
     "execution_count": 34,
     "metadata": {},
     "output_type": "execute_result"
    }
   ],
   "source": [
    "Answer_MT.head()"
   ]
  },
  {
   "cell_type": "code",
   "execution_count": 35,
   "metadata": {
    "colab": {},
    "colab_type": "code",
    "executionInfo": {
     "elapsed": 1345,
     "status": "ok",
     "timestamp": 1596559730526,
     "user": {
      "displayName": "Marcela",
      "photoUrl": "",
      "userId": "05266285829176522940"
     },
     "user_tz": 180
    },
    "id": "YoetovbYU5gn"
   },
   "outputs": [],
   "source": [
    "DF_As = pd.DataFrame({'NU_INSCRICAO': Answer_MT, 'NU_NOTA_MT': Y_pred_test})"
   ]
  },
  {
   "cell_type": "code",
   "execution_count": 36,
   "metadata": {
    "colab": {
     "base_uri": "https://localhost:8080/",
     "height": 198
    },
    "colab_type": "code",
    "executionInfo": {
     "elapsed": 1141,
     "status": "ok",
     "timestamp": 1596559747899,
     "user": {
      "displayName": "Marcela",
      "photoUrl": "",
      "userId": "05266285829176522940"
     },
     "user_tz": 180
    },
    "id": "jbs25_fgal-D",
    "outputId": "f737d851-0b50-45bb-c6e4-3367a19fe2e3"
   },
   "outputs": [
    {
     "data": {
      "text/html": [
       "<div>\n",
       "<style scoped>\n",
       "    .dataframe tbody tr th:only-of-type {\n",
       "        vertical-align: middle;\n",
       "    }\n",
       "\n",
       "    .dataframe tbody tr th {\n",
       "        vertical-align: top;\n",
       "    }\n",
       "\n",
       "    .dataframe thead th {\n",
       "        text-align: right;\n",
       "    }\n",
       "</style>\n",
       "<table border=\"1\" class=\"dataframe\">\n",
       "  <thead>\n",
       "    <tr style=\"text-align: right;\">\n",
       "      <th></th>\n",
       "      <th>NU_INSCRICAO</th>\n",
       "      <th>NU_NOTA_MT</th>\n",
       "    </tr>\n",
       "  </thead>\n",
       "  <tbody>\n",
       "    <tr>\n",
       "      <th>0</th>\n",
       "      <td>73ff9fcc02f0a99919906c942c2e1a1042cdcf98</td>\n",
       "      <td>417.9925</td>\n",
       "    </tr>\n",
       "    <tr>\n",
       "      <th>1</th>\n",
       "      <td>71a95f9f1b91a82c65ad94abbdf9f54e6066f968</td>\n",
       "      <td>443.4268</td>\n",
       "    </tr>\n",
       "    <tr>\n",
       "      <th>2</th>\n",
       "      <td>b38a03232f43b11c9d0788abaf060f7366053b6d</td>\n",
       "      <td>597.2039</td>\n",
       "    </tr>\n",
       "    <tr>\n",
       "      <th>3</th>\n",
       "      <td>70b682d9a3636be23f6120fa9d6b164eb3c6002d</td>\n",
       "      <td>0.0000</td>\n",
       "    </tr>\n",
       "    <tr>\n",
       "      <th>4</th>\n",
       "      <td>715494628a50142ce8cb17191cfe6d0f3cae0934</td>\n",
       "      <td>526.6098</td>\n",
       "    </tr>\n",
       "  </tbody>\n",
       "</table>\n",
       "</div>"
      ],
      "text/plain": [
       "                               NU_INSCRICAO  NU_NOTA_MT\n",
       "0  73ff9fcc02f0a99919906c942c2e1a1042cdcf98    417.9925\n",
       "1  71a95f9f1b91a82c65ad94abbdf9f54e6066f968    443.4268\n",
       "2  b38a03232f43b11c9d0788abaf060f7366053b6d    597.2039\n",
       "3  70b682d9a3636be23f6120fa9d6b164eb3c6002d      0.0000\n",
       "4  715494628a50142ce8cb17191cfe6d0f3cae0934    526.6098"
      ]
     },
     "execution_count": 36,
     "metadata": {},
     "output_type": "execute_result"
    }
   ],
   "source": [
    "DF_As.head()"
   ]
  },
  {
   "cell_type": "code",
   "execution_count": 37,
   "metadata": {
    "colab": {},
    "colab_type": "code",
    "executionInfo": {
     "elapsed": 1235,
     "status": "ok",
     "timestamp": 1596559844117,
     "user": {
      "displayName": "Marcela",
      "photoUrl": "",
      "userId": "05266285829176522940"
     },
     "user_tz": 180
    },
    "id": "-tjq6GNVVbZq"
   },
   "outputs": [],
   "source": [
    "DF_As.to_csv('answer.csv', index=False)"
   ]
  },
  {
   "cell_type": "code",
   "execution_count": 38,
   "metadata": {
    "colab": {},
    "colab_type": "code",
    "executionInfo": {
     "elapsed": 1092,
     "status": "ok",
     "timestamp": 1596559847407,
     "user": {
      "displayName": "Marcela",
      "photoUrl": "",
      "userId": "05266285829176522940"
     },
     "user_tz": 180
    },
    "id": "2iVJnVWLWZLx"
   },
   "outputs": [],
   "source": [
    "df = pd.read_csv('answer.csv')"
   ]
  },
  {
   "cell_type": "code",
   "execution_count": 39,
   "metadata": {
    "colab": {
     "base_uri": "https://localhost:8080/",
     "height": 198
    },
    "colab_type": "code",
    "executionInfo": {
     "elapsed": 1305,
     "status": "ok",
     "timestamp": 1596559850942,
     "user": {
      "displayName": "Marcela",
      "photoUrl": "",
      "userId": "05266285829176522940"
     },
     "user_tz": 180
    },
    "id": "IEUxRO-ra-kw",
    "outputId": "e03f0348-a60a-44d2-a5de-4c7c8a7c7423"
   },
   "outputs": [
    {
     "data": {
      "text/html": [
       "<div>\n",
       "<style scoped>\n",
       "    .dataframe tbody tr th:only-of-type {\n",
       "        vertical-align: middle;\n",
       "    }\n",
       "\n",
       "    .dataframe tbody tr th {\n",
       "        vertical-align: top;\n",
       "    }\n",
       "\n",
       "    .dataframe thead th {\n",
       "        text-align: right;\n",
       "    }\n",
       "</style>\n",
       "<table border=\"1\" class=\"dataframe\">\n",
       "  <thead>\n",
       "    <tr style=\"text-align: right;\">\n",
       "      <th></th>\n",
       "      <th>NU_INSCRICAO</th>\n",
       "      <th>NU_NOTA_MT</th>\n",
       "    </tr>\n",
       "  </thead>\n",
       "  <tbody>\n",
       "    <tr>\n",
       "      <th>0</th>\n",
       "      <td>73ff9fcc02f0a99919906c942c2e1a1042cdcf98</td>\n",
       "      <td>417.9925</td>\n",
       "    </tr>\n",
       "    <tr>\n",
       "      <th>1</th>\n",
       "      <td>71a95f9f1b91a82c65ad94abbdf9f54e6066f968</td>\n",
       "      <td>443.4268</td>\n",
       "    </tr>\n",
       "    <tr>\n",
       "      <th>2</th>\n",
       "      <td>b38a03232f43b11c9d0788abaf060f7366053b6d</td>\n",
       "      <td>597.2039</td>\n",
       "    </tr>\n",
       "    <tr>\n",
       "      <th>3</th>\n",
       "      <td>70b682d9a3636be23f6120fa9d6b164eb3c6002d</td>\n",
       "      <td>0.0000</td>\n",
       "    </tr>\n",
       "    <tr>\n",
       "      <th>4</th>\n",
       "      <td>715494628a50142ce8cb17191cfe6d0f3cae0934</td>\n",
       "      <td>526.6098</td>\n",
       "    </tr>\n",
       "  </tbody>\n",
       "</table>\n",
       "</div>"
      ],
      "text/plain": [
       "                               NU_INSCRICAO  NU_NOTA_MT\n",
       "0  73ff9fcc02f0a99919906c942c2e1a1042cdcf98    417.9925\n",
       "1  71a95f9f1b91a82c65ad94abbdf9f54e6066f968    443.4268\n",
       "2  b38a03232f43b11c9d0788abaf060f7366053b6d    597.2039\n",
       "3  70b682d9a3636be23f6120fa9d6b164eb3c6002d      0.0000\n",
       "4  715494628a50142ce8cb17191cfe6d0f3cae0934    526.6098"
      ]
     },
     "execution_count": 39,
     "metadata": {},
     "output_type": "execute_result"
    }
   ],
   "source": [
    "df.head()"
   ]
  },
  {
   "cell_type": "code",
   "execution_count": 40,
   "metadata": {
    "colab": {
     "base_uri": "https://localhost:8080/",
     "height": 35
    },
    "colab_type": "code",
    "executionInfo": {
     "elapsed": 1482,
     "status": "ok",
     "timestamp": 1596559857550,
     "user": {
      "displayName": "Marcela",
      "photoUrl": "",
      "userId": "05266285829176522940"
     },
     "user_tz": 180
    },
    "id": "fCZHgYPGXDIY",
    "outputId": "ff883b36-c521-47a7-ae54-018afbcbbf39"
   },
   "outputs": [
    {
     "data": {
      "text/plain": [
       "(4576, 2)"
      ]
     },
     "execution_count": 40,
     "metadata": {},
     "output_type": "execute_result"
    }
   ],
   "source": [
    "df.shape"
   ]
  },
  {
   "cell_type": "code",
   "execution_count": 41,
   "metadata": {
    "colab": {},
    "colab_type": "code",
    "id": "Sp_lTMI11NSu"
   },
   "outputs": [],
   "source": [
    "#Answer = df.iloc[0:4119,[0,1]]"
   ]
  },
  {
   "cell_type": "code",
   "execution_count": 42,
   "metadata": {
    "colab": {
     "base_uri": "https://localhost:8080/",
     "height": 198
    },
    "colab_type": "code",
    "executionInfo": {
     "elapsed": 785,
     "status": "ok",
     "timestamp": 1591651736153,
     "user": {
      "displayName": "Marcela M",
      "photoUrl": "",
      "userId": "05266285829176522940"
     },
     "user_tz": 180
    },
    "id": "Q1dljsXz1Xsi",
    "outputId": "a0c8b52f-8e95-47ee-adb6-8d8cc74932a9"
   },
   "outputs": [],
   "source": [
    "#Answer.head()"
   ]
  },
  {
   "cell_type": "code",
   "execution_count": 43,
   "metadata": {
    "colab": {
     "base_uri": "https://localhost:8080/",
     "height": 35
    },
    "colab_type": "code",
    "executionInfo": {
     "elapsed": 700,
     "status": "ok",
     "timestamp": 1591651763683,
     "user": {
      "displayName": "Marcela M",
      "photoUrl": "",
      "userId": "05266285829176522940"
     },
     "user_tz": 180
    },
    "id": "W2LmhqPC1l87",
    "outputId": "92d54b20-ef08-45e3-a97a-dccb10ae306e"
   },
   "outputs": [],
   "source": [
    "#Answer.shape"
   ]
  },
  {
   "cell_type": "code",
   "execution_count": 44,
   "metadata": {
    "colab": {},
    "colab_type": "code",
    "id": "HZ_m0wuq1tdA"
   },
   "outputs": [],
   "source": [
    "#Answer.to_csv('/content/drive/My Drive/Desafio Codnation/Answer 06/Answer006.csv', index=False)"
   ]
  }
 ],
 "metadata": {
  "colab": {
   "authorship_tag": "ABX9TyOkc/yeUZ8vkWoVtLZ5bPr5",
   "collapsed_sections": [],
   "mount_file_id": "10LZAsB2-kUS2nVHHsZE1ujQ6l2eJp-te",
   "name": "main.ipynb",
   "provenance": [
    {
     "file_id": "1s-xEY3wCxIQakHioOMcOuew3wx2u5ADH",
     "timestamp": 1591631080496
    },
    {
     "file_id": "1ga5liwZ_5GSvbqP5fkmcYx9yrCaCpeWz",
     "timestamp": 1591481259870
    },
    {
     "file_id": "1HX7id7t5SWpS33WVh3YdOlFYwlil389d",
     "timestamp": 1591312643079
    }
   ]
  },
  "kernelspec": {
   "display_name": "Python 3",
   "language": "python",
   "name": "python3"
  },
  "language_info": {
   "codemirror_mode": {
    "name": "ipython",
    "version": 3
   },
   "file_extension": ".py",
   "mimetype": "text/x-python",
   "name": "python",
   "nbconvert_exporter": "python",
   "pygments_lexer": "ipython3",
   "version": "3.7.7"
  }
 },
 "nbformat": 4,
 "nbformat_minor": 1
}
