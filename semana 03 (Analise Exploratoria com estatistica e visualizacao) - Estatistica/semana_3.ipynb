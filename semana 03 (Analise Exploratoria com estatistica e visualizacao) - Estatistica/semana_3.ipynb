{
  "nbformat": 4,
  "nbformat_minor": 0,
  "metadata": {
    "kernelspec": {
      "display_name": "Python 3",
      "language": "python",
      "name": "python3"
    },
    "language_info": {
      "codemirror_mode": {
        "name": "ipython",
        "version": 3
      },
      "file_extension": ".py",
      "mimetype": "text/x-python",
      "name": "python",
      "nbconvert_exporter": "python",
      "pygments_lexer": "ipython3",
      "version": "3.8.2"
    },
    "colab": {
      "name": "semana_3.ipynb",
      "provenance": []
    }
  },
  "cells": [
    {
      "cell_type": "markdown",
      "metadata": {
        "id": "4FrKevYQWvNf",
        "colab_type": "text"
      },
      "source": [
        "# Aceleradev Codenation - Semana 3\n",
        "## Túlio Vieira de Souza | Data Scientist"
      ]
    },
    {
      "cell_type": "markdown",
      "metadata": {
        "id": "qW-Y1oL4WvNj",
        "colab_type": "text"
      },
      "source": [
        "dados : https://www.kaggle.com/rubenssjr/brasilian-houses-to-rent"
      ]
    },
    {
      "cell_type": "markdown",
      "metadata": {
        "id": "eFAgAepOWvNk",
        "colab_type": "text"
      },
      "source": [
        "Colunas \n",
        "\n",
        "- city : Cidade onde o imóvel está localizada / City where the property is located\n",
        "- area : Area do imovel / Property area\n",
        "- rooms: Numero de quartos/ Quantity of rooms\n",
        "- bathroom: Numero de banheiros / Quantity of bathroom\n",
        "- parking spaces : Numero de vagas / Quantity of parking spaces\n",
        "- floor : Andar / Floor\n",
        "- animal : Aceita animais? / Acept animals?\n",
        "- furniture : Mobilhada? / Furniture?\n",
        "- hoa (RS): Valor do condomínio / Homeowners association tax \n",
        "- rent amount (RS) : Valor do Aluguel (/) Rent amount \n",
        "- property tax (RS) : IPTU (/) Property tax\n",
        "- fire insurance (RS) : Seguro Incendio / Fire Insurance\n",
        "- total (RS) : Valor total / Total"
      ]
    },
    {
      "cell_type": "markdown",
      "metadata": {
        "id": "kzZrcNdvWvNm",
        "colab_type": "text"
      },
      "source": [
        "### Importando os pacotes"
      ]
    },
    {
      "cell_type": "code",
      "metadata": {
        "id": "YDw5BV3RWvNn",
        "colab_type": "code",
        "colab": {}
      },
      "source": [
        "import pandas as pd"
      ],
      "execution_count": 30,
      "outputs": []
    },
    {
      "cell_type": "code",
      "metadata": {
        "id": "It_82f2qWvOJ",
        "colab_type": "code",
        "colab": {}
      },
      "source": [
        "df = pd.read_csv('https://raw.githubusercontent.com/luislauriano/AceleraDev_DataScience/master/data/houses_to_rent_v2.csv')"
      ],
      "execution_count": 31,
      "outputs": []
    },
    {
      "cell_type": "code",
      "metadata": {
        "id": "lrKg-pVCWvOY",
        "colab_type": "code",
        "colab": {
          "base_uri": "https://localhost:8080/",
          "height": 343
        },
        "outputId": "07dc3241-9e63-4938-8f78-5faad7239a44"
      },
      "source": [
        "df.head(5)"
      ],
      "execution_count": 32,
      "outputs": [
        {
          "output_type": "execute_result",
          "data": {
            "text/html": [
              "<div>\n",
              "<style scoped>\n",
              "    .dataframe tbody tr th:only-of-type {\n",
              "        vertical-align: middle;\n",
              "    }\n",
              "\n",
              "    .dataframe tbody tr th {\n",
              "        vertical-align: top;\n",
              "    }\n",
              "\n",
              "    .dataframe thead th {\n",
              "        text-align: right;\n",
              "    }\n",
              "</style>\n",
              "<table border=\"1\" class=\"dataframe\">\n",
              "  <thead>\n",
              "    <tr style=\"text-align: right;\">\n",
              "      <th></th>\n",
              "      <th>city</th>\n",
              "      <th>area</th>\n",
              "      <th>rooms</th>\n",
              "      <th>bathroom</th>\n",
              "      <th>parking spaces</th>\n",
              "      <th>floor</th>\n",
              "      <th>animal</th>\n",
              "      <th>furniture</th>\n",
              "      <th>hoa (R$)</th>\n",
              "      <th>rent amount (R$)</th>\n",
              "      <th>property tax (R$)</th>\n",
              "      <th>fire insurance (R$)</th>\n",
              "      <th>total (R$)</th>\n",
              "    </tr>\n",
              "  </thead>\n",
              "  <tbody>\n",
              "    <tr>\n",
              "      <th>0</th>\n",
              "      <td>São Paulo</td>\n",
              "      <td>70</td>\n",
              "      <td>2</td>\n",
              "      <td>1</td>\n",
              "      <td>1</td>\n",
              "      <td>7</td>\n",
              "      <td>acept</td>\n",
              "      <td>furnished</td>\n",
              "      <td>2065</td>\n",
              "      <td>3300</td>\n",
              "      <td>211</td>\n",
              "      <td>42</td>\n",
              "      <td>5618</td>\n",
              "    </tr>\n",
              "    <tr>\n",
              "      <th>1</th>\n",
              "      <td>São Paulo</td>\n",
              "      <td>320</td>\n",
              "      <td>4</td>\n",
              "      <td>4</td>\n",
              "      <td>0</td>\n",
              "      <td>20</td>\n",
              "      <td>acept</td>\n",
              "      <td>not furnished</td>\n",
              "      <td>1200</td>\n",
              "      <td>4960</td>\n",
              "      <td>1750</td>\n",
              "      <td>63</td>\n",
              "      <td>7973</td>\n",
              "    </tr>\n",
              "    <tr>\n",
              "      <th>2</th>\n",
              "      <td>Porto Alegre</td>\n",
              "      <td>80</td>\n",
              "      <td>1</td>\n",
              "      <td>1</td>\n",
              "      <td>1</td>\n",
              "      <td>6</td>\n",
              "      <td>acept</td>\n",
              "      <td>not furnished</td>\n",
              "      <td>1000</td>\n",
              "      <td>2800</td>\n",
              "      <td>0</td>\n",
              "      <td>41</td>\n",
              "      <td>3841</td>\n",
              "    </tr>\n",
              "    <tr>\n",
              "      <th>3</th>\n",
              "      <td>Porto Alegre</td>\n",
              "      <td>51</td>\n",
              "      <td>2</td>\n",
              "      <td>1</td>\n",
              "      <td>0</td>\n",
              "      <td>2</td>\n",
              "      <td>acept</td>\n",
              "      <td>not furnished</td>\n",
              "      <td>270</td>\n",
              "      <td>1112</td>\n",
              "      <td>22</td>\n",
              "      <td>17</td>\n",
              "      <td>1421</td>\n",
              "    </tr>\n",
              "    <tr>\n",
              "      <th>4</th>\n",
              "      <td>São Paulo</td>\n",
              "      <td>25</td>\n",
              "      <td>1</td>\n",
              "      <td>1</td>\n",
              "      <td>0</td>\n",
              "      <td>1</td>\n",
              "      <td>not acept</td>\n",
              "      <td>not furnished</td>\n",
              "      <td>0</td>\n",
              "      <td>800</td>\n",
              "      <td>25</td>\n",
              "      <td>11</td>\n",
              "      <td>836</td>\n",
              "    </tr>\n",
              "  </tbody>\n",
              "</table>\n",
              "</div>"
            ],
            "text/plain": [
              "           city  area  ...  fire insurance (R$)  total (R$)\n",
              "0     São Paulo    70  ...                   42        5618\n",
              "1     São Paulo   320  ...                   63        7973\n",
              "2  Porto Alegre    80  ...                   41        3841\n",
              "3  Porto Alegre    51  ...                   17        1421\n",
              "4     São Paulo    25  ...                   11         836\n",
              "\n",
              "[5 rows x 13 columns]"
            ]
          },
          "metadata": {
            "tags": []
          },
          "execution_count": 32
        }
      ]
    },
    {
      "cell_type": "code",
      "metadata": {
        "id": "H9s3lUFIWvOs",
        "colab_type": "code",
        "colab": {
          "base_uri": "https://localhost:8080/",
          "height": 255
        },
        "outputId": "6c06c27c-7ee7-48fd-e42f-3e29946e8a3d"
      },
      "source": [
        "df.dtypes"
      ],
      "execution_count": 33,
      "outputs": [
        {
          "output_type": "execute_result",
          "data": {
            "text/plain": [
              "city                   object\n",
              "area                    int64\n",
              "rooms                   int64\n",
              "bathroom                int64\n",
              "parking spaces          int64\n",
              "floor                  object\n",
              "animal                 object\n",
              "furniture              object\n",
              "hoa (R$)                int64\n",
              "rent amount (R$)        int64\n",
              "property tax (R$)       int64\n",
              "fire insurance (R$)     int64\n",
              "total (R$)              int64\n",
              "dtype: object"
            ]
          },
          "metadata": {
            "tags": []
          },
          "execution_count": 33
        }
      ]
    },
    {
      "cell_type": "code",
      "metadata": {
        "id": "4p9Bk7879nTc",
        "colab_type": "code",
        "colab": {
          "base_uri": "https://localhost:8080/",
          "height": 255
        },
        "outputId": "16bcc4f1-3842-492f-9de7-ac227e548264"
      },
      "source": [
        "df.isna().sum()"
      ],
      "execution_count": 34,
      "outputs": [
        {
          "output_type": "execute_result",
          "data": {
            "text/plain": [
              "city                   0\n",
              "area                   0\n",
              "rooms                  0\n",
              "bathroom               0\n",
              "parking spaces         0\n",
              "floor                  0\n",
              "animal                 0\n",
              "furniture              0\n",
              "hoa (R$)               0\n",
              "rent amount (R$)       0\n",
              "property tax (R$)      0\n",
              "fire insurance (R$)    0\n",
              "total (R$)             0\n",
              "dtype: int64"
            ]
          },
          "metadata": {
            "tags": []
          },
          "execution_count": 34
        }
      ]
    },
    {
      "cell_type": "code",
      "metadata": {
        "collapsed": true,
        "id": "fl7Wamf9WvO6",
        "colab_type": "code",
        "colab": {
          "base_uri": "https://localhost:8080/",
          "height": 357
        },
        "outputId": "3c12f037-15be-4279-8911-2a13f7025b8a"
      },
      "source": [
        "df.info()"
      ],
      "execution_count": 35,
      "outputs": [
        {
          "output_type": "stream",
          "text": [
            "<class 'pandas.core.frame.DataFrame'>\n",
            "RangeIndex: 10692 entries, 0 to 10691\n",
            "Data columns (total 13 columns):\n",
            " #   Column               Non-Null Count  Dtype \n",
            "---  ------               --------------  ----- \n",
            " 0   city                 10692 non-null  object\n",
            " 1   area                 10692 non-null  int64 \n",
            " 2   rooms                10692 non-null  int64 \n",
            " 3   bathroom             10692 non-null  int64 \n",
            " 4   parking spaces       10692 non-null  int64 \n",
            " 5   floor                10692 non-null  object\n",
            " 6   animal               10692 non-null  object\n",
            " 7   furniture            10692 non-null  object\n",
            " 8   hoa (R$)             10692 non-null  int64 \n",
            " 9   rent amount (R$)     10692 non-null  int64 \n",
            " 10  property tax (R$)    10692 non-null  int64 \n",
            " 11  fire insurance (R$)  10692 non-null  int64 \n",
            " 12  total (R$)           10692 non-null  int64 \n",
            "dtypes: int64(9), object(4)\n",
            "memory usage: 1.1+ MB\n"
          ],
          "name": "stdout"
        }
      ]
    },
    {
      "cell_type": "markdown",
      "metadata": {
        "id": "v4EZ8T5GWvPN",
        "colab_type": "text"
      },
      "source": [
        "# Problema : Explorar o valor do aluguel (rent amount RS)"
      ]
    },
    {
      "cell_type": "markdown",
      "metadata": {
        "id": "-KeuQCMKWvPP",
        "colab_type": "text"
      },
      "source": [
        "## Estatística univariada"
      ]
    },
    {
      "cell_type": "code",
      "metadata": {
        "id": "F3vS_NbxWvPT",
        "colab_type": "code",
        "colab": {}
      },
      "source": [
        "df.rename(columns = {'rent amount (R$)' : 'valor_aluguel'}, inplace = True)"
      ],
      "execution_count": 36,
      "outputs": []
    },
    {
      "cell_type": "code",
      "metadata": {
        "id": "RQV-7_1ZWvPw",
        "colab_type": "code",
        "colab": {
          "base_uri": "https://localhost:8080/",
          "height": 34
        },
        "outputId": "8fdb1f66-352a-422d-a99b-2a1affc8c016"
      },
      "source": [
        "df['valor_aluguel'].mean()"
      ],
      "execution_count": 37,
      "outputs": [
        {
          "output_type": "execute_result",
          "data": {
            "text/plain": [
              "3896.247194163861"
            ]
          },
          "metadata": {
            "tags": []
          },
          "execution_count": 37
        }
      ]
    },
    {
      "cell_type": "code",
      "metadata": {
        "id": "yax6EGhdWvP-",
        "colab_type": "code",
        "colab": {
          "base_uri": "https://localhost:8080/",
          "height": 34
        },
        "outputId": "bcadd890-67f4-4153-bfd4-8cec1d52fe75"
      },
      "source": [
        "df['valor_aluguel'].median()"
      ],
      "execution_count": 38,
      "outputs": [
        {
          "output_type": "execute_result",
          "data": {
            "text/plain": [
              "2661.0"
            ]
          },
          "metadata": {
            "tags": []
          },
          "execution_count": 38
        }
      ]
    },
    {
      "cell_type": "code",
      "metadata": {
        "id": "qwDrrLDcWvQO",
        "colab_type": "code",
        "colab": {
          "base_uri": "https://localhost:8080/",
          "height": 34
        },
        "outputId": "f75e0c19-bb20-4a62-8bb3-3ba5fbf9f0de"
      },
      "source": [
        "df['valor_aluguel'].std()"
      ],
      "execution_count": 39,
      "outputs": [
        {
          "output_type": "execute_result",
          "data": {
            "text/plain": [
              "3408.5455176710816"
            ]
          },
          "metadata": {
            "tags": []
          },
          "execution_count": 39
        }
      ]
    },
    {
      "cell_type": "code",
      "metadata": {
        "id": "au_qHJ-ZWvQb",
        "colab_type": "code",
        "colab": {
          "base_uri": "https://localhost:8080/",
          "height": 170
        },
        "outputId": "7536cfde-4f96-4299-a43b-fea53a2c7e2f"
      },
      "source": [
        "df['valor_aluguel'].describe()"
      ],
      "execution_count": 40,
      "outputs": [
        {
          "output_type": "execute_result",
          "data": {
            "text/plain": [
              "count    10692.000000\n",
              "mean      3896.247194\n",
              "std       3408.545518\n",
              "min        450.000000\n",
              "25%       1530.000000\n",
              "50%       2661.000000\n",
              "75%       5000.000000\n",
              "max      45000.000000\n",
              "Name: valor_aluguel, dtype: float64"
            ]
          },
          "metadata": {
            "tags": []
          },
          "execution_count": 40
        }
      ]
    },
    {
      "cell_type": "code",
      "metadata": {
        "id": "HmDntm-hWvQn",
        "colab_type": "code",
        "colab": {
          "base_uri": "https://localhost:8080/",
          "height": 282
        },
        "outputId": "1d1dcb50-6ff0-44c6-953f-ba07b3bc7f75"
      },
      "source": [
        "df['valor_aluguel'].plot(kind = 'hist', bins= 100)"
      ],
      "execution_count": 41,
      "outputs": [
        {
          "output_type": "execute_result",
          "data": {
            "text/plain": [
              "<matplotlib.axes._subplots.AxesSubplot at 0x7f17cb208f60>"
            ]
          },
          "metadata": {
            "tags": []
          },
          "execution_count": 41
        },
        {
          "output_type": "display_data",
          "data": {
            "image/png": "[encoded data removed]",
            "text/plain": [
              "<Figure size 432x288 with 1 Axes>"
            ]
          },
          "metadata": {
            "tags": [],
            "needs_background": "light"
          }
        }
      ]
    },
    {
      "cell_type": "code",
      "metadata": {
        "id": "xOrJb9AnWvR_",
        "colab_type": "code",
        "colab": {
          "base_uri": "https://localhost:8080/",
          "height": 34
        },
        "outputId": "ad4f164c-6a4b-4b38-9dbe-852ac7faa671"
      },
      "source": [
        "#skewness positive skew\n",
        "df.valor_aluguel.skew()"
      ],
      "execution_count": 42,
      "outputs": [
        {
          "output_type": "execute_result",
          "data": {
            "text/plain": [
              "1.8388773035440982"
            ]
          },
          "metadata": {
            "tags": []
          },
          "execution_count": 42
        }
      ]
    },
    {
      "cell_type": "code",
      "metadata": {
        "id": "_q4SpHbuWvSp",
        "colab_type": "code",
        "colab": {
          "base_uri": "https://localhost:8080/",
          "height": 34
        },
        "outputId": "7f775bf3-473e-4634-c574-0f9a2ec3dc85"
      },
      "source": [
        "#kurtose - leptocurtica\n",
        "df.valor_aluguel.kurtosis()\n"
      ],
      "execution_count": 43,
      "outputs": [
        {
          "output_type": "execute_result",
          "data": {
            "text/plain": [
              "4.624228179818687"
            ]
          },
          "metadata": {
            "tags": []
          },
          "execution_count": 43
        }
      ]
    },
    {
      "cell_type": "markdown",
      "metadata": {
        "id": "rNdSFabYWvS6",
        "colab_type": "text"
      },
      "source": [
        "## Exploracao multivariáveis"
      ]
    },
    {
      "cell_type": "markdown",
      "metadata": {
        "id": "YJCV1alzWvS7",
        "colab_type": "text"
      },
      "source": [
        "### Perguntas\n",
        " \n",
        "- Qual a cidade com a média de aluguel mais cara? \n",
        "- Quantos banheiros existem nas residencias com alugueis mais altos? \n",
        "- Os imóveis mais caros aceitam animal? \n",
        "- Os imóveis mais caros são mobiliados? "
      ]
    },
    {
      "cell_type": "code",
      "metadata": {
        "id": "RtrbAQq8WvS9",
        "colab_type": "code",
        "colab": {
          "base_uri": "https://localhost:8080/",
          "height": 204
        },
        "outputId": "dfdd63ba-cd24-4fce-f31f-fa3aa6fd55ac"
      },
      "source": [
        "#Qual a cidade com a média de aluguel mais alta? \n",
        "\n",
        "df.groupby('city')['valor_aluguel'].median().reset_index().sort_values('valor_aluguel', ascending = False)"
      ],
      "execution_count": 44,
      "outputs": [
        {
          "output_type": "execute_result",
          "data": {
            "text/html": [
              "<div>\n",
              "<style scoped>\n",
              "    .dataframe tbody tr th:only-of-type {\n",
              "        vertical-align: middle;\n",
              "    }\n",
              "\n",
              "    .dataframe tbody tr th {\n",
              "        vertical-align: top;\n",
              "    }\n",
              "\n",
              "    .dataframe thead th {\n",
              "        text-align: right;\n",
              "    }\n",
              "</style>\n",
              "<table border=\"1\" class=\"dataframe\">\n",
              "  <thead>\n",
              "    <tr style=\"text-align: right;\">\n",
              "      <th></th>\n",
              "      <th>city</th>\n",
              "      <th>valor_aluguel</th>\n",
              "    </tr>\n",
              "  </thead>\n",
              "  <tbody>\n",
              "    <tr>\n",
              "      <th>4</th>\n",
              "      <td>São Paulo</td>\n",
              "      <td>3400</td>\n",
              "    </tr>\n",
              "    <tr>\n",
              "      <th>0</th>\n",
              "      <td>Belo Horizonte</td>\n",
              "      <td>2300</td>\n",
              "    </tr>\n",
              "    <tr>\n",
              "      <th>3</th>\n",
              "      <td>Rio de Janeiro</td>\n",
              "      <td>2300</td>\n",
              "    </tr>\n",
              "    <tr>\n",
              "      <th>2</th>\n",
              "      <td>Porto Alegre</td>\n",
              "      <td>1650</td>\n",
              "    </tr>\n",
              "    <tr>\n",
              "      <th>1</th>\n",
              "      <td>Campinas</td>\n",
              "      <td>1500</td>\n",
              "    </tr>\n",
              "  </tbody>\n",
              "</table>\n",
              "</div>"
            ],
            "text/plain": [
              "             city  valor_aluguel\n",
              "4       São Paulo           3400\n",
              "0  Belo Horizonte           2300\n",
              "3  Rio de Janeiro           2300\n",
              "2    Porto Alegre           1650\n",
              "1        Campinas           1500"
            ]
          },
          "metadata": {
            "tags": []
          },
          "execution_count": 44
        }
      ]
    },
    {
      "cell_type": "code",
      "metadata": {
        "id": "5fl1Bu_yZR-S",
        "colab_type": "code",
        "colab": {
          "base_uri": "https://localhost:8080/",
          "height": 419
        },
        "outputId": "5b8daef0-7dcf-4519-fe30-6de258fc63c1"
      },
      "source": [
        "df[['city', 'valor_aluguel']].sort_values(by='valor_aluguel')"
      ],
      "execution_count": 45,
      "outputs": [
        {
          "output_type": "execute_result",
          "data": {
            "text/html": [
              "<div>\n",
              "<style scoped>\n",
              "    .dataframe tbody tr th:only-of-type {\n",
              "        vertical-align: middle;\n",
              "    }\n",
              "\n",
              "    .dataframe tbody tr th {\n",
              "        vertical-align: top;\n",
              "    }\n",
              "\n",
              "    .dataframe thead th {\n",
              "        text-align: right;\n",
              "    }\n",
              "</style>\n",
              "<table border=\"1\" class=\"dataframe\">\n",
              "  <thead>\n",
              "    <tr style=\"text-align: right;\">\n",
              "      <th></th>\n",
              "      <th>city</th>\n",
              "      <th>valor_aluguel</th>\n",
              "    </tr>\n",
              "  </thead>\n",
              "  <tbody>\n",
              "    <tr>\n",
              "      <th>10627</th>\n",
              "      <td>Belo Horizonte</td>\n",
              "      <td>450</td>\n",
              "    </tr>\n",
              "    <tr>\n",
              "      <th>4022</th>\n",
              "      <td>Belo Horizonte</td>\n",
              "      <td>460</td>\n",
              "    </tr>\n",
              "    <tr>\n",
              "      <th>6191</th>\n",
              "      <td>Campinas</td>\n",
              "      <td>500</td>\n",
              "    </tr>\n",
              "    <tr>\n",
              "      <th>8548</th>\n",
              "      <td>Campinas</td>\n",
              "      <td>500</td>\n",
              "    </tr>\n",
              "    <tr>\n",
              "      <th>3694</th>\n",
              "      <td>Porto Alegre</td>\n",
              "      <td>500</td>\n",
              "    </tr>\n",
              "    <tr>\n",
              "      <th>...</th>\n",
              "      <td>...</td>\n",
              "      <td>...</td>\n",
              "    </tr>\n",
              "    <tr>\n",
              "      <th>5525</th>\n",
              "      <td>São Paulo</td>\n",
              "      <td>20000</td>\n",
              "    </tr>\n",
              "    <tr>\n",
              "      <th>2619</th>\n",
              "      <td>São Paulo</td>\n",
              "      <td>24000</td>\n",
              "    </tr>\n",
              "    <tr>\n",
              "      <th>6947</th>\n",
              "      <td>São Paulo</td>\n",
              "      <td>25000</td>\n",
              "    </tr>\n",
              "    <tr>\n",
              "      <th>7748</th>\n",
              "      <td>São Paulo</td>\n",
              "      <td>30000</td>\n",
              "    </tr>\n",
              "    <tr>\n",
              "      <th>2182</th>\n",
              "      <td>São Paulo</td>\n",
              "      <td>45000</td>\n",
              "    </tr>\n",
              "  </tbody>\n",
              "</table>\n",
              "<p>10692 rows × 2 columns</p>\n",
              "</div>"
            ],
            "text/plain": [
              "                 city  valor_aluguel\n",
              "10627  Belo Horizonte            450\n",
              "4022   Belo Horizonte            460\n",
              "6191         Campinas            500\n",
              "8548         Campinas            500\n",
              "3694     Porto Alegre            500\n",
              "...               ...            ...\n",
              "5525        São Paulo          20000\n",
              "2619        São Paulo          24000\n",
              "6947        São Paulo          25000\n",
              "7748        São Paulo          30000\n",
              "2182        São Paulo          45000\n",
              "\n",
              "[10692 rows x 2 columns]"
            ]
          },
          "metadata": {
            "tags": []
          },
          "execution_count": 45
        }
      ]
    },
    {
      "cell_type": "code",
      "metadata": {
        "id": "C1yOLofOWvTJ",
        "colab_type": "code",
        "colab": {}
      },
      "source": [
        "#Quantos banheiros existem em média nas residencias com alugueis mais altos? \n",
        "## definicao: algueis mais altos são valores acima de 5000\n",
        "\n",
        "df['aluguel_alto'] = ['Alto' if x > 5000 else 'Baixo' for x in df['valor_aluguel']]\n"
      ],
      "execution_count": 46,
      "outputs": []
    },
    {
      "cell_type": "code",
      "metadata": {
        "id": "YcKdPH9EWvTN",
        "colab_type": "code",
        "colab": {
          "base_uri": "https://localhost:8080/",
          "height": 85
        },
        "outputId": "2d5ca0c1-eb4e-4230-f275-a01a7cba4c43"
      },
      "source": [
        "df.groupby('aluguel_alto')['bathroom'].mean()"
      ],
      "execution_count": 47,
      "outputs": [
        {
          "output_type": "execute_result",
          "data": {
            "text/plain": [
              "aluguel_alto\n",
              "Alto     3.729027\n",
              "Baixo    1.772108\n",
              "Name: bathroom, dtype: float64"
            ]
          },
          "metadata": {
            "tags": []
          },
          "execution_count": 47
        }
      ]
    },
    {
      "cell_type": "markdown",
      "metadata": {
        "id": "My044pnUWvTS",
        "colab_type": "text"
      },
      "source": [
        "### Hipóteses\n",
        "\n",
        "- São Paulo é a cidade com o aluguel mais caro.\n",
        "- Quanto mais banheiros em um imovel maior o valor do aluguel.\n",
        "- Os imoveis com mobilia tem o aluguel mais alto. "
      ]
    },
    {
      "cell_type": "code",
      "metadata": {
        "id": "iASZC3EaWvTT",
        "colab_type": "code",
        "colab": {
          "base_uri": "https://localhost:8080/",
          "height": 111
        },
        "outputId": "68c64142-1807-4c9b-af11-8bad0071258e"
      },
      "source": [
        "df[['valor_aluguel', 'bathroom']].corr(method = 'spearman')"
      ],
      "execution_count": 48,
      "outputs": [
        {
          "output_type": "execute_result",
          "data": {
            "text/html": [
              "<div>\n",
              "<style scoped>\n",
              "    .dataframe tbody tr th:only-of-type {\n",
              "        vertical-align: middle;\n",
              "    }\n",
              "\n",
              "    .dataframe tbody tr th {\n",
              "        vertical-align: top;\n",
              "    }\n",
              "\n",
              "    .dataframe thead th {\n",
              "        text-align: right;\n",
              "    }\n",
              "</style>\n",
              "<table border=\"1\" class=\"dataframe\">\n",
              "  <thead>\n",
              "    <tr style=\"text-align: right;\">\n",
              "      <th></th>\n",
              "      <th>valor_aluguel</th>\n",
              "      <th>bathroom</th>\n",
              "    </tr>\n",
              "  </thead>\n",
              "  <tbody>\n",
              "    <tr>\n",
              "      <th>valor_aluguel</th>\n",
              "      <td>1.00000</td>\n",
              "      <td>0.71589</td>\n",
              "    </tr>\n",
              "    <tr>\n",
              "      <th>bathroom</th>\n",
              "      <td>0.71589</td>\n",
              "      <td>1.00000</td>\n",
              "    </tr>\n",
              "  </tbody>\n",
              "</table>\n",
              "</div>"
            ],
            "text/plain": [
              "               valor_aluguel  bathroom\n",
              "valor_aluguel        1.00000   0.71589\n",
              "bathroom             0.71589   1.00000"
            ]
          },
          "metadata": {
            "tags": []
          },
          "execution_count": 48
        }
      ]
    },
    {
      "cell_type": "code",
      "metadata": {
        "id": "bXXTCJfEWvTd",
        "colab_type": "code",
        "colab": {}
      },
      "source": [
        "aux = pd.DataFrame({'colunas' : df.columns, 'tipos' : df.dtypes})"
      ],
      "execution_count": 49,
      "outputs": []
    },
    {
      "cell_type": "code",
      "metadata": {
        "id": "0FBe-1idWvUM",
        "colab_type": "code",
        "colab": {}
      },
      "source": [
        "lista = list(aux[aux['tipos'] == 'int64']['colunas'])"
      ],
      "execution_count": 50,
      "outputs": []
    },
    {
      "cell_type": "code",
      "metadata": {
        "id": "tHN17z1pWvVf",
        "colab_type": "code",
        "colab": {
          "base_uri": "https://localhost:8080/",
          "height": 629
        },
        "outputId": "4fbf3240-4f8e-4b06-bada-503b2122975a"
      },
      "source": [
        "for coluna in lista:\n",
        "    print(coluna)\n",
        "    print(df[['valor_aluguel', coluna]].corr(method = 'spearman'))"
      ],
      "execution_count": 51,
      "outputs": [
        {
          "output_type": "stream",
          "text": [
            "area\n",
            "               valor_aluguel      area\n",
            "valor_aluguel       1.000000  0.728095\n",
            "area                0.728095  1.000000\n",
            "rooms\n",
            "               valor_aluguel     rooms\n",
            "valor_aluguel       1.000000  0.600969\n",
            "rooms               0.600969  1.000000\n",
            "bathroom\n",
            "               valor_aluguel  bathroom\n",
            "valor_aluguel        1.00000   0.71589\n",
            "bathroom             0.71589   1.00000\n",
            "parking spaces\n",
            "                valor_aluguel  parking spaces\n",
            "valor_aluguel        1.000000        0.620175\n",
            "parking spaces       0.620175        1.000000\n",
            "hoa (R$)\n",
            "               valor_aluguel  hoa (R$)\n",
            "valor_aluguel       1.000000  0.355785\n",
            "hoa (R$)            0.355785  1.000000\n",
            "valor_aluguel\n",
            "               valor_aluguel  valor_aluguel\n",
            "valor_aluguel            1.0            1.0\n",
            "valor_aluguel            1.0            1.0\n",
            "property tax (R$)\n",
            "                   valor_aluguel  property tax (R$)\n",
            "valor_aluguel            1.00000            0.65923\n",
            "property tax (R$)        0.65923            1.00000\n",
            "fire insurance (R$)\n",
            "                     valor_aluguel  fire insurance (R$)\n",
            "valor_aluguel             1.000000             0.988045\n",
            "fire insurance (R$)       0.988045             1.000000\n",
            "total (R$)\n",
            "               valor_aluguel  total (R$)\n",
            "valor_aluguel       1.000000    0.968176\n",
            "total (R$)          0.968176    1.000000\n"
          ],
          "name": "stdout"
        }
      ]
    },
    {
      "cell_type": "markdown",
      "metadata": {
        "id": "mmop_7l2WvV4",
        "colab_type": "text"
      },
      "source": [
        "## Visualização de dados"
      ]
    },
    {
      "cell_type": "code",
      "metadata": {
        "id": "RQteYUngWvV7",
        "colab_type": "code",
        "colab": {}
      },
      "source": [
        "import seaborn as sns\n",
        "import matplotlib.pyplot as plt"
      ],
      "execution_count": 69,
      "outputs": []
    },
    {
      "cell_type": "code",
      "metadata": {
        "id": "dTA5zyolPD_N",
        "colab_type": "code",
        "colab": {}
      },
      "source": [
        "sns.set_style('whitegrid')"
      ],
      "execution_count": 61,
      "outputs": []
    },
    {
      "cell_type": "code",
      "metadata": {
        "id": "V8GGxSVIWvWN",
        "colab_type": "code",
        "colab": {
          "base_uri": "https://localhost:8080/",
          "height": 193
        },
        "outputId": "dc287edf-9c51-4c31-816d-575f7cbc1661"
      },
      "source": [
        "df.head(3)"
      ],
      "execution_count": 63,
      "outputs": [
        {
          "output_type": "execute_result",
          "data": {
            "text/html": [
              "<div>\n",
              "<style scoped>\n",
              "    .dataframe tbody tr th:only-of-type {\n",
              "        vertical-align: middle;\n",
              "    }\n",
              "\n",
              "    .dataframe tbody tr th {\n",
              "        vertical-align: top;\n",
              "    }\n",
              "\n",
              "    .dataframe thead th {\n",
              "        text-align: right;\n",
              "    }\n",
              "</style>\n",
              "<table border=\"1\" class=\"dataframe\">\n",
              "  <thead>\n",
              "    <tr style=\"text-align: right;\">\n",
              "      <th></th>\n",
              "      <th>city</th>\n",
              "      <th>area</th>\n",
              "      <th>rooms</th>\n",
              "      <th>bathroom</th>\n",
              "      <th>parking spaces</th>\n",
              "      <th>floor</th>\n",
              "      <th>animal</th>\n",
              "      <th>furniture</th>\n",
              "      <th>hoa (R$)</th>\n",
              "      <th>valor_aluguel</th>\n",
              "      <th>property tax (R$)</th>\n",
              "      <th>fire insurance (R$)</th>\n",
              "      <th>total (R$)</th>\n",
              "      <th>aluguel_alto</th>\n",
              "    </tr>\n",
              "  </thead>\n",
              "  <tbody>\n",
              "    <tr>\n",
              "      <th>0</th>\n",
              "      <td>São Paulo</td>\n",
              "      <td>70</td>\n",
              "      <td>2</td>\n",
              "      <td>1</td>\n",
              "      <td>1</td>\n",
              "      <td>7</td>\n",
              "      <td>acept</td>\n",
              "      <td>furnished</td>\n",
              "      <td>2065</td>\n",
              "      <td>3300</td>\n",
              "      <td>211</td>\n",
              "      <td>42</td>\n",
              "      <td>5618</td>\n",
              "      <td>Baixo</td>\n",
              "    </tr>\n",
              "    <tr>\n",
              "      <th>1</th>\n",
              "      <td>São Paulo</td>\n",
              "      <td>320</td>\n",
              "      <td>4</td>\n",
              "      <td>4</td>\n",
              "      <td>0</td>\n",
              "      <td>20</td>\n",
              "      <td>acept</td>\n",
              "      <td>not furnished</td>\n",
              "      <td>1200</td>\n",
              "      <td>4960</td>\n",
              "      <td>1750</td>\n",
              "      <td>63</td>\n",
              "      <td>7973</td>\n",
              "      <td>Baixo</td>\n",
              "    </tr>\n",
              "    <tr>\n",
              "      <th>2</th>\n",
              "      <td>Porto Alegre</td>\n",
              "      <td>80</td>\n",
              "      <td>1</td>\n",
              "      <td>1</td>\n",
              "      <td>1</td>\n",
              "      <td>6</td>\n",
              "      <td>acept</td>\n",
              "      <td>not furnished</td>\n",
              "      <td>1000</td>\n",
              "      <td>2800</td>\n",
              "      <td>0</td>\n",
              "      <td>41</td>\n",
              "      <td>3841</td>\n",
              "      <td>Baixo</td>\n",
              "    </tr>\n",
              "  </tbody>\n",
              "</table>\n",
              "</div>"
            ],
            "text/plain": [
              "           city  area  rooms  ...  fire insurance (R$)  total (R$) aluguel_alto\n",
              "0     São Paulo    70      2  ...                   42        5618        Baixo\n",
              "1     São Paulo   320      4  ...                   63        7973        Baixo\n",
              "2  Porto Alegre    80      1  ...                   41        3841        Baixo\n",
              "\n",
              "[3 rows x 14 columns]"
            ]
          },
          "metadata": {
            "tags": []
          },
          "execution_count": 63
        }
      ]
    },
    {
      "cell_type": "code",
      "metadata": {
        "id": "IruCSHSBWvWe",
        "colab_type": "code",
        "colab": {
          "base_uri": "https://localhost:8080/",
          "height": 296
        },
        "outputId": "a7b973ac-8ec2-403b-b230-635a62571642"
      },
      "source": [
        "sns.countplot(x= 'city', data=df)"
      ],
      "execution_count": 64,
      "outputs": [
        {
          "output_type": "execute_result",
          "data": {
            "text/plain": [
              "<matplotlib.axes._subplots.AxesSubplot at 0x7f17cafe0518>"
            ]
          },
          "metadata": {
            "tags": []
          },
          "execution_count": 64
        },
        {
          "output_type": "display_data",
          "data": {
            "image/png": "[encoded data removed]",
            "text/plain": [
              "<Figure size 432x288 with 1 Axes>"
            ]
          },
          "metadata": {
            "tags": []
          }
        }
      ]
    },
    {
      "cell_type": "code",
      "metadata": {
        "id": "6BxeDKmXOw7H",
        "colab_type": "code",
        "colab": {
          "base_uri": "https://localhost:8080/",
          "height": 296
        },
        "outputId": "62976de4-c3b3-4a72-c0a3-67167c93bee3"
      },
      "source": [
        "sns.barplot(x='city', y='valor_aluguel', data=df)"
      ],
      "execution_count": 65,
      "outputs": [
        {
          "output_type": "execute_result",
          "data": {
            "text/plain": [
              "<matplotlib.axes._subplots.AxesSubplot at 0x7f17cccfe320>"
            ]
          },
          "metadata": {
            "tags": []
          },
          "execution_count": 65
        },
        {
          "output_type": "display_data",
          "data": {
            "image/png": "[encoded data removed]",
            "text/plain": [
              "<Figure size 432x288 with 1 Axes>"
            ]
          },
          "metadata": {
            "tags": []
          }
        }
      ]
    },
    {
      "cell_type": "markdown",
      "metadata": {
        "id": "-XS25_rlPaBu",
        "colab_type": "text"
      },
      "source": [
        "A melhor forma seria fazendo um groupby"
      ]
    },
    {
      "cell_type": "code",
      "metadata": {
        "id": "sE6aUU4POyIj",
        "colab_type": "code",
        "colab": {}
      },
      "source": [
        "dados = df.groupby('city')['valor_aluguel'].mean().reset_index().sort_values(ascending=False, by='valor_aluguel')"
      ],
      "execution_count": 67,
      "outputs": []
    },
    {
      "cell_type": "code",
      "metadata": {
        "id": "7JWqsEywPuze",
        "colab_type": "code",
        "colab": {
          "base_uri": "https://localhost:8080/",
          "height": 296
        },
        "outputId": "466fa1df-8ef2-4df7-d484-84543d3af8ca"
      },
      "source": [
        "sns.barplot(x='city', y='valor_aluguel', data=dados)"
      ],
      "execution_count": 68,
      "outputs": [
        {
          "output_type": "execute_result",
          "data": {
            "text/plain": [
              "<matplotlib.axes._subplots.AxesSubplot at 0x7f17ca1676d8>"
            ]
          },
          "metadata": {
            "tags": []
          },
          "execution_count": 68
        },
        {
          "output_type": "display_data",
          "data": {
            "image/png": "[encoded data removed]",
            "text/plain": [
              "<Figure size 432x288 with 1 Axes>"
            ]
          },
          "metadata": {
            "tags": []
          }
        }
      ]
    },
    {
      "cell_type": "markdown",
      "metadata": {
        "id": "n8JbfzWTSpAj",
        "colab_type": "text"
      },
      "source": [
        "colocando um tamanho"
      ]
    },
    {
      "cell_type": "code",
      "metadata": {
        "colab_type": "code",
        "id": "ufTe2PKMRrlx",
        "colab": {
          "base_uri": "https://localhost:8080/",
          "height": 405
        },
        "outputId": "51e7890a-00ad-4cf5-dee1-c588ae2fc489"
      },
      "source": [
        "plt.figure(figsize=(10,6))\n",
        "sns.barplot(x='city', y='valor_aluguel', data=dados)"
      ],
      "execution_count": 70,
      "outputs": [
        {
          "output_type": "execute_result",
          "data": {
            "text/plain": [
              "<matplotlib.axes._subplots.AxesSubplot at 0x7f17ca09d6a0>"
            ]
          },
          "metadata": {
            "tags": []
          },
          "execution_count": 70
        },
        {
          "output_type": "display_data",
          "data": {
            "image/png": "[encoded data removed]",
            "text/plain": [
              "<Figure size 720x432 with 1 Axes>"
            ]
          },
          "metadata": {
            "tags": []
          }
        }
      ]
    },
    {
      "cell_type": "markdown",
      "metadata": {
        "id": "OD5eM-NqSmB0",
        "colab_type": "text"
      },
      "source": [
        "Colocando um titulo"
      ]
    },
    {
      "cell_type": "code",
      "metadata": {
        "id": "GD48vGhvWvW9",
        "colab_type": "code",
        "colab": {
          "base_uri": "https://localhost:8080/",
          "height": 421
        },
        "outputId": "f404714d-a48a-4b47-8432-2275205200c4"
      },
      "source": [
        "plt.figure(figsize=(10,6))\n",
        "sns.barplot(x='city', y='valor_aluguel', data=dados)\n",
        "plt.title('Titulo')"
      ],
      "execution_count": 71,
      "outputs": [
        {
          "output_type": "execute_result",
          "data": {
            "text/plain": [
              "Text(0.5, 1.0, 'Titulo')"
            ]
          },
          "metadata": {
            "tags": []
          },
          "execution_count": 71
        },
        {
          "output_type": "display_data",
          "data": {
            "image/png": "[encoded data removed]",
            "text/plain": [
              "<Figure size 720x432 with 1 Axes>"
            ]
          },
          "metadata": {
            "tags": []
          }
        }
      ]
    },
    {
      "cell_type": "markdown",
      "metadata": {
        "id": "J4eZ9hzPSxel",
        "colab_type": "text"
      },
      "source": [
        "Ou:"
      ]
    },
    {
      "cell_type": "code",
      "metadata": {
        "id": "T20LskMoWvXD",
        "colab_type": "code",
        "colab": {
          "base_uri": "https://localhost:8080/",
          "height": 421
        },
        "outputId": "6a5625cd-bbae-4f9c-c35f-249c8f542bdb"
      },
      "source": [
        "plt.figure(figsize=(10,6))\n",
        "ax = sns.barplot(x='city', y='valor_aluguel', data=dados)\n",
        "ax.set_title('titulo')"
      ],
      "execution_count": 72,
      "outputs": [
        {
          "output_type": "execute_result",
          "data": {
            "text/plain": [
              "Text(0.5, 1.0, 'titulo')"
            ]
          },
          "metadata": {
            "tags": []
          },
          "execution_count": 72
        },
        {
          "output_type": "display_data",
          "data": {
            "image/png": "[encoded data removed]",
            "text/plain": [
              "<Figure size 720x432 with 1 Axes>"
            ]
          },
          "metadata": {
            "tags": []
          }
        }
      ]
    },
    {
      "cell_type": "markdown",
      "metadata": {
        "id": "AoMTEZwhTLTS",
        "colab_type": "text"
      },
      "source": [
        "Rotacionando as labels"
      ]
    },
    {
      "cell_type": "code",
      "metadata": {
        "id": "sROodnOgTN8A",
        "colab_type": "code",
        "colab": {
          "base_uri": "https://localhost:8080/",
          "height": 484
        },
        "outputId": "f78523e0-2a42-4693-82d2-2d9cfa0b18d6"
      },
      "source": [
        "plt.figure(figsize=(10,6))\n",
        "ax = sns.barplot(x='city', y='valor_aluguel', data=dados)\n",
        "ax.set_title('Titulo')\n",
        "plt.xticks(rotation=90)"
      ],
      "execution_count": 75,
      "outputs": [
        {
          "output_type": "execute_result",
          "data": {
            "text/plain": [
              "(array([0, 1, 2, 3, 4]), <a list of 5 Text major ticklabel objects>)"
            ]
          },
          "metadata": {
            "tags": []
          },
          "execution_count": 75
        },
        {
          "output_type": "display_data",
          "data": {
            "image/png": "[encoded data removed]",
            "text/plain": [
              "<Figure size 720x432 with 1 Axes>"
            ]
          },
          "metadata": {
            "tags": []
          }
        }
      ]
    },
    {
      "cell_type": "markdown",
      "metadata": {
        "id": "lGbQ1mwpTqbF",
        "colab_type": "text"
      },
      "source": [
        "Distplot, como se fosse um histograma"
      ]
    },
    {
      "cell_type": "code",
      "metadata": {
        "id": "iWzsCsFGTuaq",
        "colab_type": "code",
        "colab": {
          "base_uri": "https://localhost:8080/",
          "height": 297
        },
        "outputId": "32c0c53c-f3c8-4fbd-f4e1-0ab00b348a34"
      },
      "source": [
        "sns.distplot(df['valor_aluguel'])"
      ],
      "execution_count": 76,
      "outputs": [
        {
          "output_type": "execute_result",
          "data": {
            "text/plain": [
              "<matplotlib.axes._subplots.AxesSubplot at 0x7f17c9c4be10>"
            ]
          },
          "metadata": {
            "tags": []
          },
          "execution_count": 76
        },
        {
          "output_type": "display_data",
          "data": {
            "image/png": "[encoded data removed]",
            "text/plain": [
              "<Figure size 432x288 with 1 Axes>"
            ]
          },
          "metadata": {
            "tags": []
          }
        }
      ]
    },
    {
      "cell_type": "markdown",
      "metadata": {
        "id": "bX_sKeV1SztX",
        "colab_type": "text"
      },
      "source": [
        "grafico de scatterplot, da distribuição do preço dos alugueis de acordo com a quantidade de banheiros"
      ]
    },
    {
      "cell_type": "code",
      "metadata": {
        "id": "IhINYloJWvXj",
        "colab_type": "code",
        "colab": {
          "base_uri": "https://localhost:8080/",
          "height": 297
        },
        "outputId": "57aad68d-6da8-460d-a044-1dc1967332c7"
      },
      "source": [
        "sns.scatterplot(x='valor_aluguel', y='bathroom', data=df)"
      ],
      "execution_count": 77,
      "outputs": [
        {
          "output_type": "execute_result",
          "data": {
            "text/plain": [
              "<matplotlib.axes._subplots.AxesSubplot at 0x7f17c9abb438>"
            ]
          },
          "metadata": {
            "tags": []
          },
          "execution_count": 77
        },
        {
          "output_type": "display_data",
          "data": {
            "image/png": "[encoded data removed]",
            "text/plain": [
              "<Figure size 432x288 with 1 Axes>"
            ]
          },
          "metadata": {
            "tags": []
          }
        }
      ]
    },
    {
      "cell_type": "markdown",
      "metadata": {
        "id": "eTIzC0RSV7HJ",
        "colab_type": "text"
      },
      "source": [
        "Agora utilizando o parametro **hue** para separar os grupos"
      ]
    },
    {
      "cell_type": "code",
      "metadata": {
        "colab_type": "code",
        "id": "wtkqJhgUWBno",
        "colab": {
          "base_uri": "https://localhost:8080/",
          "height": 297
        },
        "outputId": "115d8063-0704-4c2f-bb0c-bb05ff7e59a8"
      },
      "source": [
        "sns.scatterplot(x='valor_aluguel', y='bathroom', hue ='city', size = 'aluguel_alto', data=df)"
      ],
      "execution_count": 80,
      "outputs": [
        {
          "output_type": "execute_result",
          "data": {
            "text/plain": [
              "<matplotlib.axes._subplots.AxesSubplot at 0x7f17c995d160>"
            ]
          },
          "metadata": {
            "tags": []
          },
          "execution_count": 80
        },
        {
          "output_type": "display_data",
          "data": {
            "image/png": "[encoded data removed]",
            "text/plain": [
              "<Figure size 432x288 with 1 Axes>"
            ]
          },
          "metadata": {
            "tags": []
          }
        }
      ]
    },
    {
      "cell_type": "code",
      "metadata": {
        "id": "pUWgbaReVnZT",
        "colab_type": "code",
        "colab": {
          "base_uri": "https://localhost:8080/",
          "height": 369
        },
        "outputId": "93a25287-a66f-4256-d72b-0711d925481d"
      },
      "source": [
        "sns.heatmap(df.corr())"
      ],
      "execution_count": 81,
      "outputs": [
        {
          "output_type": "execute_result",
          "data": {
            "text/plain": [
              "<matplotlib.axes._subplots.AxesSubplot at 0x7f17c98b3d30>"
            ]
          },
          "metadata": {
            "tags": []
          },
          "execution_count": 81
        },
        {
          "output_type": "display_data",
          "data": {
            "image/png": "[encoded data removed]",
            "text/plain": [
              "<Figure size 432x288 with 2 Axes>"
            ]
          },
          "metadata": {
            "tags": []
          }
        }
      ]
    },
    {
      "cell_type": "code",
      "metadata": {
        "id": "24x426NTX4mq",
        "colab_type": "code",
        "colab": {
          "base_uri": "https://localhost:8080/",
          "height": 369
        },
        "outputId": "f0c56506-7243-4e79-bedc-04b70043b2ad"
      },
      "source": [
        "sns.heatmap(df.corr(), annot=True)"
      ],
      "execution_count": 83,
      "outputs": [
        {
          "output_type": "execute_result",
          "data": {
            "text/plain": [
              "<matplotlib.axes._subplots.AxesSubplot at 0x7f17c8603cf8>"
            ]
          },
          "metadata": {
            "tags": []
          },
          "execution_count": 83
        },
        {
          "output_type": "display_data",
          "data": {
            "image/png": "[encoded data removed]",
            "text/plain": [
              "<Figure size 432x288 with 2 Axes>"
            ]
          },
          "metadata": {
            "tags": []
          }
        }
      ]
    },
    {
      "cell_type": "code",
      "metadata": {
        "id": "uby0FHcJX8mo",
        "colab_type": "code",
        "colab": {
          "base_uri": "https://localhost:8080/",
          "height": 441
        },
        "outputId": "28b63a07-4250-4662-b68e-6b8395ee49fc"
      },
      "source": [
        "g = sns.FacetGrid(df, col='city', row='aluguel_alto')\n",
        "g = g.map(plt.hist, 'valor_aluguel')"
      ],
      "execution_count": 85,
      "outputs": [
        {
          "output_type": "display_data",
          "data": {
            "image/png": "[encoded data removed]",
            "text/plain": [
              "<Figure size 1080x432 with 10 Axes>"
            ]
          },
          "metadata": {
            "tags": []
          }
        }
      ]
    },
    {
      "cell_type": "code",
      "metadata": {
        "id": "YSYG_VgnYW9_",
        "colab_type": "code",
        "colab": {}
      },
      "source": [
        ""
      ],
      "execution_count": null,
      "outputs": []
    }
  ]
}